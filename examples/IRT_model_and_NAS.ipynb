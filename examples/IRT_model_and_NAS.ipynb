{
 "cells": [
  {
   "cell_type": "markdown",
   "metadata": {
    "id": "-lZs9rLxAArc"
   },
   "source": [
    "## This Notebook serves as a walthrough to irt models & demonstrate following objective:\n",
    "  1. Obtain Item parameters of a 4 PL (parameter logistic) IRT model by training an equivalent Deep Neural Network.\n",
    "\n",
    "  2. Realise smaller models such as 1PL via 4PL model trained using hyper parameter search viz. NAS functionality"
   ]
  },
  {
   "cell_type": "markdown",
   "metadata": {
    "id": "BLHVkKZlAArZ"
   },
   "source": [
    "### Item Response Theory: Brief context\n",
    "It is also known as psychometric theory or latent response theory. It measures the ability or latent trait of a person by looking at the responses for items or questions asked using statistical models. It assumes as ability increases, probability of correct response also increases. This relationship can be depicted from Item Characteristic Curve (ICC) which is S-shaped or sigmoid curve. It calculates parameters like discrimination, difficulty and guessability for each item and ability for every user. "
   ]
  },
  {
   "cell_type": "markdown",
   "metadata": {
    "id": "aV0Ic939AArb"
   },
   "source": [
    "### Model specification -- keras 4PL\n",
    "    `4PL model` uses Four parameters difficulty, item discrimination, item guesssability and item slip to calculate the probability of correct response given the ability of person.\n",
    ". . ."
   ]
  },
  {
   "cell_type": "markdown",
   "metadata": {
    "id": "YdB8f69vAArb"
   },
   "source": [
    "If $i$ be a $question$ and $j$ be a $user$. Then, Probability $P_{ij}$ of an $j^{th}$ $user$ responding correctly to $i^{th}$ $question$, where $a_i$ is the $discrimination$ parameter, $b_i$ is difficulty, $c_j$ is guessability and $s_j$ is probability of slip for all $questions$, is given by:\n",
    "\n",
    "\\begin{equation}\\\n",
    "P_{ij} =  c_i+ [(1-s_i) - c_i]Sigmoid(a_i(\\theta_j-b_i))\n",
    "\\end{equation}\n",
    "Where\n",
    "\\begin{equation}\n",
    "\\text{Sigmoid}(x) =  \\frac{e^{x}}{1 + e^{x}}\n",
    "\\end{equation}"
   ]
  },
  {
   "cell_type": "markdown",
   "metadata": {
    "id": "C3I_87mRtIEm"
   },
   "source": [
    "_________________________________________________\n",
    "\n",
    "### 1. Load 1-Parameter logistic IRT dataset with values of item difficulties levels, user abilities & response of various users on various given items."
   ]
  },
  {
   "cell_type": "code",
   "execution_count": 1,
   "metadata": {
    "colab": {
     "base_uri": "https://localhost:8080/",
     "height": 298
    },
    "id": "oMWoNHMckgdw",
    "outputId": "4d12fba0-049e-4beb-b35c-c93d455bcf33"
   },
   "outputs": [
    {
     "name": "stderr",
     "output_type": "stream",
     "text": [
      "2021-08-05 12:17:12,406\tINFO node.py:423 -- Process STDOUT and STDERR is being redirected to /tmp/ray/session_2021-08-05_12-17-12_258/logs.\n",
      "2021-08-05 12:17:12,530\tINFO services.py:363 -- Waiting for redis server at 127.0.0.1:64240 to respond...\n",
      "2021-08-05 12:17:12,663\tINFO services.py:363 -- Waiting for redis server at 127.0.0.1:30595 to respond...\n",
      "2021-08-05 12:17:12,667\tINFO services.py:760 -- Starting Redis shard with 20.0 GB max memory.\n",
      "2021-08-05 12:17:12,706\tINFO services.py:1384 -- Starting the Plasma object store with 1.0 GB memory using /dev/shm.\n"
     ]
    },
    {
     "name": "stdout",
     "output_type": "stream",
     "text": [
      "shape of x_train_user: (95000, 100) \n",
      "shape of x_train_questions: (95000, 100) \n",
      "shape of y_train: (95000,)\n"
     ]
    },
    {
     "data": {
      "text/html": [
       "<div>\n",
       "<style scoped>\n",
       "    .dataframe tbody tr th:only-of-type {\n",
       "        vertical-align: middle;\n",
       "    }\n",
       "\n",
       "    .dataframe tbody tr th {\n",
       "        vertical-align: top;\n",
       "    }\n",
       "\n",
       "    .dataframe thead th {\n",
       "        text-align: right;\n",
       "    }\n",
       "</style>\n",
       "<table border=\"1\" class=\"dataframe\">\n",
       "  <thead>\n",
       "    <tr style=\"text-align: right;\">\n",
       "      <th></th>\n",
       "      <th>question_code</th>\n",
       "      <th>user_id</th>\n",
       "      <th>difficulty</th>\n",
       "      <th>ability</th>\n",
       "      <th>response</th>\n",
       "      <th>correctness</th>\n",
       "    </tr>\n",
       "  </thead>\n",
       "  <tbody>\n",
       "    <tr>\n",
       "      <th>0</th>\n",
       "      <td>que_99</td>\n",
       "      <td>user_99</td>\n",
       "      <td>1.0</td>\n",
       "      <td>0.559055</td>\n",
       "      <td>0.391516</td>\n",
       "      <td>0</td>\n",
       "    </tr>\n",
       "    <tr>\n",
       "      <th>1</th>\n",
       "      <td>que_99</td>\n",
       "      <td>user_99</td>\n",
       "      <td>1.0</td>\n",
       "      <td>0.559055</td>\n",
       "      <td>0.391516</td>\n",
       "      <td>0</td>\n",
       "    </tr>\n",
       "    <tr>\n",
       "      <th>2</th>\n",
       "      <td>que_99</td>\n",
       "      <td>user_99</td>\n",
       "      <td>1.0</td>\n",
       "      <td>0.559055</td>\n",
       "      <td>0.391516</td>\n",
       "      <td>1</td>\n",
       "    </tr>\n",
       "  </tbody>\n",
       "</table>\n",
       "</div>"
      ],
      "text/plain": [
       "  question_code  user_id  difficulty   ability  response  correctness\n",
       "0        que_99  user_99         1.0  0.559055  0.391516            0\n",
       "1        que_99  user_99         1.0  0.559055  0.391516            0\n",
       "2        que_99  user_99         1.0  0.559055  0.391516            1"
      ]
     },
     "execution_count": 1,
     "metadata": {
      "tags": []
     },
     "output_type": "execute_result"
    }
   ],
   "source": [
    "import pandas as pd\n",
    "import numpy as np\n",
    "from sklearn.model_selection import train_test_split\n",
    "\n",
    "def generate_train_test(train_data, size= 0.1):\n",
    "    df_new = train_data[['question_code', 'user_id', 'correctness']]\n",
    "    df_cols = df_new.columns\n",
    "    xtrain, xtest, ytrain, ytest = train_test_split(df_new[df_cols[:-1]], df_new[df_cols[-1]], test_size=size)\n",
    "    x_train_user = pd.get_dummies(xtrain['user_id']).values#contains the one-hot encoded user data\n",
    "    x_train_questions = pd.get_dummies(xtrain['question_code']).values#contains the one-hot encoded questions\n",
    "\n",
    "    y_train= ytrain.values\n",
    "    print('shape of x_train_user:', x_train_user.shape,'\\nshape of x_train_questions:', x_train_questions.shape,\n",
    "          '\\nshape of y_train:',y_train.shape)\n",
    "    return train_data, xtrain, y_train, x_train_user, x_train_questions\n",
    "\n",
    "\n",
    "path= \"../datasets/irt_4pl_dataset.csv\"\n",
    "df= pd.read_csv(path)\n",
    "\n",
    "\n",
    "train_data, xtrain, y_train, x_train_user, x_train_questions = generate_train_test(df, size= 0.05)\n",
    "df.head(3)"
   ]
  },
  {
   "cell_type": "markdown",
   "metadata": {
    "id": "yuGC1Icqrb3q"
   },
   "source": [
    "_____________________________________\n",
    "\n",
    "### 2. Instantiate a 4-Parameter Logistic IRT model, as primal model."
   ]
  },
  {
   "cell_type": "code",
   "execution_count": 2,
   "metadata": {
    "colab": {
     "base_uri": "https://localhost:8080/"
    },
    "id": "rAxtk8QKOhSR",
    "outputId": "4141d8f0-20e8-4724-b1d1-e844fcdb9a9f"
   },
   "outputs": [
    {
     "data": {
      "text/plain": [
       "fourPL(IRT_param=None, constraint='NULL', control=[], data=None, max_guessing=1,\n",
       "       na_action='NULL', start_val='NULL', type_='latent_trait')"
      ]
     },
     "execution_count": 2,
     "metadata": {
      "tags": []
     },
     "output_type": "execute_result"
    }
   ],
   "source": [
    "from mlsquare.models import fourPL\n",
    "\n",
    "primal = fourPL()\n",
    "primal"
   ]
  },
  {
   "cell_type": "markdown",
   "metadata": {
    "id": "8nCYR99quXmB"
   },
   "source": [
    "___________________________________\n",
    "\n",
    "### 3. Define initialization values for user & item parameters, boundary constraints or search space for hyper parameters. \n",
    "*Note:* Search space constraints are defined such that high regularization enforces 4PL model to imitates 1PL model, thus fitting the current 1PL dataset theoretically.\n",
    "\n",
    "**4PL model as 1PL: Passing activity_regularizers l1 to hyperOpt search for layers (discrimination, guess, slip) corresponding to 1PL dataset, that is by pushing the guess_params & slip_params contribution in overall estimation to 0 and  disc_params's contribution to 1.**"
   ]
  },
  {
   "cell_type": "code",
   "execution_count": 3,
   "metadata": {
    "id": "lfTiWpFvAArf"
   },
   "outputs": [],
   "source": [
    "from ray.tune.schedulers import AsyncHyperBandScheduler\n",
    "from ray.tune.suggest.hyperopt import HyperOptSearch\n",
    "from hyperopt import hp\n",
    "\n",
    "src_space= {\n",
    "    \"slip_params.group_lasso.l1\": hp.uniform(\"slip_params.group_lasso.l1\", 0, 10),\n",
    "    \"guess_params.group_lasso.l1\": hp.uniform(\"guess_params.group_lasso.l1\", 0, 10),\n",
    "    \"disc_params.group_lasso.l1\": hp.uniform(\"disc_params.group_lasso.l1\", 0, 10),\n",
    "\n",
    "}\n",
    "nas_params= {'search_algo_name':'hyperOpt', 'search_space':src_space, 'union':False}\n",
    "\n",
    "params_= {'disc_params':{'kernel_params':{'stddev':0.2}},\n",
    "    'guess_params':{'kernel_params':{'stddev':0.2}},\n",
    "          'slip_params':{'kernel_params':{'stddev':0.2}\n",
    "                        }\n",
    "         }"
   ]
  },
  {
   "cell_type": "markdown",
   "metadata": {
    "id": "4B9PkXQhvN1K"
   },
   "source": [
    "_________________________________________\n",
    "\n",
    "### 4. \"Dope\" the primal model to obtain an equivalent 4PL Deep Neural Network on 1PL data, passing initializations & search space constraints."
   ]
  },
  {
   "cell_type": "code",
   "execution_count": 4,
   "metadata": {
    "colab": {
     "base_uri": "https://localhost:8080/"
    },
    "id": "EglBl8ZsnZFf",
    "outputId": "cf1f0a0c-795c-4295-c34e-b3c6a1ce1c1f"
   },
   "outputs": [
    {
     "name": "stderr",
     "output_type": "stream",
     "text": [
      "Transpiling your model to it's Deep Neural Network equivalent...\n",
      "2021-08-05 12:20:05,090\tERROR worker.py:1412 -- Calling ray.init() again after it has already been called.\n"
     ]
    },
    {
     "name": "stdout",
     "output_type": "stream",
     "text": [
      "\n",
      "Intitializing fit for fourPL model. . .\n",
      "Batch_size: 128; epochs: 450;\n",
      "== Status ==\n",
      "Using AsyncHyperBand: num_stopped=0\n",
      "Bracket: Iter 90.000: None | Iter 30.000: None | Iter 10.000: None\n",
      "Bracket: Iter 90.000: None | Iter 30.000: None\n",
      "Bracket: Iter 90.000: None\n",
      "Resources requested: 0/4 CPUs, 0/1 GPUs\n",
      "Memory usage on this node: 1.4/13.6 GB\n",
      "\n"
     ]
    },
    {
     "name": "stderr",
     "output_type": "stream",
     "text": [
      "2021-08-05 12:20:05,507\tERROR worker.py:1780 -- Warning: The actor WrappedFunc has size 19782331 when pickled. It will be stored in Redis, which could cause memory issues. This may mean that its definition uses a large array or other object.\n"
     ]
    },
    {
     "name": "stdout",
     "output_type": "stream",
     "text": [
      "== Status ==\n",
      "Using AsyncHyperBand: num_stopped=0\n",
      "Bracket: Iter 90.000: None | Iter 30.000: None | Iter 10.000: None\n",
      "Bracket: Iter 90.000: None | Iter 30.000: None\n",
      "Bracket: Iter 90.000: None\n",
      "Resources requested: 4/4 CPUs, 0/1 GPUs\n",
      "Memory usage on this node: 1.5/13.6 GB\n",
      "Result logdir: /root/ray_results/hyperOpt_optimization\n",
      "Number of trials: 4 ({'RUNNING': 1, 'PENDING': 3})\n",
      "PENDING trials:\n",
      " - train_model_2_disc_params.group_lasso.l1=6.5627,guess_params.group_lasso.l1=2.9186,slip_params.group_lasso.l1=1.3818:\tPENDING\n",
      " - train_model_3_disc_params.group_lasso.l1=6.6343,guess_params.group_lasso.l1=7.145,slip_params.group_lasso.l1=5.1955:\tPENDING\n",
      " - train_model_4_disc_params.group_lasso.l1=0.8419,guess_params.group_lasso.l1=9.5492,slip_params.group_lasso.l1=4.4229:\tPENDING\n",
      "RUNNING trials:\n",
      " - train_model_1_disc_params.group_lasso.l1=2.7829,guess_params.group_lasso.l1=3.9435,slip_params.group_lasso.l1=5.9648:\tRUNNING\n",
      "\n",
      "\u001b[2m\u001b[36m(pid=312)\u001b[0m 2021-08-05 12:20:06.470238: I tensorflow/stream_executor/platform/default/dso_loader.cc:53] Successfully opened dynamic library libcudart.so.11.0\n",
      "\u001b[2m\u001b[36m(pid=312)\u001b[0m 2021-08-05 12:20:07,839\tERROR worker.py:1412 -- Calling ray.init() again after it has already been called.\n",
      "\u001b[2m\u001b[36m(pid=312)\u001b[0m \n",
      "\u001b[2m\u001b[36m(pid=312)\u001b[0m config val 1:\n",
      "\u001b[2m\u001b[36m(pid=312)\u001b[0m  key_list: ['disc_params', 'group_lasso'];\n",
      "\u001b[2m\u001b[36m(pid=312)\u001b[0m  values: {'l1': 2.7829298208870936, 'l2': 0}\n",
      "\u001b[2m\u001b[36m(pid=312)\u001b[0m \n",
      "\u001b[2m\u001b[36m(pid=312)\u001b[0m \n",
      "\u001b[2m\u001b[36m(pid=312)\u001b[0m \n",
      "\u001b[2m\u001b[36m(pid=312)\u001b[0m config val 2:\n",
      "\u001b[2m\u001b[36m(pid=312)\u001b[0m  key_list: ['guess_params', 'group_lasso'];\n",
      "\u001b[2m\u001b[36m(pid=312)\u001b[0m  values: {'l1': 3.9434923495322796, 'l2': 0}\n",
      "\u001b[2m\u001b[36m(pid=312)\u001b[0m \n",
      "\u001b[2m\u001b[36m(pid=312)\u001b[0m \n",
      "\u001b[2m\u001b[36m(pid=312)\u001b[0m \n",
      "\u001b[2m\u001b[36m(pid=312)\u001b[0m config val 3:\n",
      "\u001b[2m\u001b[36m(pid=312)\u001b[0m  key_list: ['slip_params', 'group_lasso'];\n",
      "\u001b[2m\u001b[36m(pid=312)\u001b[0m  values: {'l1': 5.964767729148698, 'l2': 0}\n",
      "\u001b[2m\u001b[36m(pid=312)\u001b[0m \n",
      "\u001b[2m\u001b[36m(pid=312)\u001b[0m \n",
      "\u001b[2m\u001b[36m(pid=312)\u001b[0m \n",
      "\u001b[2m\u001b[36m(pid=312)\u001b[0m Intitializing fit for fourPL model. . .\n",
      "\u001b[2m\u001b[36m(pid=312)\u001b[0m Batch_size: 128; epochs: 450;\n",
      "\u001b[2m\u001b[36m(pid=312)\u001b[0m 2021-08-05 12:20:08.742924: I tensorflow/stream_executor/platform/default/dso_loader.cc:53] Successfully opened dynamic library libcuda.so.1\n",
      "\u001b[2m\u001b[36m(pid=312)\u001b[0m 2021-08-05 12:20:08.774150: E tensorflow/stream_executor/cuda/cuda_driver.cc:328] failed call to cuInit: CUDA_ERROR_NO_DEVICE: no CUDA-capable device is detected\n",
      "\u001b[2m\u001b[36m(pid=312)\u001b[0m 2021-08-05 12:20:08.774212: I tensorflow/stream_executor/cuda/cuda_diagnostics.cc:169] retrieving CUDA diagnostic information for host: d005995f49c5\n",
      "\u001b[2m\u001b[36m(pid=312)\u001b[0m 2021-08-05 12:20:08.774229: I tensorflow/stream_executor/cuda/cuda_diagnostics.cc:176] hostname: d005995f49c5\n",
      "\u001b[2m\u001b[36m(pid=312)\u001b[0m 2021-08-05 12:20:08.774332: I tensorflow/stream_executor/cuda/cuda_diagnostics.cc:200] libcuda reported version is: 460.32.3\n",
      "\u001b[2m\u001b[36m(pid=312)\u001b[0m 2021-08-05 12:20:08.774364: I tensorflow/stream_executor/cuda/cuda_diagnostics.cc:204] kernel reported version is: 460.32.3\n",
      "\u001b[2m\u001b[36m(pid=312)\u001b[0m 2021-08-05 12:20:08.774373: I tensorflow/stream_executor/cuda/cuda_diagnostics.cc:310] kernel version seems to match DSO: 460.32.3\n",
      "\u001b[2m\u001b[36m(pid=312)\u001b[0m 2021-08-05 12:20:08.774710: I tensorflow/core/platform/cpu_feature_guard.cc:142] This TensorFlow binary is optimized with oneAPI Deep Neural Network Library (oneDNN) to use the following CPU instructions in performance-critical operations:  AVX2 FMA\n",
      "\u001b[2m\u001b[36m(pid=312)\u001b[0m To enable them in other operations, rebuild TensorFlow with the appropriate compiler flags.\n",
      "\u001b[2m\u001b[36m(pid=312)\u001b[0m 2021-08-05 12:20:09.082573: I tensorflow/compiler/mlir/mlir_graph_optimization_pass.cc:176] None of the MLIR Optimization Passes are enabled (registered 2)\n",
      "\u001b[2m\u001b[36m(pid=312)\u001b[0m 2021-08-05 12:20:09.082935: I tensorflow/core/platform/profile_utils/cpu_utils.cc:114] CPU Frequency: 2199995000 Hz\n",
      "\u001b[2m\u001b[36m(pid=312)\u001b[0m \n",
      "\u001b[2m\u001b[36m(pid=312)\u001b[0m    1/2969 [..............................] - ETA: 37s - loss: 0.6022 - mae: 0.3906 - accuracy: 0.6875\n",
      "\u001b[2m\u001b[36m(pid=312)\u001b[0m \b\b\b\b\b\b\b\b\b\b\b\b\b\b\b\b\b\b\b\b\b\b\b\b\b\b\b\b\b\b\b\b\b\b\b\b\b\b\b\b\b\b\b\b\b\b\b\b\b\b\b\b\b\b\b\b\b\b\b\b\b\b\b\b\b\b\b\b\b\b\b\b\b\b\b\b\b\b\b\b\b\b\b\b\b\b\b\b\b\b\b\b\b\b\b\b\b\b\b\b\b\n",
      "\u001b[2m\u001b[36m(pid=312)\u001b[0m   60/2969 [..............................] - ETA: 2s - loss: 0.5876 - mae: 0.3996 - accuracy: 0.6818 \n",
      "\u001b[2m\u001b[36m(pid=312)\u001b[0m \b\b\b\b\b\b\b\b\b\b\b\b\b\b\b\b\b\b\b\b\b\b\b\b\b\b\b\b\b\b\b\b\b\b\b\b\b\b\b\b\b\b\b\b\b\b\b\b\b\b\b\b\b\b\b\b\b\b\b\b\b\b\b\b\b\b\b\b\b\b\b\b\b\b\b\b\b\b\b\b\b\b\b\b\b\b\b\b\b\b\b\b\b\b\b\b\b\b\b\b\n",
      "\u001b[2m\u001b[36m(pid=312)\u001b[0m  115/2969 [>.............................] - ETA: 2s - loss: 0.5841 - mae: 0.3981 - accuracy: 0.6864\n",
      "\u001b[2m\u001b[36m(pid=312)\u001b[0m \b\b\b\b\b\b\b\b\b\b\b\b\b\b\b\b\b\b\b\b\b\b\b\b\b\b\b\b\b\b\b\b\b\b\b\b\b\b\b\b\b\b\b\b\b\b\b\b\b\b\b\b\b\b\b\b\b\b\b\b\b\b\b\b\b\b\b\b\b\b\b\b\b\b\b\b\b\b\b\b\b\b\b\b\b\b\b\b\b\b\b\b\b\b\b\b\b\b\b\b\n",
      "\u001b[2m\u001b[36m(pid=312)\u001b[0m  178/2969 [>.............................] - ETA: 2s - loss: 0.5764 - mae: 0.3944 - accuracy: 0.6935\n",
      "\u001b[2m\u001b[36m(pid=312)\u001b[0m \b\b\b\b\b\b\b\b\b\b\b\b\b\b\b\b\b\b\b\b\b\b\b\b\b\b\b\b\b\b\b\b\b\b\b\b\b\b\b\b\b\b\b\b\b\b\b\b\b\b\b\b\b\b\b\b\b\b\b\b\b\b\b\b\b\b\b\b\b\b\b\b\b\b\b\b\b\b\b\b\b\b\b\b\b\b\b\b\b\b\b\b\b\b\b\b\b\b\b\b\n",
      "\u001b[2m\u001b[36m(pid=312)\u001b[0m  242/2969 [=>............................] - ETA: 2s - loss: 0.5782 - mae: 0.3954 - accuracy: 0.6896\n",
      "\u001b[2m\u001b[36m(pid=312)\u001b[0m \b\b\b\b\b\b\b\b\b\b\b\b\b\b\b\b\b\b\b\b\b\b\b\b\b\b\b\b\b\b\b\b\b\b\b\b\b\b\b\b\b\b\b\b\b\b\b\b\b\b\b\b\b\b\b\b\b\b\b\b\b\b\b\b\b\b\b\b\b\b\b\b\b\b\b\b\b\b\b\b\b\b\b\b\b\b\b\b\b\b\b\b\b\b\b\b\b\b\b\b\n",
      "\u001b[2m\u001b[36m(pid=312)\u001b[0m  301/2969 [==>...........................] - ETA: 2s - loss: 0.5814 - mae: 0.3969 - accuracy: 0.6885\n",
      "\u001b[2m\u001b[36m(pid=312)\u001b[0m \b\b\b\b\b\b\b\b\b\b\b\b\b\b\b\b\b\b\b\b\b\b\b\b\b\b\b\b\b\b\b\b\b\b\b\b\b\b\b\b\b\b\b\b\b\b\b\b\b\b\b\b\b\b\b\b\b\b\b\b\b\b\b\b\b\b\b\b\b\b\b\b\b\b\b\b\b\b\b\b\b\b\b\b\b\b\b\b\b\b\b\b\b\b\b\b\b\b\b\b\n",
      "\u001b[2m\u001b[36m(pid=312)\u001b[0m  364/2969 [==>...........................] - ETA: 2s - loss: 0.5796 - mae: 0.3962 - accuracy: 0.6892\n",
      "\u001b[2m\u001b[36m(pid=312)\u001b[0m \b\b\b\b\b\b\b\b\b\b\b\b\b\b\b\b\b\b\b\b\b\b\b\b\b\b\b\b\b\b\b\b\b\b\b\b\b\b\b\b\b\b\b\b\b\b\b\b\b\b\b\b\b\b\b\b\b\b\b\b\b\b\b\b\b\b\b\b\b\b\b\b\b\b\b\b\b\b\b\b\b\b\b\b\b\b\b\b\b\b\b\b\b\b\b\b\b\b\b\b\n",
      "\u001b[2m\u001b[36m(pid=312)\u001b[0m  429/2969 [===>..........................] - ETA: 2s - loss: 0.5818 - mae: 0.3970 - accuracy: 0.6890\n",
      "\u001b[2m\u001b[36m(pid=312)\u001b[0m \b\b\b\b\b\b\b\b\b\b\b\b\b\b\b\b\b\b\b\b\b\b\b\b\b\b\b\b\b\b\b\b\b\b\b\b\b\b\b\b\b\b\b\b\b\b\b\b\b\b\b\b\b\b\b\b\b\b\b\b\b\b\b\b\b\b\b\b\b\b\b\b\b\b\b\b\b\b\b\b\b\b\b\b\b\b\b\b\b\b\b\b\b\b\b\b\b\b\b\b\n",
      "\u001b[2m\u001b[36m(pid=312)\u001b[0m  493/2969 [===>..........................] - ETA: 2s - loss: 0.5815 - mae: 0.3970 - accuracy: 0.6904\n",
      "\u001b[2m\u001b[36m(pid=312)\u001b[0m \b\b\b\b\b\b\b\b\b\b\b\b\b\b\b\b\b\b\b\b\b\b\b\b\b\b\b\b\b\b\b\b\b\b\b\b\b\b\b\b\b\b\b\b\b\b\b\b\b\b\b\b\b\b\b\b\b\b\b\b\b\b\b\b\b\b\b\b\b\b\b\b\b\b\b\b\b\b\b\b\b\b\b\b\b\b\b\b\b\b\b\b\b\b\b\b\b\b\b\b\n",
      "\u001b[2m\u001b[36m(pid=312)\u001b[0m  553/2969 [====>.........................] - ETA: 1s - loss: 0.5806 - mae: 0.3965 - accuracy: 0.6909\n",
      "\u001b[2m\u001b[36m(pid=312)\u001b[0m \b\b\b\b\b\b\b\b\b\b\b\b\b\b\b\b\b\b\b\b\b\b\b\b\b\b\b\b\b\b\b\b\b\b\b\b\b\b\b\b\b\b\b\b\b\b\b\b\b\b\b\b\b\b\b\b\b\b\b\b\b\b\b\b\b\b\b\b\b\b\b\b\b\b\b\b\b\b\b\b\b\b\b\b\b\b\b\b\b\b\b\b\b\b\b\b\b\b\b\b\n",
      "\u001b[2m\u001b[36m(pid=312)\u001b[0m  616/2969 [=====>........................] - ETA: 1s - loss: 0.5812 - mae: 0.3968 - accuracy: 0.6903\n",
      "\u001b[2m\u001b[36m(pid=312)\u001b[0m \b\b\b\b\b\b\b\b\b\b\b\b\b\b\b\b\b\b\b\b\b\b\b\b\b\b\b\b\b\b\b\b\b\b\b\b\b\b\b\b\b\b\b\b\b\b\b\b\b\b\b\b\b\b\b\b\b\b\b\b\b\b\b\b\b\b\b\b\b\b\b\b\b\b\b\b\b\b\b\b\b\b\b\b\b\b\b\b\b\b\b\b\b\b\b\b\b\b\b\b\n",
      "\u001b[2m\u001b[36m(pid=312)\u001b[0m  669/2969 [=====>........................] - ETA: 1s - loss: 0.5806 - mae: 0.3965 - accuracy: 0.6916\n",
      "\u001b[2m\u001b[36m(pid=312)\u001b[0m \b\b\b\b\b\b\b\b\b\b\b\b\b\b\b\b\b\b\b\b\b\b\b\b\b\b\b\b\b\b\b\b\b\b\b\b\b\b\b\b\b\b\b\b\b\b\b\b\b\b\b\b\b\b\b\b\b\b\b\b\b\b\b\b\b\b\b\b\b\b\b\b\b\b\b\b\b\b\b\b\b\b\b\b\b\b\b\b\b\b\b\b\b\b\b\b\b\b\b\b\n",
      "\u001b[2m\u001b[36m(pid=312)\u001b[0m  724/2969 [======>.......................] - ETA: 1s - loss: 0.5795 - mae: 0.3960 - accuracy: 0.6919\n",
      "\u001b[2m\u001b[36m(pid=312)\u001b[0m \b\b\b\b\b\b\b\b\b\b\b\b\b\b\b\b\b\b\b\b\b\b\b\b\b\b\b\b\b\b\b\b\b\b\b\b\b\b\b\b\b\b\b\b\b\b\b\b\b\b\b\b\b\b\b\b\b\b\b\b\b\b\b\b\b\b\b\b\b\b\b\b\b\b\b\b\b\b\b\b\b\b\b\b\b\b\b\b\b\b\b\b\b\b\b\b\b\b\b\b\n",
      "\u001b[2m\u001b[36m(pid=312)\u001b[0m  781/2969 [======>.......................] - ETA: 1s - loss: 0.5790 - mae: 0.3957 - accuracy: 0.6931\n",
      "\u001b[2m\u001b[36m(pid=312)\u001b[0m \b\b\b\b\b\b\b\b\b\b\b\b\b\b\b\b\b\b\b\b\b\b\b\b\b\b\b\b\b\b\b\b\b\b\b\b\b\b\b\b\b\b\b\b\b\b\b\b\b\b\b\b\b\b\b\b\b\b\b\b\b\b\b\b\b\b\b\b\b\b\b\b\b\b\b\b\b\b\b\b\b\b\b\b\b\b\b\b\b\b\b\b\b\b\b\b\b\b\b\b\n",
      "\u001b[2m\u001b[36m(pid=312)\u001b[0m  842/2969 [=======>......................] - ETA: 1s - loss: 0.5779 - mae: 0.3952 - accuracy: 0.6943\n",
      "\u001b[2m\u001b[36m(pid=312)\u001b[0m \b\b\b\b\b\b\b\b\b\b\b\b\b\b\b\b\b\b\b\b\b\b\b\b\b\b\b\b\b\b\b\b\b\b\b\b\b\b\b\b\b\b\b\b\b\b\b\b\b\b\b\b\b\b\b\b\b\b\b\b\b\b\b\b\b\b\b\b\b\b\b\b\b\b\b\b\b\b\b\b\b\b\b\b\b\b\b\b\b\b\b\b\b\b\b\b\b\b\b\b\n",
      "\u001b[2m\u001b[36m(pid=312)\u001b[0m  900/2969 [========>.....................] - ETA: 1s - loss: 0.5776 - mae: 0.3950 - accuracy: 0.6947\n",
      "\u001b[2m\u001b[36m(pid=312)\u001b[0m \b\b\b\b\b\b\b\b\b\b\b\b\b\b\b\b\b\b\b\b\b\b\b\b\b\b\b\b\b\b\b\b\b\b\b\b\b\b\b\b\b\b\b\b\b\b\b\b\b\b\b\b\b\b\b\b\b\b\b\b\b\b\b\b\b\b\b\b\b\b\b\b\b\b\b\b\b\b\b\b\b\b\b\b\b\b\b\b\b\b\b\b\b\b\b\b\b\b\b\b\n",
      "\u001b[2m\u001b[36m(pid=312)\u001b[0m  963/2969 [========>.....................] - ETA: 1s - loss: 0.5773 - mae: 0.3949 - accuracy: 0.6947\n",
      "\u001b[2m\u001b[36m(pid=312)\u001b[0m \b\b\b\b\b\b\b\b\b\b\b\b\b\b\b\b\b\b\b\b\b\b\b\b\b\b\b\b\b\b\b\b\b\b\b\b\b\b\b\b\b\b\b\b\b\b\b\b\b\b\b\b\b\b\b\b\b\b\b\b\b\b\b\b\b\b\b\b\b\b\b\b\b\b\b\b\b\b\b\b\b\b\b\b\b\b\b\b\b\b\b\b\b\b\b\b\b\b\b\b\n",
      "\u001b[2m\u001b[36m(pid=312)\u001b[0m 1017/2969 [=========>....................] - ETA: 1s - loss: 0.5777 - mae: 0.3951 - accuracy: 0.6942\n",
      "\u001b[2m\u001b[36m(pid=312)\u001b[0m \b\b\b\b\b\b\b\b\b\b\b\b\b\b\b\b\b\b\b\b\b\b\b\b\b\b\b\b\b\b\b\b\b\b\b\b\b\b\b\b\b\b\b\b\b\b\b\b\b\b\b\b\b\b\b\b\b\b\b\b\b\b\b\b\b\b\b\b\b\b\b\b\b\b\b\b\b\b\b\b\b\b\b\b\b\b\b\b\b\b\b\b\b\b\b\b\b\b\b\b\n",
      "\u001b[2m\u001b[36m(pid=312)\u001b[0m 1077/2969 [=========>....................] - ETA: 1s - loss: 0.5780 - mae: 0.3953 - accuracy: 0.6939\n",
      "\u001b[2m\u001b[36m(pid=312)\u001b[0m \b\b\b\b\b\b\b\b\b\b\b\b\b\b\b\b\b\b\b\b\b\b\b\b\b\b\b\b\b\b\b\b\b\b\b\b\b\b\b\b\b\b\b\b\b\b\b\b\b\b\b\b\b\b\b\b\b\b\b\b\b\b\b\b\b\b\b\b\b\b\b\b\b\b\b\b\b\b\b\b\b\b\b\b\b\b\b\b\b\b\b\b\b\b\b\b\b\b\b\b\n",
      "\u001b[2m\u001b[36m(pid=312)\u001b[0m 1140/2969 [==========>...................] - ETA: 1s - loss: 0.5784 - mae: 0.3955 - accuracy: 0.6939\n",
      "\u001b[2m\u001b[36m(pid=312)\u001b[0m \b\b\b\b\b\b\b\b\b\b\b\b\b\b\b\b\b\b\b\b\b\b\b\b\b\b\b\b\b\b\b\b\b\b\b\b\b\b\b\b\b\b\b\b\b\b\b\b\b\b\b\b\b\b\b\b\b\b\b\b\b\b\b\b\b\b\b\b\b\b\b\b\b\b\b\b\b\b\b\b\b\b\b\b\b\b\b\b\b\b\b\b\b\b\b\b\b\b\b\b\n",
      "\u001b[2m\u001b[36m(pid=312)\u001b[0m 1192/2969 [===========>..................] - ETA: 1s - loss: 0.5785 - mae: 0.3955 - accuracy: 0.6937\n",
      "\u001b[2m\u001b[36m(pid=312)\u001b[0m \b\b\b\b\b\b\b\b\b\b\b\b\b\b\b\b\b\b\b\b\b\b\b\b\b\b\b\b\b\b\b\b\b\b\b\b\b\b\b\b\b\b\b\b\b\b\b\b\b\b\b\b\b\b\b\b\b\b\b\b\b\b\b\b\b\b\b\b\b\b\b\b\b\b\b\b\b\b\b\b\b\b\b\b\b\b\b\b\b\b\b\b\b\b\b\b\b\b\b\b\n",
      "\u001b[2m\u001b[36m(pid=312)\u001b[0m 1248/2969 [===========>..................] - ETA: 1s - loss: 0.5793 - mae: 0.3959 - accuracy: 0.6927\n",
      "\u001b[2m\u001b[36m(pid=312)\u001b[0m \b\b\b\b\b\b\b\b\b\b\b\b\b\b\b\b\b\b\b\b\b\b\b\b\b\b\b\b\b\b\b\b\b\b\b\b\b\b\b\b\b\b\b\b\b\b\b\b\b\b\b\b\b\b\b\b\b\b\b\b\b\b\b\b\b\b\b\b\b\b\b\b\b\b\b\b\b\b\b\b\b\b\b\b\b\b\b\b\b\b\b\b\b\b\b\b\b\b\b\b\n",
      "\u001b[2m\u001b[36m(pid=312)\u001b[0m 1304/2969 [============>.................] - ETA: 1s - loss: 0.5792 - mae: 0.3959 - accuracy: 0.6931\n",
      "\u001b[2m\u001b[36m(pid=312)\u001b[0m \b\b\b\b\b\b\b\b\b\b\b\b\b\b\b\b\b\b\b\b\b\b\b\b\b\b\b\b\b\b\b\b\b\b\b\b\b\b\b\b\b\b\b\b\b\b\b\b\b\b\b\b\b\b\b\b\b\b\b\b\b\b\b\b\b\b\b\b\b\b\b\b\b\b\b\b\b\b\b\b\b\b\b\b\b\b\b\b\b\b\b\b\b\b\b\b\b\b\b\b\n",
      "\u001b[2m\u001b[36m(pid=312)\u001b[0m 1359/2969 [============>.................] - ETA: 1s - loss: 0.5792 - mae: 0.3959 - accuracy: 0.6928\n",
      "\u001b[2m\u001b[36m(pid=312)\u001b[0m \b\b\b\b\b\b\b\b\b\b\b\b\b\b\b\b\b\b\b\b\b\b\b\b\b\b\b\b\b\b\b\b\b\b\b\b\b\b\b\b\b\b\b\b\b\b\b\b\b\b\b\b\b\b\b\b\b\b\b\b\b\b\b\b\b\b\b\b\b\b\b\b\b\b\b\b\b\b\b\b\b\b\b\b\b\b\b\b\b\b\b\b\b\b\b\b\b\b\b\b\n",
      "\u001b[2m\u001b[36m(pid=312)\u001b[0m 1418/2969 [=============>................] - ETA: 1s - loss: 0.5782 - mae: 0.3955 - accuracy: 0.6935\n",
      "\u001b[2m\u001b[36m(pid=312)\u001b[0m \b\b\b\b\b\b\b\b\b\b\b\b\b\b\b\b\b\b\b\b\b\b\b\b\b\b\b\b\b\b\b\b\b\b\b\b\b\b\b\b\b\b\b\b\b\b\b\b\b\b\b\b\b\b\b\b\b\b\b\b\b\b\b\b\b\b\b\b\b\b\b\b\b\b\b\b\b\b\b\b\b\b\b\b\b\b\b\b\b\b\b\b\b\b\b\b\b\b\b\b\n",
      "\u001b[2m\u001b[36m(pid=312)\u001b[0m 1480/2969 [=============>................] - ETA: 1s - loss: 0.5784 - mae: 0.3956 - accuracy: 0.6934\n",
      "\u001b[2m\u001b[36m(pid=312)\u001b[0m \b\b\b\b\b\b\b\b\b\b\b\b\b\b\b\b\b\b\b\b\b\b\b\b\b\b\b\b\b\b\b\b\b\b\b\b\b\b\b\b\b\b\b\b\b\b\b\b\b\b\b\b\b\b\b\b\b\b\b\b\b\b\b\b\b\b\b\b\b\b\b\b\b\b\b\b\b\b\b\b\b\b\b\b\b\b\b\b\b\b\b\b\b\b\b\b\b\b\b\b\n",
      "\u001b[2m\u001b[36m(pid=312)\u001b[0m 1540/2969 [==============>...............] - ETA: 1s - loss: 0.5785 - mae: 0.3956 - accuracy: 0.6934\n",
      "\u001b[2m\u001b[36m(pid=312)\u001b[0m \b\b\b\b\b\b\b\b\b\b\b\b\b\b\b\b\b\b\b\b\b\b\b\b\b\b\b\b\b\b\b\b\b\b\b\b\b\b\b\b\b\b\b\b\b\b\b\b\b\b\b\b\b\b\b\b\b\b\b\b\b\b\b\b\b\b\b\b\b\b\b\b\b\b\b\b\b\b\b\b\b\b\b\b\b\b\b\b\b\b\b\b\b\b\b\b\b\b\b\b\n",
      "\u001b[2m\u001b[36m(pid=312)\u001b[0m 1604/2969 [===============>..............] - ETA: 1s - loss: 0.5795 - mae: 0.3962 - accuracy: 0.6927\n",
      "\u001b[2m\u001b[36m(pid=312)\u001b[0m \b\b\b\b\b\b\b\b\b\b\b\b\b\b\b\b\b\b\b\b\b\b\b\b\b\b\b\b\b\b\b\b\b\b\b\b\b\b\b\b\b\b\b\b\b\b\b\b\b\b\b\b\b\b\b\b\b\b\b\b\b\b\b\b\b\b\b\b\b\b\b\b\b\b\b\b\b\b\b\b\b\b\b\b\b\b\b\b\b\b\b\b\b\b\b\b\b\b\b\b\n",
      "\u001b[2m\u001b[36m(pid=312)\u001b[0m 1667/2969 [===============>..............] - ETA: 1s - loss: 0.5796 - mae: 0.3961 - accuracy: 0.6928\n",
      "\u001b[2m\u001b[36m(pid=312)\u001b[0m \b\b\b\b\b\b\b\b\b\b\b\b\b\b\b\b\b\b\b\b\b\b\b\b\b\b\b\b\b\b\b\b\b\b\b\b\b\b\b\b\b\b\b\b\b\b\b\b\b\b\b\b\b\b\b\b\b\b\b\b\b\b\b\b\b\b\b\b\b\b\b\b\b\b\b\b\b\b\b\b\b\b\b\b\b\b\b\b\b\b\b\b\b\b\b\b\b\b\b\b\n",
      "\u001b[2m\u001b[36m(pid=312)\u001b[0m 1729/2969 [================>.............] - ETA: 1s - loss: 0.5794 - mae: 0.3960 - accuracy: 0.6932\n",
      "\u001b[2m\u001b[36m(pid=312)\u001b[0m \b\b\b\b\b\b\b\b\b\b\b\b\b\b\b\b\b\b\b\b\b\b\b\b\b\b\b\b\b\b\b\b\b\b\b\b\b\b\b\b\b\b\b\b\b\b\b\b\b\b\b\b\b\b\b\b\b\b\b\b\b\b\b\b\b\b\b\b\b\b\b\b\b\b\b\b\b\b\b\b\b\b\b\b\b\b\b\b\b\b\b\b\b\b\b\b\b\b\b\b\n",
      "\u001b[2m\u001b[36m(pid=312)\u001b[0m 1787/2969 [=================>............] - ETA: 1s - loss: 0.5799 - mae: 0.3961 - accuracy: 0.6929\n",
      "\u001b[2m\u001b[36m(pid=312)\u001b[0m \b\b\b\b\b\b\b\b\b\b\b\b\b\b\b\b\b\b\b\b\b\b\b\b\b\b\b\b\b\b\b\b\b\b\b\b\b\b\b\b\b\b\b\b\b\b\b\b\b\b\b\b\b\b\b\b\b\b\b\b\b\b\b\b\b\b\b\b\b\b\b\b\b\b\b\b\b\b\b\b\b\b\b\b\b\b\b\b\b\b\b\b\b\b\b\b\b\b\b\b\n",
      "\u001b[2m\u001b[36m(pid=312)\u001b[0m 1840/2969 [=================>............] - ETA: 0s - loss: 0.5798 - mae: 0.3961 - accuracy: 0.6931\n",
      "\u001b[2m\u001b[36m(pid=312)\u001b[0m \b\b\b\b\b\b\b\b\b\b\b\b\b\b\b\b\b\b\b\b\b\b\b\b\b\b\b\b\b\b\b\b\b\b\b\b\b\b\b\b\b\b\b\b\b\b\b\b\b\b\b\b\b\b\b\b\b\b\b\b\b\b\b\b\b\b\b\b\b\b\b\b\b\b\b\b\b\b\b\b\b\b\b\b\b\b\b\b\b\b\b\b\b\b\b\b\b\b\b\b\n",
      "\u001b[2m\u001b[36m(pid=312)\u001b[0m 1902/2969 [==================>...........] - ETA: 0s - loss: 0.5800 - mae: 0.3961 - accuracy: 0.6930\n",
      "\u001b[2m\u001b[36m(pid=312)\u001b[0m \b\b\b\b\b\b\b\b\b\b\b\b\b\b\b\b\b\b\b\b\b\b\b\b\b\b\b\b\b\b\b\b\b\b\b\b\b\b\b\b\b\b\b\b\b\b\b\b\b\b\b\b\b\b\b\b\b\b\b\b\b\b\b\b\b\b\b\b\b\b\b\b\b\b\b\b\b\b\b\b\b\b\b\b\b\b\b\b\b\b\b\b\b\b\b\b\b\b\b\b\n",
      "\u001b[2m\u001b[36m(pid=312)\u001b[0m 1966/2969 [==================>...........] - ETA: 0s - loss: 0.5796 - mae: 0.3960 - accuracy: 0.6934\n",
      "\u001b[2m\u001b[36m(pid=312)\u001b[0m \b\b\b\b\b\b\b\b\b\b\b\b\b\b\b\b\b\b\b\b\b\b\b\b\b\b\b\b\b\b\b\b\b\b\b\b\b\b\b\b\b\b\b\b\b\b\b\b\b\b\b\b\b\b\b\b\b\b\b\b\b\b\b\b\b\b\b\b\b\b\b\b\b\b\b\b\b\b\b\b\b\b\b\b\b\b\b\b\b\b\b\b\b\b\b\b\b\b\b\b\n",
      "\u001b[2m\u001b[36m(pid=312)\u001b[0m 2026/2969 [===================>..........] - ETA: 0s - loss: 0.5797 - mae: 0.3959 - accuracy: 0.6935\n",
      "\u001b[2m\u001b[36m(pid=312)\u001b[0m \b\b\b\b\b\b\b\b\b\b\b\b\b\b\b\b\b\b\b\b\b\b\b\b\b\b\b\b\b\b\b\b\b\b\b\b\b\b\b\b\b\b\b\b\b\b\b\b\b\b\b\b\b\b\b\b\b\b\b\b\b\b\b\b\b\b\b\b\b\b\b\b\b\b\b\b\b\b\b\b\b\b\b\b\b\b\b\b\b\b\b\b\b\b\b\b\b\b\b\b\n",
      "\u001b[2m\u001b[36m(pid=312)\u001b[0m 2091/2969 [====================>.........] - ETA: 0s - loss: 0.5797 - mae: 0.3959 - accuracy: 0.6937\n",
      "\u001b[2m\u001b[36m(pid=312)\u001b[0m \b\b\b\b\b\b\b\b\b\b\b\b\b\b\b\b\b\b\b\b\b\b\b\b\b\b\b\b\b\b\b\b\b\b\b\b\b\b\b\b\b\b\b\b\b\b\b\b\b\b\b\b\b\b\b\b\b\b\b\b\b\b\b\b\b\b\b\b\b\b\b\b\b\b\b\b\b\b\b\b\b\b\b\b\b\b\b\b\b\b\b\b\b\b\b\b\b\b\b\b\n",
      "\u001b[2m\u001b[36m(pid=312)\u001b[0m 2157/2969 [====================>.........] - ETA: 0s - loss: 0.5795 - mae: 0.3958 - accuracy: 0.6945\n",
      "\u001b[2m\u001b[36m(pid=312)\u001b[0m \b\b\b\b\b\b\b\b\b\b\b\b\b\b\b\b\b\b\b\b\b\b\b\b\b\b\b\b\b\b\b\b\b\b\b\b\b\b\b\b\b\b\b\b\b\b\b\b\b\b\b\b\b\b\b\b\b\b\b\b\b\b\b\b\b\b\b\b\b\b\b\b\b\b\b\b\b\b\b\b\b\b\b\b\b\b\b\b\b\b\b\b\b\b\b\b\b\b\b\b\n",
      "\u001b[2m\u001b[36m(pid=312)\u001b[0m 2222/2969 [=====================>........] - ETA: 0s - loss: 0.5795 - mae: 0.3959 - accuracy: 0.6944\n",
      "\u001b[2m\u001b[36m(pid=312)\u001b[0m \b\b\b\b\b\b\b\b\b\b\b\b\b\b\b\b\b\b\b\b\b\b\b\b\b\b\b\b\b\b\b\b\b\b\b\b\b\b\b\b\b\b\b\b\b\b\b\b\b\b\b\b\b\b\b\b\b\b\b\b\b\b\b\b\b\b\b\b\b\b\b\b\b\b\b\b\b\b\b\b\b\b\b\b\b\b\b\b\b\b\b\b\b\b\b\b\b\b\b\b\n",
      "\u001b[2m\u001b[36m(pid=312)\u001b[0m 2281/2969 [======================>.......] - ETA: 0s - loss: 0.5796 - mae: 0.3959 - accuracy: 0.6941\n",
      "\u001b[2m\u001b[36m(pid=312)\u001b[0m \b\b\b\b\b\b\b\b\b\b\b\b\b\b\b\b\b\b\b\b\b\b\b\b\b\b\b\b\b\b\b\b\b\b\b\b\b\b\b\b\b\b\b\b\b\b\b\b\b\b\b\b\b\b\b\b\b\b\b\b\b\b\b\b\b\b\b\b\b\b\b\b\b\b\b\b\b\b\b\b\b\b\b\b\b\b\b\b\b\b\b\b\b\b\b\b\b\b\b\b\n",
      "\u001b[2m\u001b[36m(pid=312)\u001b[0m 2344/2969 [======================>.......] - ETA: 0s - loss: 0.5794 - mae: 0.3958 - accuracy: 0.6943\n",
      "\u001b[2m\u001b[36m(pid=312)\u001b[0m \b\b\b\b\b\b\b\b\b\b\b\b\b\b\b\b\b\b\b\b\b\b\b\b\b\b\b\b\b\b\b\b\b\b\b\b\b\b\b\b\b\b\b\b\b\b\b\b\b\b\b\b\b\b\b\b\b\b\b\b\b\b\b\b\b\b\b\b\b\b\b\b\b\b\b\b\b\b\b\b\b\b\b\b\b\b\b\b\b\b\b\b\b\b\b\b\b\b\b\b\n",
      "\u001b[2m\u001b[36m(pid=312)\u001b[0m 2402/2969 [=======================>......] - ETA: 0s - loss: 0.5797 - mae: 0.3959 - accuracy: 0.6940\n",
      "\u001b[2m\u001b[36m(pid=312)\u001b[0m \b\b\b\b\b\b\b\b\b\b\b\b\b\b\b\b\b\b\b\b\b\b\b\b\b\b\b\b\b\b\b\b\b\b\b\b\b\b\b\b\b\b\b\b\b\b\b\b\b\b\b\b\b\b\b\b\b\b\b\b\b\b\b\b\b\b\b\b\b\b\b\b\b\b\b\b\b\b\b\b\b\b\b\b\b\b\b\b\b\b\b\b\b\b\b\b\b\b\b\b\n",
      "\u001b[2m\u001b[36m(pid=312)\u001b[0m 2462/2969 [=======================>......] - ETA: 0s - loss: 0.5797 - mae: 0.3958 - accuracy: 0.6943\n",
      "\u001b[2m\u001b[36m(pid=312)\u001b[0m \b\b\b\b\b\b\b\b\b\b\b\b\b\b\b\b\b\b\b\b\b\b\b\b\b\b\b\b\b\b\b\b\b\b\b\b\b\b\b\b\b\b\b\b\b\b\b\b\b\b\b\b\b\b\b\b\b\b\b\b\b\b\b\b\b\b\b\b\b\b\b\b\b\b\b\b\b\b\b\b\b\b\b\b\b\b\b\b\b\b\b\b\b\b\b\b\b\b\b\b\n",
      "\u001b[2m\u001b[36m(pid=312)\u001b[0m 2516/2969 [========================>.....] - ETA: 0s - loss: 0.5798 - mae: 0.3959 - accuracy: 0.6940\n",
      "\u001b[2m\u001b[36m(pid=312)\u001b[0m \b\b\b\b\b\b\b\b\b\b\b\b\b\b\b\b\b\b\b\b\b\b\b\b\b\b\b\b\b\b\b\b\b\b\b\b\b\b\b\b\b\b\b\b\b\b\b\b\b\b\b\b\b\b\b\b\b\b\b\b\b\b\b\b\b\b\b\b\b\b\b\b\b\b\b\b\b\b\b\b\b\b\b\b\b\b\b\b\b\b\b\b\b\b\b\b\b\b\b\b\n",
      "\u001b[2m\u001b[36m(pid=312)\u001b[0m 2576/2969 [=========================>....] - ETA: 0s - loss: 0.5798 - mae: 0.3959 - accuracy: 0.6942\n",
      "\u001b[2m\u001b[36m(pid=312)\u001b[0m \b\b\b\b\b\b\b\b\b\b\b\b\b\b\b\b\b\b\b\b\b\b\b\b\b\b\b\b\b\b\b\b\b\b\b\b\b\b\b\b\b\b\b\b\b\b\b\b\b\b\b\b\b\b\b\b\b\b\b\b\b\b\b\b\b\b\b\b\b\b\b\b\b\b\b\b\b\b\b\b\b\b\b\b\b\b\b\b\b\b\b\b\b\b\b\b\b\b\b\b\n",
      "\u001b[2m\u001b[36m(pid=312)\u001b[0m 2639/2969 [=========================>....] - ETA: 0s - loss: 0.5800 - mae: 0.3960 - accuracy: 0.6941\n",
      "\u001b[2m\u001b[36m(pid=312)\u001b[0m \b\b\b\b\b\b\b\b\b\b\b\b\b\b\b\b\b\b\b\b\b\b\b\b\b\b\b\b\b\b\b\b\b\b\b\b\b\b\b\b\b\b\b\b\b\b\b\b\b\b\b\b\b\b\b\b\b\b\b\b\b\b\b\b\b\b\b\b\b\b\b\b\b\b\b\b\b\b\b\b\b\b\b\b\b\b\b\b\b\b\b\b\b\b\b\b\b\b\b\b\n",
      "\u001b[2m\u001b[36m(pid=312)\u001b[0m 2699/2969 [==========================>...] - ETA: 0s - loss: 0.5802 - mae: 0.3961 - accuracy: 0.6940\n",
      "\u001b[2m\u001b[36m(pid=312)\u001b[0m \b\b\b\b\b\b\b\b\b\b\b\b\b\b\b\b\b\b\b\b\b\b\b\b\b\b\b\b\b\b\b\b\b\b\b\b\b\b\b\b\b\b\b\b\b\b\b\b\b\b\b\b\b\b\b\b\b\b\b\b\b\b\b\b\b\b\b\b\b\b\b\b\b\b\b\b\b\b\b\b\b\b\b\b\b\b\b\b\b\b\b\b\b\b\b\b\b\b\b\b\n",
      "\u001b[2m\u001b[36m(pid=312)\u001b[0m 2759/2969 [==========================>...] - ETA: 0s - loss: 0.5805 - mae: 0.3963 - accuracy: 0.6936\n",
      "\u001b[2m\u001b[36m(pid=312)\u001b[0m \b\b\b\b\b\b\b\b\b\b\b\b\b\b\b\b\b\b\b\b\b\b\b\b\b\b\b\b\b\b\b\b\b\b\b\b\b\b\b\b\b\b\b\b\b\b\b\b\b\b\b\b\b\b\b\b\b\b\b\b\b\b\b\b\b\b\b\b\b\b\b\b\b\b\b\b\b\b\b\b\b\b\b\b\b\b\b\b\b\b\b\b\b\b\b\b\b\b\b\b\n",
      "\u001b[2m\u001b[36m(pid=312)\u001b[0m 2822/2969 [===========================>..] - ETA: 0s - loss: 0.5805 - mae: 0.3963 - accuracy: 0.6936\n",
      "\u001b[2m\u001b[36m(pid=312)\u001b[0m \b\b\b\b\b\b\b\b\b\b\b\b\b\b\b\b\b\b\b\b\b\b\b\b\b\b\b\b\b\b\b\b\b\b\b\b\b\b\b\b\b\b\b\b\b\b\b\b\b\b\b\b\b\b\b\b\b\b\b\b\b\b\b\b\b\b\b\b\b\b\b\b\b\b\b\b\b\b\b\b\b\b\b\b\b\b\b\b\b\b\b\b\b\b\b\b\b\b\b\b\n",
      "\u001b[2m\u001b[36m(pid=312)\u001b[0m 2881/2969 [============================>.] - ETA: 0s - loss: 0.5807 - mae: 0.3964 - accuracy: 0.6932\n",
      "\u001b[2m\u001b[36m(pid=312)\u001b[0m \b\b\b\b\b\b\b\b\b\b\b\b\b\b\b\b\b\b\b\b\b\b\b\b\b\b\b\b\b\b\b\b\b\b\b\b\b\b\b\b\b\b\b\b\b\b\b\b\b\b\b\b\b\b\b\b\b\b\b\b\b\b\b\b\b\b\b\b\b\b\b\b\b\b\b\b\b\b\b\b\b\b\b\b\b\b\b\b\b\b\b\b\b\b\b\b\b\b\b\b\n",
      "\u001b[2m\u001b[36m(pid=312)\u001b[0m 2944/2969 [============================>.] - ETA: 0s - loss: 0.5805 - mae: 0.3963 - accuracy: 0.6934\b\b\b\b\b\b\b\b\b\b\b\b\b\b\b\b\b\b\b\b\b\b\b\b\b\b\b\b\b\b\b\b\b\b\b\b\b\b\b\b\b\b\b\b\b\b\b\b\b\b\b\b\b\b\b\b\b\b\b\b\b\b\b\b\b\b\b\b\b\b\b\b\b\b\b\b\b\b\b\b\b\b\b\b\b\b\b\b\b\b\b\b\b\b\b\b\b\b\b\b\n",
      "\u001b[2m\u001b[36m(pid=312)\u001b[0m 2969/2969 [==============================] - 3s 839us/step - loss: 0.5805 - mae: 0.3963 - accuracy: 0.6934\n",
      "Result for train_model_1_disc_params.group_lasso.l1=2.7829,guess_params.group_lasso.l1=3.9435,slip_params.group_lasso.l1=5.9648:\n",
      "  checkpoint: weights_tune_[(0, 'disc_params.group_lasso.l1'), (5, 'guess_params.group_lasso.l1'),\n",
      "    (8, 'slip_params.group_lasso.l1')].h5\n",
      "  date: 2021-08-05_12-25-35\n",
      "  done: true\n",
      "  experiment_id: b2b59f5124084f44adf67b0312a02ab1\n",
      "  hostname: d005995f49c5\n",
      "  iterations_since_restore: 1\n",
      "  mean_accuracy: 0.6933789253234863\n",
      "  mean_error: 0.5804693102836609\n",
      "  node_ip: 172.28.0.2\n",
      "  pid: 312\n",
      "  time_since_restore: 327.2989342212677\n",
      "  time_this_iter_s: 327.2989342212677\n",
      "  time_total_s: 327.2989342212677\n",
      "  timestamp: 1628166335\n",
      "  timesteps_since_restore: 0\n",
      "  training_iteration: 1\n",
      "  \n"
     ]
    },
    {
     "name": "stderr",
     "output_type": "stream",
     "text": [
      "2021-08-05 12:25:36,059\tERROR worker.py:1780 -- Warning: The actor WrappedFunc has size 19782331 when pickled. It will be stored in Redis, which could cause memory issues. This may mean that its definition uses a large array or other object.\n"
     ]
    },
    {
     "name": "stdout",
     "output_type": "stream",
     "text": [
      "== Status ==\n",
      "Using AsyncHyperBand: num_stopped=0\n",
      "Bracket: Iter 90.000: None | Iter 30.000: None | Iter 10.000: None\n",
      "Bracket: Iter 90.000: None | Iter 30.000: None\n",
      "Bracket: Iter 90.000: None\n",
      "Resources requested: 0/4 CPUs, 0/1 GPUs\n",
      "Memory usage on this node: 1.7/13.6 GB\n",
      "Result logdir: /root/ray_results/hyperOpt_optimization\n",
      "Number of trials: 4 ({'TERMINATED': 1, 'PENDING': 3})\n",
      "PENDING trials:\n",
      " - train_model_2_disc_params.group_lasso.l1=6.5627,guess_params.group_lasso.l1=2.9186,slip_params.group_lasso.l1=1.3818:\tPENDING\n",
      " - train_model_3_disc_params.group_lasso.l1=6.6343,guess_params.group_lasso.l1=7.145,slip_params.group_lasso.l1=5.1955:\tPENDING\n",
      " - train_model_4_disc_params.group_lasso.l1=0.8419,guess_params.group_lasso.l1=9.5492,slip_params.group_lasso.l1=4.4229:\tPENDING\n",
      "TERMINATED trials:\n",
      " - train_model_1_disc_params.group_lasso.l1=2.7829,guess_params.group_lasso.l1=3.9435,slip_params.group_lasso.l1=5.9648:\tTERMINATED, [4 CPUs, 0 GPUs], [pid=312], 327 s, 1 iter, 0.693 acc\n",
      "\n",
      "\u001b[2m\u001b[36m(pid=313)\u001b[0m 2021-08-05 12:25:37.171612: I tensorflow/stream_executor/platform/default/dso_loader.cc:53] Successfully opened dynamic library libcudart.so.11.0\n",
      "\u001b[2m\u001b[36m(pid=313)\u001b[0m 2021-08-05 12:25:38,480\tERROR worker.py:1412 -- Calling ray.init() again after it has already been called.\n",
      "\u001b[2m\u001b[36m(pid=313)\u001b[0m \n",
      "\u001b[2m\u001b[36m(pid=313)\u001b[0m config val 1:\n",
      "\u001b[2m\u001b[36m(pid=313)\u001b[0m  key_list: ['disc_params', 'group_lasso'];\n",
      "\u001b[2m\u001b[36m(pid=313)\u001b[0m  values: {'l1': 6.562664791374827, 'l2': 0}\n",
      "\u001b[2m\u001b[36m(pid=313)\u001b[0m \n",
      "\u001b[2m\u001b[36m(pid=313)\u001b[0m \n",
      "\u001b[2m\u001b[36m(pid=313)\u001b[0m \n",
      "\u001b[2m\u001b[36m(pid=313)\u001b[0m config val 2:\n",
      "\u001b[2m\u001b[36m(pid=313)\u001b[0m  key_list: ['guess_params', 'group_lasso'];\n",
      "\u001b[2m\u001b[36m(pid=313)\u001b[0m  values: {'l1': 2.9186447579369856, 'l2': 0}\n",
      "\u001b[2m\u001b[36m(pid=313)\u001b[0m \n",
      "\u001b[2m\u001b[36m(pid=313)\u001b[0m \n",
      "\u001b[2m\u001b[36m(pid=313)\u001b[0m \n",
      "\u001b[2m\u001b[36m(pid=313)\u001b[0m config val 3:\n",
      "\u001b[2m\u001b[36m(pid=313)\u001b[0m  key_list: ['slip_params', 'group_lasso'];\n",
      "\u001b[2m\u001b[36m(pid=313)\u001b[0m  values: {'l1': 1.3818327930197527, 'l2': 0}\n",
      "\u001b[2m\u001b[36m(pid=313)\u001b[0m \n",
      "\u001b[2m\u001b[36m(pid=313)\u001b[0m \n",
      "\u001b[2m\u001b[36m(pid=313)\u001b[0m \n",
      "\u001b[2m\u001b[36m(pid=313)\u001b[0m Intitializing fit for fourPL model. . .\n",
      "\u001b[2m\u001b[36m(pid=313)\u001b[0m Batch_size: 128; epochs: 450;\n",
      "\u001b[2m\u001b[36m(pid=313)\u001b[0m 2021-08-05 12:25:39.332564: I tensorflow/stream_executor/platform/default/dso_loader.cc:53] Successfully opened dynamic library libcuda.so.1\n",
      "\u001b[2m\u001b[36m(pid=313)\u001b[0m 2021-08-05 12:25:39.337904: E tensorflow/stream_executor/cuda/cuda_driver.cc:328] failed call to cuInit: CUDA_ERROR_NO_DEVICE: no CUDA-capable device is detected\n",
      "\u001b[2m\u001b[36m(pid=313)\u001b[0m 2021-08-05 12:25:39.337954: I tensorflow/stream_executor/cuda/cuda_diagnostics.cc:169] retrieving CUDA diagnostic information for host: d005995f49c5\n",
      "\u001b[2m\u001b[36m(pid=313)\u001b[0m 2021-08-05 12:25:39.337964: I tensorflow/stream_executor/cuda/cuda_diagnostics.cc:176] hostname: d005995f49c5\n",
      "\u001b[2m\u001b[36m(pid=313)\u001b[0m 2021-08-05 12:25:39.338049: I tensorflow/stream_executor/cuda/cuda_diagnostics.cc:200] libcuda reported version is: 460.32.3\n",
      "\u001b[2m\u001b[36m(pid=313)\u001b[0m 2021-08-05 12:25:39.338076: I tensorflow/stream_executor/cuda/cuda_diagnostics.cc:204] kernel reported version is: 460.32.3\n",
      "\u001b[2m\u001b[36m(pid=313)\u001b[0m 2021-08-05 12:25:39.338085: I tensorflow/stream_executor/cuda/cuda_diagnostics.cc:310] kernel version seems to match DSO: 460.32.3\n",
      "\u001b[2m\u001b[36m(pid=313)\u001b[0m 2021-08-05 12:25:39.338282: I tensorflow/core/platform/cpu_feature_guard.cc:142] This TensorFlow binary is optimized with oneAPI Deep Neural Network Library (oneDNN) to use the following CPU instructions in performance-critical operations:  AVX2 FMA\n",
      "\u001b[2m\u001b[36m(pid=313)\u001b[0m To enable them in other operations, rebuild TensorFlow with the appropriate compiler flags.\n",
      "\u001b[2m\u001b[36m(pid=313)\u001b[0m 2021-08-05 12:25:39.625346: I tensorflow/compiler/mlir/mlir_graph_optimization_pass.cc:176] None of the MLIR Optimization Passes are enabled (registered 2)\n",
      "\u001b[2m\u001b[36m(pid=313)\u001b[0m 2021-08-05 12:25:39.625696: I tensorflow/core/platform/profile_utils/cpu_utils.cc:114] CPU Frequency: 2199995000 Hz\n",
      "\u001b[2m\u001b[36m(pid=313)\u001b[0m \n",
      "\u001b[2m\u001b[36m(pid=313)\u001b[0m    1/2969 [..............................] - ETA: 38s - loss: 0.6050 - mae: 0.3900 - accuracy: 0.6875\n",
      "\u001b[2m\u001b[36m(pid=313)\u001b[0m \b\b\b\b\b\b\b\b\b\b\b\b\b\b\b\b\b\b\b\b\b\b\b\b\b\b\b\b\b\b\b\b\b\b\b\b\b\b\b\b\b\b\b\b\b\b\b\b\b\b\b\b\b\b\b\b\b\b\b\b\b\b\b\b\b\b\b\b\b\b\b\b\b\b\b\b\b\b\b\b\b\b\b\b\b\b\b\b\b\b\b\b\b\b\b\b\b\b\b\b\b\n",
      "\u001b[2m\u001b[36m(pid=313)\u001b[0m   52/2969 [..............................] - ETA: 2s - loss: 0.5922 - mae: 0.4003 - accuracy: 0.6869 \n",
      "\u001b[2m\u001b[36m(pid=313)\u001b[0m \b\b\b\b\b\b\b\b\b\b\b\b\b\b\b\b\b\b\b\b\b\b\b\b\b\b\b\b\b\b\b\b\b\b\b\b\b\b\b\b\b\b\b\b\b\b\b\b\b\b\b\b\b\b\b\b\b\b\b\b\b\b\b\b\b\b\b\b\b\b\b\b\b\b\b\b\b\b\b\b\b\b\b\b\b\b\b\b\b\b\b\b\b\b\b\b\b\b\b\b\n",
      "\u001b[2m\u001b[36m(pid=313)\u001b[0m  108/2969 [>.............................] - ETA: 2s - loss: 0.5905 - mae: 0.3992 - accuracy: 0.6843\n",
      "\u001b[2m\u001b[36m(pid=313)\u001b[0m \b\b\b\b\b\b\b\b\b\b\b\b\b\b\b\b\b\b\b\b\b\b\b\b\b\b\b\b\b\b\b\b\b\b\b\b\b\b\b\b\b\b\b\b\b\b\b\b\b\b\b\b\b\b\b\b\b\b\b\b\b\b\b\b\b\b\b\b\b\b\b\b\b\b\b\b\b\b\b\b\b\b\b\b\b\b\b\b\b\b\b\b\b\b\b\b\b\b\b\b\n",
      "\u001b[2m\u001b[36m(pid=313)\u001b[0m  162/2969 [>.............................] - ETA: 2s - loss: 0.5763 - mae: 0.3926 - accuracy: 0.6966\n",
      "\u001b[2m\u001b[36m(pid=313)\u001b[0m \b\b\b\b\b\b\b\b\b\b\b\b\b\b\b\b\b\b\b\b\b\b\b\b\b\b\b\b\b\b\b\b\b\b\b\b\b\b\b\b\b\b\b\b\b\b\b\b\b\b\b\b\b\b\b\b\b\b\b\b\b\b\b\b\b\b\b\b\b\b\b\b\b\b\b\b\b\b\b\b\b\b\b\b\b\b\b\b\b\b\b\b\b\b\b\b\b\b\b\b\n",
      "\u001b[2m\u001b[36m(pid=313)\u001b[0m  217/2969 [=>............................] - ETA: 2s - loss: 0.5809 - mae: 0.3948 - accuracy: 0.6910\n",
      "\u001b[2m\u001b[36m(pid=313)\u001b[0m \b\b\b\b\b\b\b\b\b\b\b\b\b\b\b\b\b\b\b\b\b\b\b\b\b\b\b\b\b\b\b\b\b\b\b\b\b\b\b\b\b\b\b\b\b\b\b\b\b\b\b\b\b\b\b\b\b\b\b\b\b\b\b\b\b\b\b\b\b\b\b\b\b\b\b\b\b\b\b\b\b\b\b\b\b\b\b\b\b\b\b\b\b\b\b\b\b\b\b\b\n",
      "\u001b[2m\u001b[36m(pid=313)\u001b[0m  262/2969 [=>............................] - ETA: 2s - loss: 0.5846 - mae: 0.3967 - accuracy: 0.6880\n",
      "\u001b[2m\u001b[36m(pid=313)\u001b[0m \b\b\b\b\b\b\b\b\b\b\b\b\b\b\b\b\b\b\b\b\b\b\b\b\b\b\b\b\b\b\b\b\b\b\b\b\b\b\b\b\b\b\b\b\b\b\b\b\b\b\b\b\b\b\b\b\b\b\b\b\b\b\b\b\b\b\b\b\b\b\b\b\b\b\b\b\b\b\b\b\b\b\b\b\b\b\b\b\b\b\b\b\b\b\b\b\b\b\b\b\n",
      "\u001b[2m\u001b[36m(pid=313)\u001b[0m  317/2969 [==>...........................] - ETA: 2s - loss: 0.5839 - mae: 0.3961 - accuracy: 0.6901\n",
      "\u001b[2m\u001b[36m(pid=313)\u001b[0m \b\b\b\b\b\b\b\b\b\b\b\b\b\b\b\b\b\b\b\b\b\b\b\b\b\b\b\b\b\b\b\b\b\b\b\b\b\b\b\b\b\b\b\b\b\b\b\b\b\b\b\b\b\b\b\b\b\b\b\b\b\b\b\b\b\b\b\b\b\b\b\b\b\b\b\b\b\b\b\b\b\b\b\b\b\b\b\b\b\b\b\b\b\b\b\b\b\b\b\b\n",
      "\u001b[2m\u001b[36m(pid=313)\u001b[0m  368/2969 [==>...........................] - ETA: 2s - loss: 0.5837 - mae: 0.3963 - accuracy: 0.6892\n",
      "\u001b[2m\u001b[36m(pid=313)\u001b[0m \b\b\b\b\b\b\b\b\b\b\b\b\b\b\b\b\b\b\b\b\b\b\b\b\b\b\b\b\b\b\b\b\b\b\b\b\b\b\b\b\b\b\b\b\b\b\b\b\b\b\b\b\b\b\b\b\b\b\b\b\b\b\b\b\b\b\b\b\b\b\b\b\b\b\b\b\b\b\b\b\b\b\b\b\b\b\b\b\b\b\b\b\b\b\b\b\b\b\b\b\n",
      "\u001b[2m\u001b[36m(pid=313)\u001b[0m  422/2969 [===>..........................] - ETA: 2s - loss: 0.5850 - mae: 0.3968 - accuracy: 0.6894\n",
      "\u001b[2m\u001b[36m(pid=313)\u001b[0m \b\b\b\b\b\b\b\b\b\b\b\b\b\b\b\b\b\b\b\b\b\b\b\b\b\b\b\b\b\b\b\b\b\b\b\b\b\b\b\b\b\b\b\b\b\b\b\b\b\b\b\b\b\b\b\b\b\b\b\b\b\b\b\b\b\b\b\b\b\b\b\b\b\b\b\b\b\b\b\b\b\b\b\b\b\b\b\b\b\b\b\b\b\b\b\b\b\b\b\b\n",
      "\u001b[2m\u001b[36m(pid=313)\u001b[0m  473/2969 [===>..........................] - ETA: 2s - loss: 0.5848 - mae: 0.3967 - accuracy: 0.6905\n",
      "\u001b[2m\u001b[36m(pid=313)\u001b[0m \b\b\b\b\b\b\b\b\b\b\b\b\b\b\b\b\b\b\b\b\b\b\b\b\b\b\b\b\b\b\b\b\b\b\b\b\b\b\b\b\b\b\b\b\b\b\b\b\b\b\b\b\b\b\b\b\b\b\b\b\b\b\b\b\b\b\b\b\b\b\b\b\b\b\b\b\b\b\b\b\b\b\b\b\b\b\b\b\b\b\b\b\b\b\b\b\b\b\b\b\n",
      "\u001b[2m\u001b[36m(pid=313)\u001b[0m  527/2969 [====>.........................] - ETA: 2s - loss: 0.5849 - mae: 0.3969 - accuracy: 0.6902\n",
      "\u001b[2m\u001b[36m(pid=313)\u001b[0m \b\b\b\b\b\b\b\b\b\b\b\b\b\b\b\b\b\b\b\b\b\b\b\b\b\b\b\b\b\b\b\b\b\b\b\b\b\b\b\b\b\b\b\b\b\b\b\b\b\b\b\b\b\b\b\b\b\b\b\b\b\b\b\b\b\b\b\b\b\b\b\b\b\b\b\b\b\b\b\b\b\b\b\b\b\b\b\b\b\b\b\b\b\b\b\b\b\b\b\b\n",
      "\u001b[2m\u001b[36m(pid=313)\u001b[0m  579/2969 [====>.........................] - ETA: 2s - loss: 0.5846 - mae: 0.3966 - accuracy: 0.6906\n",
      "\u001b[2m\u001b[36m(pid=313)\u001b[0m \b\b\b\b\b\b\b\b\b\b\b\b\b\b\b\b\b\b\b\b\b\b\b\b\b\b\b\b\b\b\b\b\b\b\b\b\b\b\b\b\b\b\b\b\b\b\b\b\b\b\b\b\b\b\b\b\b\b\b\b\b\b\b\b\b\b\b\b\b\b\b\b\b\b\b\b\b\b\b\b\b\b\b\b\b\b\b\b\b\b\b\b\b\b\b\b\b\b\b\b\n",
      "\u001b[2m\u001b[36m(pid=313)\u001b[0m  622/2969 [=====>........................] - ETA: 2s - loss: 0.5848 - mae: 0.3967 - accuracy: 0.6904\n",
      "\u001b[2m\u001b[36m(pid=313)\u001b[0m \b\b\b\b\b\b\b\b\b\b\b\b\b\b\b\b\b\b\b\b\b\b\b\b\b\b\b\b\b\b\b\b\b\b\b\b\b\b\b\b\b\b\b\b\b\b\b\b\b\b\b\b\b\b\b\b\b\b\b\b\b\b\b\b\b\b\b\b\b\b\b\b\b\b\b\b\b\b\b\b\b\b\b\b\b\b\b\b\b\b\b\b\b\b\b\b\b\b\b\b\n",
      "\u001b[2m\u001b[36m(pid=313)\u001b[0m  681/2969 [=====>........................] - ETA: 2s - loss: 0.5834 - mae: 0.3961 - accuracy: 0.6919\n",
      "\u001b[2m\u001b[36m(pid=313)\u001b[0m \b\b\b\b\b\b\b\b\b\b\b\b\b\b\b\b\b\b\b\b\b\b\b\b\b\b\b\b\b\b\b\b\b\b\b\b\b\b\b\b\b\b\b\b\b\b\b\b\b\b\b\b\b\b\b\b\b\b\b\b\b\b\b\b\b\b\b\b\b\b\b\b\b\b\b\b\b\b\b\b\b\b\b\b\b\b\b\b\b\b\b\b\b\b\b\b\b\b\b\b\n",
      "\u001b[2m\u001b[36m(pid=313)\u001b[0m  724/2969 [======>.......................] - ETA: 2s - loss: 0.5831 - mae: 0.3960 - accuracy: 0.6917\n",
      "\u001b[2m\u001b[36m(pid=313)\u001b[0m \b\b\b\b\b\b\b\b\b\b\b\b\b\b\b\b\b\b\b\b\b\b\b\b\b\b\b\b\b\b\b\b\b\b\b\b\b\b\b\b\b\b\b\b\b\b\b\b\b\b\b\b\b\b\b\b\b\b\b\b\b\b\b\b\b\b\b\b\b\b\b\b\b\b\b\b\b\b\b\b\b\b\b\b\b\b\b\b\b\b\b\b\b\b\b\b\b\b\b\b\n",
      "\u001b[2m\u001b[36m(pid=313)\u001b[0m  782/2969 [======>.......................] - ETA: 2s - loss: 0.5827 - mae: 0.3957 - accuracy: 0.6929\n",
      "\u001b[2m\u001b[36m(pid=313)\u001b[0m \b\b\b\b\b\b\b\b\b\b\b\b\b\b\b\b\b\b\b\b\b\b\b\b\b\b\b\b\b\b\b\b\b\b\b\b\b\b\b\b\b\b\b\b\b\b\b\b\b\b\b\b\b\b\b\b\b\b\b\b\b\b\b\b\b\b\b\b\b\b\b\b\b\b\b\b\b\b\b\b\b\b\b\b\b\b\b\b\b\b\b\b\b\b\b\b\b\b\b\b\n",
      "\u001b[2m\u001b[36m(pid=313)\u001b[0m  834/2969 [=======>......................] - ETA: 2s - loss: 0.5819 - mae: 0.3953 - accuracy: 0.6939\n",
      "\u001b[2m\u001b[36m(pid=313)\u001b[0m \b\b\b\b\b\b\b\b\b\b\b\b\b\b\b\b\b\b\b\b\b\b\b\b\b\b\b\b\b\b\b\b\b\b\b\b\b\b\b\b\b\b\b\b\b\b\b\b\b\b\b\b\b\b\b\b\b\b\b\b\b\b\b\b\b\b\b\b\b\b\b\b\b\b\b\b\b\b\b\b\b\b\b\b\b\b\b\b\b\b\b\b\b\b\b\b\b\b\b\b\n",
      "\u001b[2m\u001b[36m(pid=313)\u001b[0m  893/2969 [========>.....................] - ETA: 1s - loss: 0.5810 - mae: 0.3949 - accuracy: 0.6949\n",
      "\u001b[2m\u001b[36m(pid=313)\u001b[0m \b\b\b\b\b\b\b\b\b\b\b\b\b\b\b\b\b\b\b\b\b\b\b\b\b\b\b\b\b\b\b\b\b\b\b\b\b\b\b\b\b\b\b\b\b\b\b\b\b\b\b\b\b\b\b\b\b\b\b\b\b\b\b\b\b\b\b\b\b\b\b\b\b\b\b\b\b\b\b\b\b\b\b\b\b\b\b\b\b\b\b\b\b\b\b\b\b\b\b\b\n",
      "\u001b[2m\u001b[36m(pid=313)\u001b[0m  943/2969 [========>.....................] - ETA: 1s - loss: 0.5810 - mae: 0.3950 - accuracy: 0.6946\n",
      "\u001b[2m\u001b[36m(pid=313)\u001b[0m \b\b\b\b\b\b\b\b\b\b\b\b\b\b\b\b\b\b\b\b\b\b\b\b\b\b\b\b\b\b\b\b\b\b\b\b\b\b\b\b\b\b\b\b\b\b\b\b\b\b\b\b\b\b\b\b\b\b\b\b\b\b\b\b\b\b\b\b\b\b\b\b\b\b\b\b\b\b\b\b\b\b\b\b\b\b\b\b\b\b\b\b\b\b\b\b\b\b\b\b\n",
      "\u001b[2m\u001b[36m(pid=313)\u001b[0m  996/2969 [=========>....................] - ETA: 1s - loss: 0.5813 - mae: 0.3950 - accuracy: 0.6944\n",
      "\u001b[2m\u001b[36m(pid=313)\u001b[0m \b\b\b\b\b\b\b\b\b\b\b\b\b\b\b\b\b\b\b\b\b\b\b\b\b\b\b\b\b\b\b\b\b\b\b\b\b\b\b\b\b\b\b\b\b\b\b\b\b\b\b\b\b\b\b\b\b\b\b\b\b\b\b\b\b\b\b\b\b\b\b\b\b\b\b\b\b\b\b\b\b\b\b\b\b\b\b\b\b\b\b\b\b\b\b\b\b\b\b\b\n",
      "\u001b[2m\u001b[36m(pid=313)\u001b[0m 1050/2969 [=========>....................] - ETA: 1s - loss: 0.5817 - mae: 0.3953 - accuracy: 0.6938\n",
      "\u001b[2m\u001b[36m(pid=313)\u001b[0m \b\b\b\b\b\b\b\b\b\b\b\b\b\b\b\b\b\b\b\b\b\b\b\b\b\b\b\b\b\b\b\b\b\b\b\b\b\b\b\b\b\b\b\b\b\b\b\b\b\b\b\b\b\b\b\b\b\b\b\b\b\b\b\b\b\b\b\b\b\b\b\b\b\b\b\b\b\b\b\b\b\b\b\b\b\b\b\b\b\b\b\b\b\b\b\b\b\b\b\b\n",
      "\u001b[2m\u001b[36m(pid=313)\u001b[0m 1106/2969 [==========>...................] - ETA: 1s - loss: 0.5824 - mae: 0.3956 - accuracy: 0.6936\n",
      "\u001b[2m\u001b[36m(pid=313)\u001b[0m \b\b\b\b\b\b\b\b\b\b\b\b\b\b\b\b\b\b\b\b\b\b\b\b\b\b\b\b\b\b\b\b\b\b\b\b\b\b\b\b\b\b\b\b\b\b\b\b\b\b\b\b\b\b\b\b\b\b\b\b\b\b\b\b\b\b\b\b\b\b\b\b\b\b\b\b\b\b\b\b\b\b\b\b\b\b\b\b\b\b\b\b\b\b\b\b\b\b\b\b\n",
      "\u001b[2m\u001b[36m(pid=313)\u001b[0m 1160/2969 [==========>...................] - ETA: 1s - loss: 0.5821 - mae: 0.3954 - accuracy: 0.6939\n",
      "\u001b[2m\u001b[36m(pid=313)\u001b[0m \b\b\b\b\b\b\b\b\b\b\b\b\b\b\b\b\b\b\b\b\b\b\b\b\b\b\b\b\b\b\b\b\b\b\b\b\b\b\b\b\b\b\b\b\b\b\b\b\b\b\b\b\b\b\b\b\b\b\b\b\b\b\b\b\b\b\b\b\b\b\b\b\b\b\b\b\b\b\b\b\b\b\b\b\b\b\b\b\b\b\b\b\b\b\b\b\b\b\b\b\n",
      "\u001b[2m\u001b[36m(pid=313)\u001b[0m 1218/2969 [===========>..................] - ETA: 1s - loss: 0.5826 - mae: 0.3957 - accuracy: 0.6932\n",
      "\u001b[2m\u001b[36m(pid=313)\u001b[0m \b\b\b\b\b\b\b\b\b\b\b\b\b\b\b\b\b\b\b\b\b\b\b\b\b\b\b\b\b\b\b\b\b\b\b\b\b\b\b\b\b\b\b\b\b\b\b\b\b\b\b\b\b\b\b\b\b\b\b\b\b\b\b\b\b\b\b\b\b\b\b\b\b\b\b\b\b\b\b\b\b\b\b\b\b\b\b\b\b\b\b\b\b\b\b\b\b\b\b\b\n",
      "\u001b[2m\u001b[36m(pid=313)\u001b[0m 1276/2969 [===========>..................] - ETA: 1s - loss: 0.5827 - mae: 0.3958 - accuracy: 0.6932\n",
      "\u001b[2m\u001b[36m(pid=313)\u001b[0m \b\b\b\b\b\b\b\b\b\b\b\b\b\b\b\b\b\b\b\b\b\b\b\b\b\b\b\b\b\b\b\b\b\b\b\b\b\b\b\b\b\b\b\b\b\b\b\b\b\b\b\b\b\b\b\b\b\b\b\b\b\b\b\b\b\b\b\b\b\b\b\b\b\b\b\b\b\b\b\b\b\b\b\b\b\b\b\b\b\b\b\b\b\b\b\b\b\b\b\b\n",
      "\u001b[2m\u001b[36m(pid=313)\u001b[0m 1331/2969 [============>.................] - ETA: 1s - loss: 0.5826 - mae: 0.3957 - accuracy: 0.6932\n",
      "\u001b[2m\u001b[36m(pid=313)\u001b[0m \b\b\b\b\b\b\b\b\b\b\b\b\b\b\b\b\b\b\b\b\b\b\b\b\b\b\b\b\b\b\b\b\b\b\b\b\b\b\b\b\b\b\b\b\b\b\b\b\b\b\b\b\b\b\b\b\b\b\b\b\b\b\b\b\b\b\b\b\b\b\b\b\b\b\b\b\b\b\b\b\b\b\b\b\b\b\b\b\b\b\b\b\b\b\b\b\b\b\b\b\n",
      "\u001b[2m\u001b[36m(pid=313)\u001b[0m 1381/2969 [============>.................] - ETA: 1s - loss: 0.5822 - mae: 0.3956 - accuracy: 0.6934\n",
      "\u001b[2m\u001b[36m(pid=313)\u001b[0m \b\b\b\b\b\b\b\b\b\b\b\b\b\b\b\b\b\b\b\b\b\b\b\b\b\b\b\b\b\b\b\b\b\b\b\b\b\b\b\b\b\b\b\b\b\b\b\b\b\b\b\b\b\b\b\b\b\b\b\b\b\b\b\b\b\b\b\b\b\b\b\b\b\b\b\b\b\b\b\b\b\b\b\b\b\b\b\b\b\b\b\b\b\b\b\b\b\b\b\b\n",
      "\u001b[2m\u001b[36m(pid=313)\u001b[0m 1432/2969 [=============>................] - ETA: 1s - loss: 0.5820 - mae: 0.3956 - accuracy: 0.6933\n",
      "\u001b[2m\u001b[36m(pid=313)\u001b[0m \b\b\b\b\b\b\b\b\b\b\b\b\b\b\b\b\b\b\b\b\b\b\b\b\b\b\b\b\b\b\b\b\b\b\b\b\b\b\b\b\b\b\b\b\b\b\b\b\b\b\b\b\b\b\b\b\b\b\b\b\b\b\b\b\b\b\b\b\b\b\b\b\b\b\b\b\b\b\b\b\b\b\b\b\b\b\b\b\b\b\b\b\b\b\b\b\b\b\b\b\n",
      "\u001b[2m\u001b[36m(pid=313)\u001b[0m 1491/2969 [==============>...............] - ETA: 1s - loss: 0.5821 - mae: 0.3956 - accuracy: 0.6934\n",
      "\u001b[2m\u001b[36m(pid=313)\u001b[0m \b\b\b\b\b\b\b\b\b\b\b\b\b\b\b\b\b\b\b\b\b\b\b\b\b\b\b\b\b\b\b\b\b\b\b\b\b\b\b\b\b\b\b\b\b\b\b\b\b\b\b\b\b\b\b\b\b\b\b\b\b\b\b\b\b\b\b\b\b\b\b\b\b\b\b\b\b\b\b\b\b\b\b\b\b\b\b\b\b\b\b\b\b\b\b\b\b\b\b\b\n",
      "\u001b[2m\u001b[36m(pid=313)\u001b[0m 1542/2969 [==============>...............] - ETA: 1s - loss: 0.5822 - mae: 0.3956 - accuracy: 0.6934\n",
      "\u001b[2m\u001b[36m(pid=313)\u001b[0m \b\b\b\b\b\b\b\b\b\b\b\b\b\b\b\b\b\b\b\b\b\b\b\b\b\b\b\b\b\b\b\b\b\b\b\b\b\b\b\b\b\b\b\b\b\b\b\b\b\b\b\b\b\b\b\b\b\b\b\b\b\b\b\b\b\b\b\b\b\b\b\b\b\b\b\b\b\b\b\b\b\b\b\b\b\b\b\b\b\b\b\b\b\b\b\b\b\b\b\b\n",
      "\u001b[2m\u001b[36m(pid=313)\u001b[0m 1597/2969 [===============>..............] - ETA: 1s - loss: 0.5831 - mae: 0.3961 - accuracy: 0.6928\n",
      "\u001b[2m\u001b[36m(pid=313)\u001b[0m \b\b\b\b\b\b\b\b\b\b\b\b\b\b\b\b\b\b\b\b\b\b\b\b\b\b\b\b\b\b\b\b\b\b\b\b\b\b\b\b\b\b\b\b\b\b\b\b\b\b\b\b\b\b\b\b\b\b\b\b\b\b\b\b\b\b\b\b\b\b\b\b\b\b\b\b\b\b\b\b\b\b\b\b\b\b\b\b\b\b\b\b\b\b\b\b\b\b\b\b\n",
      "\u001b[2m\u001b[36m(pid=313)\u001b[0m 1642/2969 [===============>..............] - ETA: 1s - loss: 0.5833 - mae: 0.3961 - accuracy: 0.6931\n",
      "\u001b[2m\u001b[36m(pid=313)\u001b[0m \b\b\b\b\b\b\b\b\b\b\b\b\b\b\b\b\b\b\b\b\b\b\b\b\b\b\b\b\b\b\b\b\b\b\b\b\b\b\b\b\b\b\b\b\b\b\b\b\b\b\b\b\b\b\b\b\b\b\b\b\b\b\b\b\b\b\b\b\b\b\b\b\b\b\b\b\b\b\b\b\b\b\b\b\b\b\b\b\b\b\b\b\b\b\b\b\b\b\b\b\n",
      "\u001b[2m\u001b[36m(pid=313)\u001b[0m 1698/2969 [================>.............] - ETA: 1s - loss: 0.5832 - mae: 0.3960 - accuracy: 0.6932\n",
      "\u001b[2m\u001b[36m(pid=313)\u001b[0m \b\b\b\b\b\b\b\b\b\b\b\b\b\b\b\b\b\b\b\b\b\b\b\b\b\b\b\b\b\b\b\b\b\b\b\b\b\b\b\b\b\b\b\b\b\b\b\b\b\b\b\b\b\b\b\b\b\b\b\b\b\b\b\b\b\b\b\b\b\b\b\b\b\b\b\b\b\b\b\b\b\b\b\b\b\b\b\b\b\b\b\b\b\b\b\b\b\b\b\b\n",
      "\u001b[2m\u001b[36m(pid=313)\u001b[0m 1748/2969 [================>.............] - ETA: 1s - loss: 0.5834 - mae: 0.3961 - accuracy: 0.6931\n",
      "\u001b[2m\u001b[36m(pid=313)\u001b[0m \b\b\b\b\b\b\b\b\b\b\b\b\b\b\b\b\b\b\b\b\b\b\b\b\b\b\b\b\b\b\b\b\b\b\b\b\b\b\b\b\b\b\b\b\b\b\b\b\b\b\b\b\b\b\b\b\b\b\b\b\b\b\b\b\b\b\b\b\b\b\b\b\b\b\b\b\b\b\b\b\b\b\b\b\b\b\b\b\b\b\b\b\b\b\b\b\b\b\b\b\n",
      "\u001b[2m\u001b[36m(pid=313)\u001b[0m 1791/2969 [=================>............] - ETA: 1s - loss: 0.5835 - mae: 0.3961 - accuracy: 0.6930\n",
      "\u001b[2m\u001b[36m(pid=313)\u001b[0m \b\b\b\b\b\b\b\b\b\b\b\b\b\b\b\b\b\b\b\b\b\b\b\b\b\b\b\b\b\b\b\b\b\b\b\b\b\b\b\b\b\b\b\b\b\b\b\b\b\b\b\b\b\b\b\b\b\b\b\b\b\b\b\b\b\b\b\b\b\b\b\b\b\b\b\b\b\b\b\b\b\b\b\b\b\b\b\b\b\b\b\b\b\b\b\b\b\b\b\b\n",
      "\u001b[2m\u001b[36m(pid=313)\u001b[0m 1843/2969 [=================>............] - ETA: 1s - loss: 0.5835 - mae: 0.3960 - accuracy: 0.6931\n",
      "\u001b[2m\u001b[36m(pid=313)\u001b[0m \b\b\b\b\b\b\b\b\b\b\b\b\b\b\b\b\b\b\b\b\b\b\b\b\b\b\b\b\b\b\b\b\b\b\b\b\b\b\b\b\b\b\b\b\b\b\b\b\b\b\b\b\b\b\b\b\b\b\b\b\b\b\b\b\b\b\b\b\b\b\b\b\b\b\b\b\b\b\b\b\b\b\b\b\b\b\b\b\b\b\b\b\b\b\b\b\b\b\b\b\n",
      "\u001b[2m\u001b[36m(pid=313)\u001b[0m 1896/2969 [==================>...........] - ETA: 1s - loss: 0.5835 - mae: 0.3960 - accuracy: 0.6933\n",
      "\u001b[2m\u001b[36m(pid=313)\u001b[0m \b\b\b\b\b\b\b\b\b\b\b\b\b\b\b\b\b\b\b\b\b\b\b\b\b\b\b\b\b\b\b\b\b\b\b\b\b\b\b\b\b\b\b\b\b\b\b\b\b\b\b\b\b\b\b\b\b\b\b\b\b\b\b\b\b\b\b\b\b\b\b\b\b\b\b\b\b\b\b\b\b\b\b\b\b\b\b\b\b\b\b\b\b\b\b\b\b\b\b\b\n",
      "\u001b[2m\u001b[36m(pid=313)\u001b[0m 1949/2969 [==================>...........] - ETA: 0s - loss: 0.5836 - mae: 0.3961 - accuracy: 0.6932\n",
      "\u001b[2m\u001b[36m(pid=313)\u001b[0m \b\b\b\b\b\b\b\b\b\b\b\b\b\b\b\b\b\b\b\b\b\b\b\b\b\b\b\b\b\b\b\b\b\b\b\b\b\b\b\b\b\b\b\b\b\b\b\b\b\b\b\b\b\b\b\b\b\b\b\b\b\b\b\b\b\b\b\b\b\b\b\b\b\b\b\b\b\b\b\b\b\b\b\b\b\b\b\b\b\b\b\b\b\b\b\b\b\b\b\b\n",
      "\u001b[2m\u001b[36m(pid=313)\u001b[0m 2006/2969 [===================>..........] - ETA: 0s - loss: 0.5834 - mae: 0.3959 - accuracy: 0.6934\n",
      "\u001b[2m\u001b[36m(pid=313)\u001b[0m \b\b\b\b\b\b\b\b\b\b\b\b\b\b\b\b\b\b\b\b\b\b\b\b\b\b\b\b\b\b\b\b\b\b\b\b\b\b\b\b\b\b\b\b\b\b\b\b\b\b\b\b\b\b\b\b\b\b\b\b\b\b\b\b\b\b\b\b\b\b\b\b\b\b\b\b\b\b\b\b\b\b\b\b\b\b\b\b\b\b\b\b\b\b\b\b\b\b\b\b\n",
      "\u001b[2m\u001b[36m(pid=313)\u001b[0m 2056/2969 [===================>..........] - ETA: 0s - loss: 0.5832 - mae: 0.3958 - accuracy: 0.6940\n",
      "\u001b[2m\u001b[36m(pid=313)\u001b[0m \b\b\b\b\b\b\b\b\b\b\b\b\b\b\b\b\b\b\b\b\b\b\b\b\b\b\b\b\b\b\b\b\b\b\b\b\b\b\b\b\b\b\b\b\b\b\b\b\b\b\b\b\b\b\b\b\b\b\b\b\b\b\b\b\b\b\b\b\b\b\b\b\b\b\b\b\b\b\b\b\b\b\b\b\b\b\b\b\b\b\b\b\b\b\b\b\b\b\b\b\n",
      "\u001b[2m\u001b[36m(pid=313)\u001b[0m 2107/2969 [====================>.........] - ETA: 0s - loss: 0.5835 - mae: 0.3960 - accuracy: 0.6937\n",
      "\u001b[2m\u001b[36m(pid=313)\u001b[0m \b\b\b\b\b\b\b\b\b\b\b\b\b\b\b\b\b\b\b\b\b\b\b\b\b\b\b\b\b\b\b\b\b\b\b\b\b\b\b\b\b\b\b\b\b\b\b\b\b\b\b\b\b\b\b\b\b\b\b\b\b\b\b\b\b\b\b\b\b\b\b\b\b\b\b\b\b\b\b\b\b\b\b\b\b\b\b\b\b\b\b\b\b\b\b\b\b\b\b\b\n",
      "\u001b[2m\u001b[36m(pid=313)\u001b[0m 2162/2969 [====================>.........] - ETA: 0s - loss: 0.5832 - mae: 0.3958 - accuracy: 0.6945\n",
      "\u001b[2m\u001b[36m(pid=313)\u001b[0m \b\b\b\b\b\b\b\b\b\b\b\b\b\b\b\b\b\b\b\b\b\b\b\b\b\b\b\b\b\b\b\b\b\b\b\b\b\b\b\b\b\b\b\b\b\b\b\b\b\b\b\b\b\b\b\b\b\b\b\b\b\b\b\b\b\b\b\b\b\b\b\b\b\b\b\b\b\b\b\b\b\b\b\b\b\b\b\b\b\b\b\b\b\b\b\b\b\b\b\b\n",
      "\u001b[2m\u001b[36m(pid=313)\u001b[0m 2217/2969 [=====================>........] - ETA: 0s - loss: 0.5832 - mae: 0.3958 - accuracy: 0.6944\n",
      "\u001b[2m\u001b[36m(pid=313)\u001b[0m \b\b\b\b\b\b\b\b\b\b\b\b\b\b\b\b\b\b\b\b\b\b\b\b\b\b\b\b\b\b\b\b\b\b\b\b\b\b\b\b\b\b\b\b\b\b\b\b\b\b\b\b\b\b\b\b\b\b\b\b\b\b\b\b\b\b\b\b\b\b\b\b\b\b\b\b\b\b\b\b\b\b\b\b\b\b\b\b\b\b\b\b\b\b\b\b\b\b\b\b\n",
      "\u001b[2m\u001b[36m(pid=313)\u001b[0m 2270/2969 [=====================>........] - ETA: 0s - loss: 0.5833 - mae: 0.3959 - accuracy: 0.6942\n",
      "\u001b[2m\u001b[36m(pid=313)\u001b[0m \b\b\b\b\b\b\b\b\b\b\b\b\b\b\b\b\b\b\b\b\b\b\b\b\b\b\b\b\b\b\b\b\b\b\b\b\b\b\b\b\b\b\b\b\b\b\b\b\b\b\b\b\b\b\b\b\b\b\b\b\b\b\b\b\b\b\b\b\b\b\b\b\b\b\b\b\b\b\b\b\b\b\b\b\b\b\b\b\b\b\b\b\b\b\b\b\b\b\b\b\n",
      "\u001b[2m\u001b[36m(pid=313)\u001b[0m 2323/2969 [======================>.......] - ETA: 0s - loss: 0.5831 - mae: 0.3957 - accuracy: 0.6943\n",
      "\u001b[2m\u001b[36m(pid=313)\u001b[0m \b\b\b\b\b\b\b\b\b\b\b\b\b\b\b\b\b\b\b\b\b\b\b\b\b\b\b\b\b\b\b\b\b\b\b\b\b\b\b\b\b\b\b\b\b\b\b\b\b\b\b\b\b\b\b\b\b\b\b\b\b\b\b\b\b\b\b\b\b\b\b\b\b\b\b\b\b\b\b\b\b\b\b\b\b\b\b\b\b\b\b\b\b\b\b\b\b\b\b\b\n",
      "\u001b[2m\u001b[36m(pid=313)\u001b[0m 2379/2969 [=======================>......] - ETA: 0s - loss: 0.5834 - mae: 0.3959 - accuracy: 0.6940\n",
      "\u001b[2m\u001b[36m(pid=313)\u001b[0m \b\b\b\b\b\b\b\b\b\b\b\b\b\b\b\b\b\b\b\b\b\b\b\b\b\b\b\b\b\b\b\b\b\b\b\b\b\b\b\b\b\b\b\b\b\b\b\b\b\b\b\b\b\b\b\b\b\b\b\b\b\b\b\b\b\b\b\b\b\b\b\b\b\b\b\b\b\b\b\b\b\b\b\b\b\b\b\b\b\b\b\b\b\b\b\b\b\b\b\b\n",
      "\u001b[2m\u001b[36m(pid=313)\u001b[0m 2432/2969 [=======================>......] - ETA: 0s - loss: 0.5834 - mae: 0.3959 - accuracy: 0.6941\n",
      "\u001b[2m\u001b[36m(pid=313)\u001b[0m \b\b\b\b\b\b\b\b\b\b\b\b\b\b\b\b\b\b\b\b\b\b\b\b\b\b\b\b\b\b\b\b\b\b\b\b\b\b\b\b\b\b\b\b\b\b\b\b\b\b\b\b\b\b\b\b\b\b\b\b\b\b\b\b\b\b\b\b\b\b\b\b\b\b\b\b\b\b\b\b\b\b\b\b\b\b\b\b\b\b\b\b\b\b\b\b\b\b\b\b\n",
      "\u001b[2m\u001b[36m(pid=313)\u001b[0m 2479/2969 [========================>.....] - ETA: 0s - loss: 0.5834 - mae: 0.3959 - accuracy: 0.6943\n",
      "\u001b[2m\u001b[36m(pid=313)\u001b[0m \b\b\b\b\b\b\b\b\b\b\b\b\b\b\b\b\b\b\b\b\b\b\b\b\b\b\b\b\b\b\b\b\b\b\b\b\b\b\b\b\b\b\b\b\b\b\b\b\b\b\b\b\b\b\b\b\b\b\b\b\b\b\b\b\b\b\b\b\b\b\b\b\b\b\b\b\b\b\b\b\b\b\b\b\b\b\b\b\b\b\b\b\b\b\b\b\b\b\b\b\n",
      "\u001b[2m\u001b[36m(pid=313)\u001b[0m 2527/2969 [========================>.....] - ETA: 0s - loss: 0.5836 - mae: 0.3960 - accuracy: 0.6940\n",
      "\u001b[2m\u001b[36m(pid=313)\u001b[0m \b\b\b\b\b\b\b\b\b\b\b\b\b\b\b\b\b\b\b\b\b\b\b\b\b\b\b\b\b\b\b\b\b\b\b\b\b\b\b\b\b\b\b\b\b\b\b\b\b\b\b\b\b\b\b\b\b\b\b\b\b\b\b\b\b\b\b\b\b\b\b\b\b\b\b\b\b\b\b\b\b\b\b\b\b\b\b\b\b\b\b\b\b\b\b\b\b\b\b\b\n",
      "\u001b[2m\u001b[36m(pid=313)\u001b[0m 2585/2969 [=========================>....] - ETA: 0s - loss: 0.5836 - mae: 0.3959 - accuracy: 0.6943\n",
      "\u001b[2m\u001b[36m(pid=313)\u001b[0m \b\b\b\b\b\b\b\b\b\b\b\b\b\b\b\b\b\b\b\b\b\b\b\b\b\b\b\b\b\b\b\b\b\b\b\b\b\b\b\b\b\b\b\b\b\b\b\b\b\b\b\b\b\b\b\b\b\b\b\b\b\b\b\b\b\b\b\b\b\b\b\b\b\b\b\b\b\b\b\b\b\b\b\b\b\b\b\b\b\b\b\b\b\b\b\b\b\b\b\b\n",
      "\u001b[2m\u001b[36m(pid=313)\u001b[0m 2637/2969 [=========================>....] - ETA: 0s - loss: 0.5837 - mae: 0.3960 - accuracy: 0.6941\n",
      "\u001b[2m\u001b[36m(pid=313)\u001b[0m \b\b\b\b\b\b\b\b\b\b\b\b\b\b\b\b\b\b\b\b\b\b\b\b\b\b\b\b\b\b\b\b\b\b\b\b\b\b\b\b\b\b\b\b\b\b\b\b\b\b\b\b\b\b\b\b\b\b\b\b\b\b\b\b\b\b\b\b\b\b\b\b\b\b\b\b\b\b\b\b\b\b\b\b\b\b\b\b\b\b\b\b\b\b\b\b\b\b\b\b\n",
      "\u001b[2m\u001b[36m(pid=313)\u001b[0m 2695/2969 [==========================>...] - ETA: 0s - loss: 0.5838 - mae: 0.3961 - accuracy: 0.6941\n",
      "\u001b[2m\u001b[36m(pid=313)\u001b[0m \b\b\b\b\b\b\b\b\b\b\b\b\b\b\b\b\b\b\b\b\b\b\b\b\b\b\b\b\b\b\b\b\b\b\b\b\b\b\b\b\b\b\b\b\b\b\b\b\b\b\b\b\b\b\b\b\b\b\b\b\b\b\b\b\b\b\b\b\b\b\b\b\b\b\b\b\b\b\b\b\b\b\b\b\b\b\b\b\b\b\b\b\b\b\b\b\b\b\b\b\n",
      "\u001b[2m\u001b[36m(pid=313)\u001b[0m 2741/2969 [==========================>...] - ETA: 0s - loss: 0.5841 - mae: 0.3962 - accuracy: 0.6937\n",
      "\u001b[2m\u001b[36m(pid=313)\u001b[0m \b\b\b\b\b\b\b\b\b\b\b\b\b\b\b\b\b\b\b\b\b\b\b\b\b\b\b\b\b\b\b\b\b\b\b\b\b\b\b\b\b\b\b\b\b\b\b\b\b\b\b\b\b\b\b\b\b\b\b\b\b\b\b\b\b\b\b\b\b\b\b\b\b\b\b\b\b\b\b\b\b\b\b\b\b\b\b\b\b\b\b\b\b\b\b\b\b\b\b\b\n",
      "\u001b[2m\u001b[36m(pid=313)\u001b[0m 2799/2969 [===========================>..] - ETA: 0s - loss: 0.5840 - mae: 0.3962 - accuracy: 0.6936\n",
      "\u001b[2m\u001b[36m(pid=313)\u001b[0m \b\b\b\b\b\b\b\b\b\b\b\b\b\b\b\b\b\b\b\b\b\b\b\b\b\b\b\b\b\b\b\b\b\b\b\b\b\b\b\b\b\b\b\b\b\b\b\b\b\b\b\b\b\b\b\b\b\b\b\b\b\b\b\b\b\b\b\b\b\b\b\b\b\b\b\b\b\b\b\b\b\b\b\b\b\b\b\b\b\b\b\b\b\b\b\b\b\b\b\b\n",
      "\u001b[2m\u001b[36m(pid=313)\u001b[0m 2845/2969 [===========================>..] - ETA: 0s - loss: 0.5841 - mae: 0.3962 - accuracy: 0.6936\n"
     ]
    },
    {
     "name": "stderr",
     "output_type": "stream",
     "text": [
      "2021-08-05 12:31:06,491\tERROR worker.py:1780 -- Warning: The actor WrappedFunc has size 19782331 when pickled. It will be stored in Redis, which could cause memory issues. This may mean that its definition uses a large array or other object.\n"
     ]
    },
    {
     "name": "stdout",
     "output_type": "stream",
     "text": [
      "\u001b[2m\u001b[36m(pid=313)\u001b[0m \b\b\b\b\b\b\b\b\b\b\b\b\b\b\b\b\b\b\b\b\b\b\b\b\b\b\b\b\b\b\b\b\b\b\b\b\b\b\b\b\b\b\b\b\b\b\b\b\b\b\b\b\b\b\b\b\b\b\b\b\b\b\b\b\b\b\b\b\b\b\b\b\b\b\b\b\b\b\b\b\b\b\b\b\b\b\b\b\b\b\b\b\b\b\b\b\b\b\b\b\n",
      "\u001b[2m\u001b[36m(pid=313)\u001b[0m 2900/2969 [============================>.] - ETA: 0s - loss: 0.5842 - mae: 0.3963 - accuracy: 0.6933\n",
      "Result for train_model_2_disc_params.group_lasso.l1=6.5627,guess_params.group_lasso.l1=2.9186,slip_params.group_lasso.l1=1.3818:\n",
      "  checkpoint: weights_tune_[(2, 'disc_params.group_lasso.l1'), (9, 'guess_params.group_lasso.l1'),\n",
      "    (5, 'slip_params.group_lasso.l1')].h5\n",
      "  date: 2021-08-05_12-31-06\n",
      "  done: true\n",
      "  experiment_id: acc4cfab0ec841ce9a8abf40a281c9f7\n",
      "  hostname: d005995f49c5\n",
      "  iterations_since_restore: 1\n",
      "  mean_accuracy: 0.6934000253677368\n",
      "  mean_error: 0.5841391086578369\n",
      "  node_ip: 172.28.0.2\n",
      "  pid: 313\n",
      "  time_since_restore: 327.1404161453247\n",
      "  time_this_iter_s: 327.1404161453247\n",
      "  time_total_s: 327.1404161453247\n",
      "  timestamp: 1628166666\n",
      "  timesteps_since_restore: 0\n",
      "  training_iteration: 1\n",
      "  \n",
      "== Status ==\n",
      "Using AsyncHyperBand: num_stopped=0\n",
      "Bracket: Iter 90.000: None | Iter 30.000: None | Iter 10.000: None\n",
      "Bracket: Iter 90.000: None | Iter 30.000: None\n",
      "Bracket: Iter 90.000: None\n",
      "Resources requested: 0/4 CPUs, 0/1 GPUs\n",
      "Memory usage on this node: 1.7/13.6 GB\n",
      "Result logdir: /root/ray_results/hyperOpt_optimization\n",
      "Number of trials: 4 ({'TERMINATED': 2, 'PENDING': 2})\n",
      "PENDING trials:\n",
      " - train_model_3_disc_params.group_lasso.l1=6.6343,guess_params.group_lasso.l1=7.145,slip_params.group_lasso.l1=5.1955:\tPENDING\n",
      " - train_model_4_disc_params.group_lasso.l1=0.8419,guess_params.group_lasso.l1=9.5492,slip_params.group_lasso.l1=4.4229:\tPENDING\n",
      "TERMINATED trials:\n",
      " - train_model_1_disc_params.group_lasso.l1=2.7829,guess_params.group_lasso.l1=3.9435,slip_params.group_lasso.l1=5.9648:\tTERMINATED, [4 CPUs, 0 GPUs], [pid=312], 327 s, 1 iter, 0.693 acc\n",
      " - train_model_2_disc_params.group_lasso.l1=6.5627,guess_params.group_lasso.l1=2.9186,slip_params.group_lasso.l1=1.3818:\tTERMINATED, [4 CPUs, 0 GPUs], [pid=313], 327 s, 1 iter, 0.693 acc\n",
      "\n",
      "\u001b[2m\u001b[36m(pid=313)\u001b[0m \b\b\b\b\b\b\b\b\b\b\b\b\b\b\b\b\b\b\b\b\b\b\b\b\b\b\b\b\b\b\b\b\b\b\b\b\b\b\b\b\b\b\b\b\b\b\b\b\b\b\b\b\b\b\b\b\b\b\b\b\b\b\b\b\b\b\b\b\b\b\b\b\b\b\b\b\b\b\b\b\b\b\b\b\b\b\b\b\b\b\b\b\b\b\b\b\b\b\b\b\n",
      "\u001b[2m\u001b[36m(pid=313)\u001b[0m 2950/2969 [============================>.] - ETA: 0s - loss: 0.5841 - mae: 0.3963 - accuracy: 0.6934\b\b\b\b\b\b\b\b\b\b\b\b\b\b\b\b\b\b\b\b\b\b\b\b\b\b\b\b\b\b\b\b\b\b\b\b\b\b\b\b\b\b\b\b\b\b\b\b\b\b\b\b\b\b\b\b\b\b\b\b\b\b\b\b\b\b\b\b\b\b\b\b\b\b\b\b\b\b\b\b\b\b\b\b\b\b\b\b\b\b\b\b\b\b\b\b\b\b\b\b\n",
      "\u001b[2m\u001b[36m(pid=313)\u001b[0m 2969/2969 [==============================] - 3s 958us/step - loss: 0.5841 - mae: 0.3963 - accuracy: 0.6934\n",
      "\u001b[2m\u001b[36m(pid=3225)\u001b[0m 2021-08-05 12:31:08.370318: I tensorflow/stream_executor/platform/default/dso_loader.cc:53] Successfully opened dynamic library libcudart.so.11.0\n",
      "\u001b[2m\u001b[36m(pid=3225)\u001b[0m 2021-08-05 12:31:09,732\tERROR worker.py:1412 -- Calling ray.init() again after it has already been called.\n",
      "\u001b[2m\u001b[36m(pid=3225)\u001b[0m \n",
      "\u001b[2m\u001b[36m(pid=3225)\u001b[0m config val 1:\n",
      "\u001b[2m\u001b[36m(pid=3225)\u001b[0m  key_list: ['disc_params', 'group_lasso'];\n",
      "\u001b[2m\u001b[36m(pid=3225)\u001b[0m  values: {'l1': 6.634291754359234, 'l2': 0}\n",
      "\u001b[2m\u001b[36m(pid=3225)\u001b[0m \n",
      "\u001b[2m\u001b[36m(pid=3225)\u001b[0m \n",
      "\u001b[2m\u001b[36m(pid=3225)\u001b[0m \n",
      "\u001b[2m\u001b[36m(pid=3225)\u001b[0m config val 2:\n",
      "\u001b[2m\u001b[36m(pid=3225)\u001b[0m  key_list: ['guess_params', 'group_lasso'];\n",
      "\u001b[2m\u001b[36m(pid=3225)\u001b[0m  values: {'l1': 7.145003759304225, 'l2': 0}\n",
      "\u001b[2m\u001b[36m(pid=3225)\u001b[0m \n",
      "\u001b[2m\u001b[36m(pid=3225)\u001b[0m \n",
      "\u001b[2m\u001b[36m(pid=3225)\u001b[0m \n",
      "\u001b[2m\u001b[36m(pid=3225)\u001b[0m config val 3:\n",
      "\u001b[2m\u001b[36m(pid=3225)\u001b[0m  key_list: ['slip_params', 'group_lasso'];\n",
      "\u001b[2m\u001b[36m(pid=3225)\u001b[0m  values: {'l1': 5.195499108646523, 'l2': 0}\n",
      "\u001b[2m\u001b[36m(pid=3225)\u001b[0m \n",
      "\u001b[2m\u001b[36m(pid=3225)\u001b[0m \n",
      "\u001b[2m\u001b[36m(pid=3225)\u001b[0m \n",
      "\u001b[2m\u001b[36m(pid=3225)\u001b[0m Intitializing fit for fourPL model. . .\n",
      "\u001b[2m\u001b[36m(pid=3225)\u001b[0m Batch_size: 128; epochs: 450;\n",
      "\u001b[2m\u001b[36m(pid=3225)\u001b[0m 2021-08-05 12:31:10.623240: I tensorflow/stream_executor/platform/default/dso_loader.cc:53] Successfully opened dynamic library libcuda.so.1\n",
      "\u001b[2m\u001b[36m(pid=3225)\u001b[0m 2021-08-05 12:31:10.628720: E tensorflow/stream_executor/cuda/cuda_driver.cc:328] failed call to cuInit: CUDA_ERROR_NO_DEVICE: no CUDA-capable device is detected\n",
      "\u001b[2m\u001b[36m(pid=3225)\u001b[0m 2021-08-05 12:31:10.628768: I tensorflow/stream_executor/cuda/cuda_diagnostics.cc:169] retrieving CUDA diagnostic information for host: d005995f49c5\n",
      "\u001b[2m\u001b[36m(pid=3225)\u001b[0m 2021-08-05 12:31:10.628778: I tensorflow/stream_executor/cuda/cuda_diagnostics.cc:176] hostname: d005995f49c5\n",
      "\u001b[2m\u001b[36m(pid=3225)\u001b[0m 2021-08-05 12:31:10.628868: I tensorflow/stream_executor/cuda/cuda_diagnostics.cc:200] libcuda reported version is: 460.32.3\n",
      "\u001b[2m\u001b[36m(pid=3225)\u001b[0m 2021-08-05 12:31:10.628903: I tensorflow/stream_executor/cuda/cuda_diagnostics.cc:204] kernel reported version is: 460.32.3\n",
      "\u001b[2m\u001b[36m(pid=3225)\u001b[0m 2021-08-05 12:31:10.628912: I tensorflow/stream_executor/cuda/cuda_diagnostics.cc:310] kernel version seems to match DSO: 460.32.3\n",
      "\u001b[2m\u001b[36m(pid=3225)\u001b[0m 2021-08-05 12:31:10.629113: I tensorflow/core/platform/cpu_feature_guard.cc:142] This TensorFlow binary is optimized with oneAPI Deep Neural Network Library (oneDNN) to use the following CPU instructions in performance-critical operations:  AVX2 FMA\n",
      "\u001b[2m\u001b[36m(pid=3225)\u001b[0m To enable them in other operations, rebuild TensorFlow with the appropriate compiler flags.\n",
      "\u001b[2m\u001b[36m(pid=3225)\u001b[0m 2021-08-05 12:31:10.938766: I tensorflow/compiler/mlir/mlir_graph_optimization_pass.cc:176] None of the MLIR Optimization Passes are enabled (registered 2)\n",
      "\u001b[2m\u001b[36m(pid=3225)\u001b[0m 2021-08-05 12:31:10.939086: I tensorflow/core/platform/profile_utils/cpu_utils.cc:114] CPU Frequency: 2199995000 Hz\n",
      "\u001b[2m\u001b[36m(pid=3225)\u001b[0m \n",
      "\u001b[2m\u001b[36m(pid=3225)\u001b[0m    1/2969 [..............................] - ETA: 40s - loss: 0.6049 - mae: 0.3903 - accuracy: 0.6875\n",
      "\u001b[2m\u001b[36m(pid=3225)\u001b[0m \b\b\b\b\b\b\b\b\b\b\b\b\b\b\b\b\b\b\b\b\b\b\b\b\b\b\b\b\b\b\b\b\b\b\b\b\b\b\b\b\b\b\b\b\b\b\b\b\b\b\b\b\b\b\b\b\b\b\b\b\b\b\b\b\b\b\b\b\b\b\b\b\b\b\b\b\b\b\b\b\b\b\b\b\b\b\b\b\b\b\b\b\b\b\b\b\b\b\b\b\b\n",
      "\u001b[2m\u001b[36m(pid=3225)\u001b[0m   54/2969 [..............................] - ETA: 2s - loss: 0.5904 - mae: 0.3998 - accuracy: 0.6863 \n",
      "\u001b[2m\u001b[36m(pid=3225)\u001b[0m \b\b\b\b\b\b\b\b\b\b\b\b\b\b\b\b\b\b\b\b\b\b\b\b\b\b\b\b\b\b\b\b\b\b\b\b\b\b\b\b\b\b\b\b\b\b\b\b\b\b\b\b\b\b\b\b\b\b\b\b\b\b\b\b\b\b\b\b\b\b\b\b\b\b\b\b\b\b\b\b\b\b\b\b\b\b\b\b\b\b\b\b\b\b\b\b\b\b\b\b\n",
      "\u001b[2m\u001b[36m(pid=3225)\u001b[0m  114/2969 [>.............................] - ETA: 2s - loss: 0.5877 - mae: 0.3983 - accuracy: 0.6856\n",
      "\u001b[2m\u001b[36m(pid=3225)\u001b[0m \b\b\b\b\b\b\b\b\b\b\b\b\b\b\b\b\b\b\b\b\b\b\b\b\b\b\b\b\b\b\b\b\b\b\b\b\b\b\b\b\b\b\b\b\b\b\b\b\b\b\b\b\b\b\b\b\b\b\b\b\b\b\b\b\b\b\b\b\b\b\b\b\b\b\b\b\b\b\b\b\b\b\b\b\b\b\b\b\b\b\b\b\b\b\b\b\b\b\b\b\n",
      "\u001b[2m\u001b[36m(pid=3225)\u001b[0m  175/2969 [>.............................] - ETA: 2s - loss: 0.5794 - mae: 0.3942 - accuracy: 0.6932\n",
      "\u001b[2m\u001b[36m(pid=3225)\u001b[0m \b\b\b\b\b\b\b\b\b\b\b\b\b\b\b\b\b\b\b\b\b\b\b\b\b\b\b\b\b\b\b\b\b\b\b\b\b\b\b\b\b\b\b\b\b\b\b\b\b\b\b\b\b\b\b\b\b\b\b\b\b\b\b\b\b\b\b\b\b\b\b\b\b\b\b\b\b\b\b\b\b\b\b\b\b\b\b\b\b\b\b\b\b\b\b\b\b\b\b\b\n",
      "\u001b[2m\u001b[36m(pid=3225)\u001b[0m  237/2969 [=>............................] - ETA: 2s - loss: 0.5811 - mae: 0.3953 - accuracy: 0.6897\n",
      "\u001b[2m\u001b[36m(pid=3225)\u001b[0m \b\b\b\b\b\b\b\b\b\b\b\b\b\b\b\b\b\b\b\b\b\b\b\b\b\b\b\b\b\b\b\b\b\b\b\b\b\b\b\b\b\b\b\b\b\b\b\b\b\b\b\b\b\b\b\b\b\b\b\b\b\b\b\b\b\b\b\b\b\b\b\b\b\b\b\b\b\b\b\b\b\b\b\b\b\b\b\b\b\b\b\b\b\b\b\b\b\b\b\b\n",
      "\u001b[2m\u001b[36m(pid=3225)\u001b[0m  291/2969 [=>............................] - ETA: 2s - loss: 0.5833 - mae: 0.3965 - accuracy: 0.6891\n",
      "\u001b[2m\u001b[36m(pid=3225)\u001b[0m \b\b\b\b\b\b\b\b\b\b\b\b\b\b\b\b\b\b\b\b\b\b\b\b\b\b\b\b\b\b\b\b\b\b\b\b\b\b\b\b\b\b\b\b\b\b\b\b\b\b\b\b\b\b\b\b\b\b\b\b\b\b\b\b\b\b\b\b\b\b\b\b\b\b\b\b\b\b\b\b\b\b\b\b\b\b\b\b\b\b\b\b\b\b\b\b\b\b\b\b\n",
      "\u001b[2m\u001b[36m(pid=3225)\u001b[0m  352/2969 [==>...........................] - ETA: 2s - loss: 0.5829 - mae: 0.3963 - accuracy: 0.6887\n",
      "\u001b[2m\u001b[36m(pid=3225)\u001b[0m \b\b\b\b\b\b\b\b\b\b\b\b\b\b\b\b\b\b\b\b\b\b\b\b\b\b\b\b\b\b\b\b\b\b\b\b\b\b\b\b\b\b\b\b\b\b\b\b\b\b\b\b\b\b\b\b\b\b\b\b\b\b\b\b\b\b\b\b\b\b\b\b\b\b\b\b\b\b\b\b\b\b\b\b\b\b\b\b\b\b\b\b\b\b\b\b\b\b\b\b\n",
      "\u001b[2m\u001b[36m(pid=3225)\u001b[0m  412/2969 [===>..........................] - ETA: 2s - loss: 0.5846 - mae: 0.3970 - accuracy: 0.6885\n",
      "\u001b[2m\u001b[36m(pid=3225)\u001b[0m \b\b\b\b\b\b\b\b\b\b\b\b\b\b\b\b\b\b\b\b\b\b\b\b\b\b\b\b\b\b\b\b\b\b\b\b\b\b\b\b\b\b\b\b\b\b\b\b\b\b\b\b\b\b\b\b\b\b\b\b\b\b\b\b\b\b\b\b\b\b\b\b\b\b\b\b\b\b\b\b\b\b\b\b\b\b\b\b\b\b\b\b\b\b\b\b\b\b\b\b\n",
      "\u001b[2m\u001b[36m(pid=3225)\u001b[0m  473/2969 [===>..........................] - ETA: 2s - loss: 0.5839 - mae: 0.3968 - accuracy: 0.6900\n",
      "\u001b[2m\u001b[36m(pid=3225)\u001b[0m \b\b\b\b\b\b\b\b\b\b\b\b\b\b\b\b\b\b\b\b\b\b\b\b\b\b\b\b\b\b\b\b\b\b\b\b\b\b\b\b\b\b\b\b\b\b\b\b\b\b\b\b\b\b\b\b\b\b\b\b\b\b\b\b\b\b\b\b\b\b\b\b\b\b\b\b\b\b\b\b\b\b\b\b\b\b\b\b\b\b\b\b\b\b\b\b\b\b\b\b\n",
      "\u001b[2m\u001b[36m(pid=3225)\u001b[0m  530/2969 [====>.........................] - ETA: 2s - loss: 0.5842 - mae: 0.3970 - accuracy: 0.6893\n",
      "\u001b[2m\u001b[36m(pid=3225)\u001b[0m \b\b\b\b\b\b\b\b\b\b\b\b\b\b\b\b\b\b\b\b\b\b\b\b\b\b\b\b\b\b\b\b\b\b\b\b\b\b\b\b\b\b\b\b\b\b\b\b\b\b\b\b\b\b\b\b\b\b\b\b\b\b\b\b\b\b\b\b\b\b\b\b\b\b\b\b\b\b\b\b\b\b\b\b\b\b\b\b\b\b\b\b\b\b\b\b\b\b\b\b\n",
      "\u001b[2m\u001b[36m(pid=3225)\u001b[0m  591/2969 [====>.........................] - ETA: 2s - loss: 0.5836 - mae: 0.3967 - accuracy: 0.6904\n",
      "\u001b[2m\u001b[36m(pid=3225)\u001b[0m \b\b\b\b\b\b\b\b\b\b\b\b\b\b\b\b\b\b\b\b\b\b\b\b\b\b\b\b\b\b\b\b\b\b\b\b\b\b\b\b\b\b\b\b\b\b\b\b\b\b\b\b\b\b\b\b\b\b\b\b\b\b\b\b\b\b\b\b\b\b\b\b\b\b\b\b\b\b\b\b\b\b\b\b\b\b\b\b\b\b\b\b\b\b\b\b\b\b\b\b\n",
      "\u001b[2m\u001b[36m(pid=3225)\u001b[0m  652/2969 [=====>........................] - ETA: 1s - loss: 0.5840 - mae: 0.3968 - accuracy: 0.6903\n",
      "\u001b[2m\u001b[36m(pid=3225)\u001b[0m \b\b\b\b\b\b\b\b\b\b\b\b\b\b\b\b\b\b\b\b\b\b\b\b\b\b\b\b\b\b\b\b\b\b\b\b\b\b\b\b\b\b\b\b\b\b\b\b\b\b\b\b\b\b\b\b\b\b\b\b\b\b\b\b\b\b\b\b\b\b\b\b\b\b\b\b\b\b\b\b\b\b\b\b\b\b\b\b\b\b\b\b\b\b\b\b\b\b\b\b\n",
      "\u001b[2m\u001b[36m(pid=3225)\u001b[0m  705/2969 [======>.......................] - ETA: 1s - loss: 0.5822 - mae: 0.3960 - accuracy: 0.6919\n",
      "\u001b[2m\u001b[36m(pid=3225)\u001b[0m \b\b\b\b\b\b\b\b\b\b\b\b\b\b\b\b\b\b\b\b\b\b\b\b\b\b\b\b\b\b\b\b\b\b\b\b\b\b\b\b\b\b\b\b\b\b\b\b\b\b\b\b\b\b\b\b\b\b\b\b\b\b\b\b\b\b\b\b\b\b\b\b\b\b\b\b\b\b\b\b\b\b\b\b\b\b\b\b\b\b\b\b\b\b\b\b\b\b\b\b\n",
      "\u001b[2m\u001b[36m(pid=3225)\u001b[0m  765/2969 [======>.......................] - ETA: 1s - loss: 0.5817 - mae: 0.3957 - accuracy: 0.6921\n",
      "\u001b[2m\u001b[36m(pid=3225)\u001b[0m \b\b\b\b\b\b\b\b\b\b\b\b\b\b\b\b\b\b\b\b\b\b\b\b\b\b\b\b\b\b\b\b\b\b\b\b\b\b\b\b\b\b\b\b\b\b\b\b\b\b\b\b\b\b\b\b\b\b\b\b\b\b\b\b\b\b\b\b\b\b\b\b\b\b\b\b\b\b\b\b\b\b\b\b\b\b\b\b\b\b\b\b\b\b\b\b\b\b\b\b\n",
      "\u001b[2m\u001b[36m(pid=3225)\u001b[0m  822/2969 [=======>......................] - ETA: 1s - loss: 0.5814 - mae: 0.3955 - accuracy: 0.6932\n",
      "\u001b[2m\u001b[36m(pid=3225)\u001b[0m \b\b\b\b\b\b\b\b\b\b\b\b\b\b\b\b\b\b\b\b\b\b\b\b\b\b\b\b\b\b\b\b\b\b\b\b\b\b\b\b\b\b\b\b\b\b\b\b\b\b\b\b\b\b\b\b\b\b\b\b\b\b\b\b\b\b\b\b\b\b\b\b\b\b\b\b\b\b\b\b\b\b\b\b\b\b\b\b\b\b\b\b\b\b\b\b\b\b\b\b\n",
      "\u001b[2m\u001b[36m(pid=3225)\u001b[0m  885/2969 [=======>......................] - ETA: 1s - loss: 0.5800 - mae: 0.3948 - accuracy: 0.6945\n",
      "\u001b[2m\u001b[36m(pid=3225)\u001b[0m \b\b\b\b\b\b\b\b\b\b\b\b\b\b\b\b\b\b\b\b\b\b\b\b\b\b\b\b\b\b\b\b\b\b\b\b\b\b\b\b\b\b\b\b\b\b\b\b\b\b\b\b\b\b\b\b\b\b\b\b\b\b\b\b\b\b\b\b\b\b\b\b\b\b\b\b\b\b\b\b\b\b\b\b\b\b\b\b\b\b\b\b\b\b\b\b\b\b\b\b\n",
      "\u001b[2m\u001b[36m(pid=3225)\u001b[0m  946/2969 [========>.....................] - ETA: 1s - loss: 0.5801 - mae: 0.3949 - accuracy: 0.6944\n",
      "\u001b[2m\u001b[36m(pid=3225)\u001b[0m \b\b\b\b\b\b\b\b\b\b\b\b\b\b\b\b\b\b\b\b\b\b\b\b\b\b\b\b\b\b\b\b\b\b\b\b\b\b\b\b\b\b\b\b\b\b\b\b\b\b\b\b\b\b\b\b\b\b\b\b\b\b\b\b\b\b\b\b\b\b\b\b\b\b\b\b\b\b\b\b\b\b\b\b\b\b\b\b\b\b\b\b\b\b\b\b\b\b\b\b\n",
      "\u001b[2m\u001b[36m(pid=3225)\u001b[0m 1009/2969 [=========>....................] - ETA: 1s - loss: 0.5805 - mae: 0.3951 - accuracy: 0.6938\n",
      "\u001b[2m\u001b[36m(pid=3225)\u001b[0m \b\b\b\b\b\b\b\b\b\b\b\b\b\b\b\b\b\b\b\b\b\b\b\b\b\b\b\b\b\b\b\b\b\b\b\b\b\b\b\b\b\b\b\b\b\b\b\b\b\b\b\b\b\b\b\b\b\b\b\b\b\b\b\b\b\b\b\b\b\b\b\b\b\b\b\b\b\b\b\b\b\b\b\b\b\b\b\b\b\b\b\b\b\b\b\b\b\b\b\b\n",
      "\u001b[2m\u001b[36m(pid=3225)\u001b[0m 1066/2969 [=========>....................] - ETA: 1s - loss: 0.5810 - mae: 0.3954 - accuracy: 0.6935\n",
      "\u001b[2m\u001b[36m(pid=3225)\u001b[0m \b\b\b\b\b\b\b\b\b\b\b\b\b\b\b\b\b\b\b\b\b\b\b\b\b\b\b\b\b\b\b\b\b\b\b\b\b\b\b\b\b\b\b\b\b\b\b\b\b\b\b\b\b\b\b\b\b\b\b\b\b\b\b\b\b\b\b\b\b\b\b\b\b\b\b\b\b\b\b\b\b\b\b\b\b\b\b\b\b\b\b\b\b\b\b\b\b\b\b\b\n",
      "\u001b[2m\u001b[36m(pid=3225)\u001b[0m 1129/2969 [==========>...................] - ETA: 1s - loss: 0.5814 - mae: 0.3955 - accuracy: 0.6935\n",
      "\u001b[2m\u001b[36m(pid=3225)\u001b[0m \b\b\b\b\b\b\b\b\b\b\b\b\b\b\b\b\b\b\b\b\b\b\b\b\b\b\b\b\b\b\b\b\b\b\b\b\b\b\b\b\b\b\b\b\b\b\b\b\b\b\b\b\b\b\b\b\b\b\b\b\b\b\b\b\b\b\b\b\b\b\b\b\b\b\b\b\b\b\b\b\b\b\b\b\b\b\b\b\b\b\b\b\b\b\b\b\b\b\b\b\n",
      "\u001b[2m\u001b[36m(pid=3225)\u001b[0m 1192/2969 [===========>..................] - ETA: 1s - loss: 0.5814 - mae: 0.3955 - accuracy: 0.6934\n",
      "\u001b[2m\u001b[36m(pid=3225)\u001b[0m \b\b\b\b\b\b\b\b\b\b\b\b\b\b\b\b\b\b\b\b\b\b\b\b\b\b\b\b\b\b\b\b\b\b\b\b\b\b\b\b\b\b\b\b\b\b\b\b\b\b\b\b\b\b\b\b\b\b\b\b\b\b\b\b\b\b\b\b\b\b\b\b\b\b\b\b\b\b\b\b\b\b\b\b\b\b\b\b\b\b\b\b\b\b\b\b\b\b\b\b\n",
      "\u001b[2m\u001b[36m(pid=3225)\u001b[0m 1249/2969 [===========>..................] - ETA: 1s - loss: 0.5821 - mae: 0.3959 - accuracy: 0.6925\n",
      "\u001b[2m\u001b[36m(pid=3225)\u001b[0m \b\b\b\b\b\b\b\b\b\b\b\b\b\b\b\b\b\b\b\b\b\b\b\b\b\b\b\b\b\b\b\b\b\b\b\b\b\b\b\b\b\b\b\b\b\b\b\b\b\b\b\b\b\b\b\b\b\b\b\b\b\b\b\b\b\b\b\b\b\b\b\b\b\b\b\b\b\b\b\b\b\b\b\b\b\b\b\b\b\b\b\b\b\b\b\b\b\b\b\b\n",
      "\u001b[2m\u001b[36m(pid=3225)\u001b[0m 1309/2969 [============>.................] - ETA: 1s - loss: 0.5819 - mae: 0.3959 - accuracy: 0.6929\n",
      "\u001b[2m\u001b[36m(pid=3225)\u001b[0m \b\b\b\b\b\b\b\b\b\b\b\b\b\b\b\b\b\b\b\b\b\b\b\b\b\b\b\b\b\b\b\b\b\b\b\b\b\b\b\b\b\b\b\b\b\b\b\b\b\b\b\b\b\b\b\b\b\b\b\b\b\b\b\b\b\b\b\b\b\b\b\b\b\b\b\b\b\b\b\b\b\b\b\b\b\b\b\b\b\b\b\b\b\b\b\b\b\b\b\b\n",
      "\u001b[2m\u001b[36m(pid=3225)\u001b[0m 1367/2969 [============>.................] - ETA: 1s - loss: 0.5817 - mae: 0.3957 - accuracy: 0.6928\n",
      "\u001b[2m\u001b[36m(pid=3225)\u001b[0m \b\b\b\b\b\b\b\b\b\b\b\b\b\b\b\b\b\b\b\b\b\b\b\b\b\b\b\b\b\b\b\b\b\b\b\b\b\b\b\b\b\b\b\b\b\b\b\b\b\b\b\b\b\b\b\b\b\b\b\b\b\b\b\b\b\b\b\b\b\b\b\b\b\b\b\b\b\b\b\b\b\b\b\b\b\b\b\b\b\b\b\b\b\b\b\b\b\b\b\b\n",
      "\u001b[2m\u001b[36m(pid=3225)\u001b[0m 1429/2969 [=============>................] - ETA: 1s - loss: 0.5812 - mae: 0.3956 - accuracy: 0.6931\n",
      "\u001b[2m\u001b[36m(pid=3225)\u001b[0m \b\b\b\b\b\b\b\b\b\b\b\b\b\b\b\b\b\b\b\b\b\b\b\b\b\b\b\b\b\b\b\b\b\b\b\b\b\b\b\b\b\b\b\b\b\b\b\b\b\b\b\b\b\b\b\b\b\b\b\b\b\b\b\b\b\b\b\b\b\b\b\b\b\b\b\b\b\b\b\b\b\b\b\b\b\b\b\b\b\b\b\b\b\b\b\b\b\b\b\b\n",
      "\u001b[2m\u001b[36m(pid=3225)\u001b[0m 1492/2969 [==============>...............] - ETA: 1s - loss: 0.5813 - mae: 0.3956 - accuracy: 0.6932\n",
      "\u001b[2m\u001b[36m(pid=3225)\u001b[0m \b\b\b\b\b\b\b\b\b\b\b\b\b\b\b\b\b\b\b\b\b\b\b\b\b\b\b\b\b\b\b\b\b\b\b\b\b\b\b\b\b\b\b\b\b\b\b\b\b\b\b\b\b\b\b\b\b\b\b\b\b\b\b\b\b\b\b\b\b\b\b\b\b\b\b\b\b\b\b\b\b\b\b\b\b\b\b\b\b\b\b\b\b\b\b\b\b\b\b\b\n",
      "\u001b[2m\u001b[36m(pid=3225)\u001b[0m 1553/2969 [==============>...............] - ETA: 1s - loss: 0.5816 - mae: 0.3957 - accuracy: 0.6929\n",
      "\u001b[2m\u001b[36m(pid=3225)\u001b[0m \b\b\b\b\b\b\b\b\b\b\b\b\b\b\b\b\b\b\b\b\b\b\b\b\b\b\b\b\b\b\b\b\b\b\b\b\b\b\b\b\b\b\b\b\b\b\b\b\b\b\b\b\b\b\b\b\b\b\b\b\b\b\b\b\b\b\b\b\b\b\b\b\b\b\b\b\b\b\b\b\b\b\b\b\b\b\b\b\b\b\b\b\b\b\b\b\b\b\b\b\n",
      "\u001b[2m\u001b[36m(pid=3225)\u001b[0m 1616/2969 [===============>..............] - ETA: 1s - loss: 0.5825 - mae: 0.3962 - accuracy: 0.6925\n",
      "\u001b[2m\u001b[36m(pid=3225)\u001b[0m \b\b\b\b\b\b\b\b\b\b\b\b\b\b\b\b\b\b\b\b\b\b\b\b\b\b\b\b\b\b\b\b\b\b\b\b\b\b\b\b\b\b\b\b\b\b\b\b\b\b\b\b\b\b\b\b\b\b\b\b\b\b\b\b\b\b\b\b\b\b\b\b\b\b\b\b\b\b\b\b\b\b\b\b\b\b\b\b\b\b\b\b\b\b\b\b\b\b\b\b\n",
      "\u001b[2m\u001b[36m(pid=3225)\u001b[0m 1665/2969 [===============>..............] - ETA: 1s - loss: 0.5826 - mae: 0.3962 - accuracy: 0.6925\n",
      "\u001b[2m\u001b[36m(pid=3225)\u001b[0m \b\b\b\b\b\b\b\b\b\b\b\b\b\b\b\b\b\b\b\b\b\b\b\b\b\b\b\b\b\b\b\b\b\b\b\b\b\b\b\b\b\b\b\b\b\b\b\b\b\b\b\b\b\b\b\b\b\b\b\b\b\b\b\b\b\b\b\b\b\b\b\b\b\b\b\b\b\b\b\b\b\b\b\b\b\b\b\b\b\b\b\b\b\b\b\b\b\b\b\b\n",
      "\u001b[2m\u001b[36m(pid=3225)\u001b[0m 1727/2969 [================>.............] - ETA: 1s - loss: 0.5822 - mae: 0.3960 - accuracy: 0.6931\n",
      "\u001b[2m\u001b[36m(pid=3225)\u001b[0m \b\b\b\b\b\b\b\b\b\b\b\b\b\b\b\b\b\b\b\b\b\b\b\b\b\b\b\b\b\b\b\b\b\b\b\b\b\b\b\b\b\b\b\b\b\b\b\b\b\b\b\b\b\b\b\b\b\b\b\b\b\b\b\b\b\b\b\b\b\b\b\b\b\b\b\b\b\b\b\b\b\b\b\b\b\b\b\b\b\b\b\b\b\b\b\b\b\b\b\b\n",
      "\u001b[2m\u001b[36m(pid=3225)\u001b[0m 1788/2969 [=================>............] - ETA: 0s - loss: 0.5827 - mae: 0.3961 - accuracy: 0.6926\n",
      "\u001b[2m\u001b[36m(pid=3225)\u001b[0m \b\b\b\b\b\b\b\b\b\b\b\b\b\b\b\b\b\b\b\b\b\b\b\b\b\b\b\b\b\b\b\b\b\b\b\b\b\b\b\b\b\b\b\b\b\b\b\b\b\b\b\b\b\b\b\b\b\b\b\b\b\b\b\b\b\b\b\b\b\b\b\b\b\b\b\b\b\b\b\b\b\b\b\b\b\b\b\b\b\b\b\b\b\b\b\b\b\b\b\b\n",
      "\u001b[2m\u001b[36m(pid=3225)\u001b[0m 1847/2969 [=================>............] - ETA: 0s - loss: 0.5827 - mae: 0.3961 - accuracy: 0.6929\n",
      "\u001b[2m\u001b[36m(pid=3225)\u001b[0m \b\b\b\b\b\b\b\b\b\b\b\b\b\b\b\b\b\b\b\b\b\b\b\b\b\b\b\b\b\b\b\b\b\b\b\b\b\b\b\b\b\b\b\b\b\b\b\b\b\b\b\b\b\b\b\b\b\b\b\b\b\b\b\b\b\b\b\b\b\b\b\b\b\b\b\b\b\b\b\b\b\b\b\b\b\b\b\b\b\b\b\b\b\b\b\b\b\b\b\b\n",
      "\u001b[2m\u001b[36m(pid=3225)\u001b[0m 1894/2969 [==================>...........] - ETA: 0s - loss: 0.5827 - mae: 0.3961 - accuracy: 0.6930\n",
      "\u001b[2m\u001b[36m(pid=3225)\u001b[0m \b\b\b\b\b\b\b\b\b\b\b\b\b\b\b\b\b\b\b\b\b\b\b\b\b\b\b\b\b\b\b\b\b\b\b\b\b\b\b\b\b\b\b\b\b\b\b\b\b\b\b\b\b\b\b\b\b\b\b\b\b\b\b\b\b\b\b\b\b\b\b\b\b\b\b\b\b\b\b\b\b\b\b\b\b\b\b\b\b\b\b\b\b\b\b\b\b\b\b\b\n",
      "\u001b[2m\u001b[36m(pid=3225)\u001b[0m 1955/2969 [==================>...........] - ETA: 0s - loss: 0.5826 - mae: 0.3960 - accuracy: 0.6932\n",
      "\u001b[2m\u001b[36m(pid=3225)\u001b[0m \b\b\b\b\b\b\b\b\b\b\b\b\b\b\b\b\b\b\b\b\b\b\b\b\b\b\b\b\b\b\b\b\b\b\b\b\b\b\b\b\b\b\b\b\b\b\b\b\b\b\b\b\b\b\b\b\b\b\b\b\b\b\b\b\b\b\b\b\b\b\b\b\b\b\b\b\b\b\b\b\b\b\b\b\b\b\b\b\b\b\b\b\b\b\b\b\b\b\b\b\n",
      "\u001b[2m\u001b[36m(pid=3225)\u001b[0m 2017/2969 [===================>..........] - ETA: 0s - loss: 0.5826 - mae: 0.3959 - accuracy: 0.6932\n",
      "\u001b[2m\u001b[36m(pid=3225)\u001b[0m \b\b\b\b\b\b\b\b\b\b\b\b\b\b\b\b\b\b\b\b\b\b\b\b\b\b\b\b\b\b\b\b\b\b\b\b\b\b\b\b\b\b\b\b\b\b\b\b\b\b\b\b\b\b\b\b\b\b\b\b\b\b\b\b\b\b\b\b\b\b\b\b\b\b\b\b\b\b\b\b\b\b\b\b\b\b\b\b\b\b\b\b\b\b\b\b\b\b\b\b\n",
      "\u001b[2m\u001b[36m(pid=3225)\u001b[0m 2081/2969 [====================>.........] - ETA: 0s - loss: 0.5824 - mae: 0.3959 - accuracy: 0.6938\n",
      "\u001b[2m\u001b[36m(pid=3225)\u001b[0m \b\b\b\b\b\b\b\b\b\b\b\b\b\b\b\b\b\b\b\b\b\b\b\b\b\b\b\b\b\b\b\b\b\b\b\b\b\b\b\b\b\b\b\b\b\b\b\b\b\b\b\b\b\b\b\b\b\b\b\b\b\b\b\b\b\b\b\b\b\b\b\b\b\b\b\b\b\b\b\b\b\b\b\b\b\b\b\b\b\b\b\b\b\b\b\b\b\b\b\b\n",
      "\u001b[2m\u001b[36m(pid=3225)\u001b[0m 2135/2969 [====================>.........] - ETA: 0s - loss: 0.5826 - mae: 0.3960 - accuracy: 0.6939\n",
      "\u001b[2m\u001b[36m(pid=3225)\u001b[0m \b\b\b\b\b\b\b\b\b\b\b\b\b\b\b\b\b\b\b\b\b\b\b\b\b\b\b\b\b\b\b\b\b\b\b\b\b\b\b\b\b\b\b\b\b\b\b\b\b\b\b\b\b\b\b\b\b\b\b\b\b\b\b\b\b\b\b\b\b\b\b\b\b\b\b\b\b\b\b\b\b\b\b\b\b\b\b\b\b\b\b\b\b\b\b\b\b\b\b\b\n",
      "\u001b[2m\u001b[36m(pid=3225)\u001b[0m 2196/2969 [=====================>........] - ETA: 0s - loss: 0.5827 - mae: 0.3960 - accuracy: 0.6940\n",
      "\u001b[2m\u001b[36m(pid=3225)\u001b[0m \b\b\b\b\b\b\b\b\b\b\b\b\b\b\b\b\b\b\b\b\b\b\b\b\b\b\b\b\b\b\b\b\b\b\b\b\b\b\b\b\b\b\b\b\b\b\b\b\b\b\b\b\b\b\b\b\b\b\b\b\b\b\b\b\b\b\b\b\b\b\b\b\b\b\b\b\b\b\b\b\b\b\b\b\b\b\b\b\b\b\b\b\b\b\b\b\b\b\b\b\n",
      "\u001b[2m\u001b[36m(pid=3225)\u001b[0m 2257/2969 [=====================>........] - ETA: 0s - loss: 0.5823 - mae: 0.3959 - accuracy: 0.6942\n",
      "\u001b[2m\u001b[36m(pid=3225)\u001b[0m \b\b\b\b\b\b\b\b\b\b\b\b\b\b\b\b\b\b\b\b\b\b\b\b\b\b\b\b\b\b\b\b\b\b\b\b\b\b\b\b\b\b\b\b\b\b\b\b\b\b\b\b\b\b\b\b\b\b\b\b\b\b\b\b\b\b\b\b\b\b\b\b\b\b\b\b\b\b\b\b\b\b\b\b\b\b\b\b\b\b\b\b\b\b\b\b\b\b\b\b\n",
      "\u001b[2m\u001b[36m(pid=3225)\u001b[0m 2320/2969 [======================>.......] - ETA: 0s - loss: 0.5825 - mae: 0.3959 - accuracy: 0.6940\n",
      "\u001b[2m\u001b[36m(pid=3225)\u001b[0m \b\b\b\b\b\b\b\b\b\b\b\b\b\b\b\b\b\b\b\b\b\b\b\b\b\b\b\b\b\b\b\b\b\b\b\b\b\b\b\b\b\b\b\b\b\b\b\b\b\b\b\b\b\b\b\b\b\b\b\b\b\b\b\b\b\b\b\b\b\b\b\b\b\b\b\b\b\b\b\b\b\b\b\b\b\b\b\b\b\b\b\b\b\b\b\b\b\b\b\b\n",
      "\u001b[2m\u001b[36m(pid=3225)\u001b[0m 2380/2969 [=======================>......] - ETA: 0s - loss: 0.5827 - mae: 0.3960 - accuracy: 0.6938\n",
      "\u001b[2m\u001b[36m(pid=3225)\u001b[0m \b\b\b\b\b\b\b\b\b\b\b\b\b\b\b\b\b\b\b\b\b\b\b\b\b\b\b\b\b\b\b\b\b\b\b\b\b\b\b\b\b\b\b\b\b\b\b\b\b\b\b\b\b\b\b\b\b\b\b\b\b\b\b\b\b\b\b\b\b\b\b\b\b\b\b\b\b\b\b\b\b\b\b\b\b\b\b\b\b\b\b\b\b\b\b\b\b\b\b\b\n",
      "\u001b[2m\u001b[36m(pid=3225)\u001b[0m 2439/2969 [=======================>......] - ETA: 0s - loss: 0.5826 - mae: 0.3959 - accuracy: 0.6939\b\b\b\b\b\b\b\b\b\b\b\b\b\b\b\b\b\b\b\b\b\b\b\b\b\b\b\b\b\b\b\b\b\b\b\b\b\b\b\b\b\b\b\b\b\b\b\b\b\b\b\b\b\b\b\b\b\b\b\b\b\b\b\b\b\b\b\b\b\b\b\b\b\b\b\b\b\b\b\b\b\b\b\b\b\b\b\b\b\b\b\b\b\b\b\b\b\b\b\b\n",
      "\u001b[2m\u001b[36m(pid=3225)\u001b[0m 2500/2969 [========================>.....] - ETA: 0s - loss: 0.5828 - mae: 0.3960 - accuracy: 0.6938\n",
      "\u001b[2m\u001b[36m(pid=3225)\u001b[0m \b\b\b\b\b\b\b\b\b\b\b\b\b\b\b\b\b\b\b\b\b\b\b\b\b\b\b\b\b\b\b\b\b\b\b\b\b\b\b\b\b\b\b\b\b\b\b\b\b\b\b\b\b\b\b\b\b\b\b\b\b\b\b\b\b\b\b\b\b\b\b\b\b\b\b\b\b\b\b\b\b\b\b\b\b\b\b\b\b\b\b\b\b\b\b\b\b\b\b\b\n",
      "\u001b[2m\u001b[36m(pid=3225)\u001b[0m 2560/2969 [========================>.....] - ETA: 0s - loss: 0.5826 - mae: 0.3959 - accuracy: 0.6941\n",
      "\u001b[2m\u001b[36m(pid=3225)\u001b[0m \b\b\b\b\b\b\b\b\b\b\b\b\b\b\b\b\b\b\b\b\b\b\b\b\b\b\b\b\b\b\b\b\b\b\b\b\b\b\b\b\b\b\b\b\b\b\b\b\b\b\b\b\b\b\b\b\b\b\b\b\b\b\b\b\b\b\b\b\b\b\b\b\b\b\b\b\b\b\b\b\b\b\b\b\b\b\b\b\b\b\b\b\b\b\b\b\b\b\b\b\n",
      "\u001b[2m\u001b[36m(pid=3225)\u001b[0m 2616/2969 [=========================>....] - ETA: 0s - loss: 0.5829 - mae: 0.3960 - accuracy: 0.6940\n",
      "\u001b[2m\u001b[36m(pid=3225)\u001b[0m \b\b\b\b\b\b\b\b\b\b\b\b\b\b\b\b\b\b\b\b\b\b\b\b\b\b\b\b\b\b\b\b\b\b\b\b\b\b\b\b\b\b\b\b\b\b\b\b\b\b\b\b\b\b\b\b\b\b\b\b\b\b\b\b\b\b\b\b\b\b\b\b\b\b\b\b\b\b\b\b\b\b\b\b\b\b\b\b\b\b\b\b\b\b\b\b\b\b\b\b\n",
      "\u001b[2m\u001b[36m(pid=3225)\u001b[0m 2671/2969 [=========================>....] - ETA: 0s - loss: 0.5829 - mae: 0.3961 - accuracy: 0.6939\n",
      "\u001b[2m\u001b[36m(pid=3225)\u001b[0m \b\b\b\b\b\b\b\b\b\b\b\b\b\b\b\b\b\b\b\b\b\b\b\b\b\b\b\b\b\b\b\b\b\b\b\b\b\b\b\b\b\b\b\b\b\b\b\b\b\b\b\b\b\b\b\b\b\b\b\b\b\b\b\b\b\b\b\b\b\b\b\b\b\b\b\b\b\b\b\b\b\b\b\b\b\b\b\b\b\b\b\b\b\b\b\b\b\b\b\b\n",
      "\u001b[2m\u001b[36m(pid=3225)\u001b[0m 2729/2969 [==========================>...] - ETA: 0s - loss: 0.5832 - mae: 0.3962 - accuracy: 0.6936\n",
      "\u001b[2m\u001b[36m(pid=3225)\u001b[0m \b\b\b\b\b\b\b\b\b\b\b\b\b\b\b\b\b\b\b\b\b\b\b\b\b\b\b\b\b\b\b\b\b\b\b\b\b\b\b\b\b\b\b\b\b\b\b\b\b\b\b\b\b\b\b\b\b\b\b\b\b\b\b\b\b\b\b\b\b\b\b\b\b\b\b\b\b\b\b\b\b\b\b\b\b\b\b\b\b\b\b\b\b\b\b\b\b\b\b\b\n",
      "\u001b[2m\u001b[36m(pid=3225)\u001b[0m 2789/2969 [===========================>..] - ETA: 0s - loss: 0.5831 - mae: 0.3962 - accuracy: 0.6935\n",
      "\u001b[2m\u001b[36m(pid=3225)\u001b[0m \b\b\b\b\b\b\b\b\b\b\b\b\b\b\b\b\b\b\b\b\b\b\b\b\b\b\b\b\b\b\b\b\b\b\b\b\b\b\b\b\b\b\b\b\b\b\b\b\b\b\b\b\b\b\b\b\b\b\b\b\b\b\b\b\b\b\b\b\b\b\b\b\b\b\b\b\b\b\b\b\b\b\b\b\b\b\b\b\b\b\b\b\b\b\b\b\b\b\b\b\n",
      "\u001b[2m\u001b[36m(pid=3225)\u001b[0m 2842/2969 [===========================>..] - ETA: 0s - loss: 0.5833 - mae: 0.3963 - accuracy: 0.6933\n",
      "\u001b[2m\u001b[36m(pid=3225)\u001b[0m \b\b\b\b\b\b\b\b\b\b\b\b\b\b\b\b\b\b\b\b\b\b\b\b\b\b\b\b\b\b\b\b\b\b\b\b\b\b\b\b\b\b\b\b\b\b\b\b\b\b\b\b\b\b\b\b\b\b\b\b\b\b\b\b\b\b\b\b\b\b\b\b\b\b\b\b\b\b\b\b\b\b\b\b\b\b\b\b\b\b\b\b\b\b\b\b\b\b\b\b\n",
      "\u001b[2m\u001b[36m(pid=3225)\u001b[0m 2893/2969 [============================>.] - ETA: 0s - loss: 0.5835 - mae: 0.3964 - accuracy: 0.6931\n",
      "\u001b[2m\u001b[36m(pid=3225)\u001b[0m \b\b\b\b\b\b\b\b\b\b\b\b\b\b\b\b\b\b\b\b\b\b\b\b\b\b\b\b\b\b\b\b\b\b\b\b\b\b\b\b\b\b\b\b\b\b\b\b\b\b\b\b\b\b\b\b\b\b\b\b\b\b\b\b\b\b\b\b\b\b\b\b\b\b\b\b\b\b\b\b\b\b\b\b\b\b\b\b\b\b\b\b\b\b\b\b\b\b\b\b\n",
      "\u001b[2m\u001b[36m(pid=3225)\u001b[0m 2948/2969 [============================>.] - ETA: 0s - loss: 0.5834 - mae: 0.3963 - accuracy: 0.6932\n",
      "Result for train_model_3_disc_params.group_lasso.l1=6.6343,guess_params.group_lasso.l1=7.145,slip_params.group_lasso.l1=5.1955:\n",
      "  checkpoint: weights_tune_[(6, 'disc_params.group_lasso.l1'), (1, 'guess_params.group_lasso.l1'),\n",
      "    (8, 'slip_params.group_lasso.l1')].h5\n",
      "  date: 2021-08-05_12-36-48\n",
      "  done: true\n",
      "  experiment_id: b87ca9906d2e4494930ffcd41699b968\n",
      "  hostname: d005995f49c5\n",
      "  iterations_since_restore: 1\n",
      "  mean_accuracy: 0.6931789517402649\n",
      "  mean_error: 0.5833627581596375\n",
      "  node_ip: 172.28.0.2\n",
      "  pid: 3225\n",
      "  time_since_restore: 337.9791102409363\n",
      "  time_this_iter_s: 337.9791102409363\n",
      "  time_total_s: 337.9791102409363\n",
      "  timestamp: 1628167008\n",
      "  timesteps_since_restore: 0\n",
      "  training_iteration: 1\n",
      "  \n",
      "== Status ==\n",
      "Using AsyncHyperBand: num_stopped=0\n",
      "Bracket: Iter 90.000: None | Iter 30.000: None | Iter 10.000: None\n",
      "Bracket: Iter 90.000: None | Iter 30.000: None\n",
      "Bracket: Iter 90.000: None\n",
      "Resources requested: 0/4 CPUs, 0/1 GPUs\n",
      "Memory usage on this node: 1.7/13.6 GB\n",
      "Result logdir: /root/ray_results/hyperOpt_optimization\n",
      "Number of trials: 4 ({'TERMINATED': 3, 'PENDING': 1})\n",
      "PENDING trials:\n",
      " - train_model_4_disc_params.group_lasso.l1=0.8419,guess_params.group_lasso.l1=9.5492,slip_params.group_lasso.l1=4.4229:\tPENDING\n",
      "TERMINATED trials:\n",
      " - train_model_1_disc_params.group_lasso.l1=2.7829,guess_params.group_lasso.l1=3.9435,slip_params.group_lasso.l1=5.9648:\tTERMINATED, [4 CPUs, 0 GPUs], [pid=312], 327 s, 1 iter, 0.693 acc\n",
      " - train_model_2_disc_params.group_lasso.l1=6.5627,guess_params.group_lasso.l1=2.9186,slip_params.group_lasso.l1=1.3818:\tTERMINATED, [4 CPUs, 0 GPUs], [pid=313], 327 s, 1 iter, 0.693 acc\n",
      " - train_model_3_disc_params.group_lasso.l1=6.6343,guess_params.group_lasso.l1=7.145,slip_params.group_lasso.l1=5.1955:\tTERMINATED, [4 CPUs, 0 GPUs], [pid=3225], 337 s, 1 iter, 0.693 acc\n",
      "\n",
      "\u001b[2m\u001b[36m(pid=3225)\u001b[0m \b\b\b\b\b\b\b\b\b\b\b\b\b\b\b\b\b\b\b\b\b\b\b\b\b\b\b\b\b\b\b\b\b\b\b\b\b\b\b\b\b\b\b\b\b\b\b\b\b\b\b\b\b\b\b\b\b\b\b\b\b\b\b\b\b\b\b\b\b\b\b\b\b\b\b\b\b\b\b\b\b\b\b\b\b\b\b\b\b\b\b\b\b\b\b\b\b\b\b\b\n",
      "\u001b[2m\u001b[36m(pid=3225)\u001b[0m 2969/2969 [==============================] - 3s 856us/step - loss: 0.5834 - mae: 0.3963 - accuracy: 0.6932\n"
     ]
    },
    {
     "name": "stderr",
     "output_type": "stream",
     "text": [
      "2021-08-05 12:36:48,645\tERROR worker.py:1780 -- Warning: The actor WrappedFunc has size 19782331 when pickled. It will be stored in Redis, which could cause memory issues. This may mean that its definition uses a large array or other object.\n"
     ]
    },
    {
     "name": "stdout",
     "output_type": "stream",
     "text": [
      "\u001b[2m\u001b[36m(pid=3230)\u001b[0m 2021-08-05 12:36:49.768151: I tensorflow/stream_executor/platform/default/dso_loader.cc:53] Successfully opened dynamic library libcudart.so.11.0\n",
      "\u001b[2m\u001b[36m(pid=3230)\u001b[0m 2021-08-05 12:36:51,048\tERROR worker.py:1412 -- Calling ray.init() again after it has already been called.\n",
      "\u001b[2m\u001b[36m(pid=3230)\u001b[0m \n",
      "\u001b[2m\u001b[36m(pid=3230)\u001b[0m config val 1:\n",
      "\u001b[2m\u001b[36m(pid=3230)\u001b[0m  key_list: ['disc_params', 'group_lasso'];\n",
      "\u001b[2m\u001b[36m(pid=3230)\u001b[0m  values: {'l1': 0.8418982931597918, 'l2': 0}\n",
      "\u001b[2m\u001b[36m(pid=3230)\u001b[0m \n",
      "\u001b[2m\u001b[36m(pid=3230)\u001b[0m \n",
      "\u001b[2m\u001b[36m(pid=3230)\u001b[0m \n",
      "\u001b[2m\u001b[36m(pid=3230)\u001b[0m config val 2:\n",
      "\u001b[2m\u001b[36m(pid=3230)\u001b[0m  key_list: ['guess_params', 'group_lasso'];\n",
      "\u001b[2m\u001b[36m(pid=3230)\u001b[0m  values: {'l1': 9.54924129569551, 'l2': 0}\n",
      "\u001b[2m\u001b[36m(pid=3230)\u001b[0m \n",
      "\u001b[2m\u001b[36m(pid=3230)\u001b[0m \n",
      "\u001b[2m\u001b[36m(pid=3230)\u001b[0m \n",
      "\u001b[2m\u001b[36m(pid=3230)\u001b[0m config val 3:\n",
      "\u001b[2m\u001b[36m(pid=3230)\u001b[0m  key_list: ['slip_params', 'group_lasso'];\n",
      "\u001b[2m\u001b[36m(pid=3230)\u001b[0m  values: {'l1': 4.4228552146004905, 'l2': 0}\n",
      "\u001b[2m\u001b[36m(pid=3230)\u001b[0m \n",
      "\u001b[2m\u001b[36m(pid=3230)\u001b[0m \n",
      "\u001b[2m\u001b[36m(pid=3230)\u001b[0m \n",
      "\u001b[2m\u001b[36m(pid=3230)\u001b[0m Intitializing fit for fourPL model. . .\n",
      "\u001b[2m\u001b[36m(pid=3230)\u001b[0m Batch_size: 128; epochs: 450;\n",
      "\u001b[2m\u001b[36m(pid=3230)\u001b[0m 2021-08-05 12:36:51.897031: I tensorflow/stream_executor/platform/default/dso_loader.cc:53] Successfully opened dynamic library libcuda.so.1\n",
      "\u001b[2m\u001b[36m(pid=3230)\u001b[0m 2021-08-05 12:36:51.902552: E tensorflow/stream_executor/cuda/cuda_driver.cc:328] failed call to cuInit: CUDA_ERROR_NO_DEVICE: no CUDA-capable device is detected\n",
      "\u001b[2m\u001b[36m(pid=3230)\u001b[0m 2021-08-05 12:36:51.902603: I tensorflow/stream_executor/cuda/cuda_diagnostics.cc:169] retrieving CUDA diagnostic information for host: d005995f49c5\n",
      "\u001b[2m\u001b[36m(pid=3230)\u001b[0m 2021-08-05 12:36:51.902613: I tensorflow/stream_executor/cuda/cuda_diagnostics.cc:176] hostname: d005995f49c5\n",
      "\u001b[2m\u001b[36m(pid=3230)\u001b[0m 2021-08-05 12:36:51.902703: I tensorflow/stream_executor/cuda/cuda_diagnostics.cc:200] libcuda reported version is: 460.32.3\n",
      "\u001b[2m\u001b[36m(pid=3230)\u001b[0m 2021-08-05 12:36:51.902731: I tensorflow/stream_executor/cuda/cuda_diagnostics.cc:204] kernel reported version is: 460.32.3\n",
      "\u001b[2m\u001b[36m(pid=3230)\u001b[0m 2021-08-05 12:36:51.902739: I tensorflow/stream_executor/cuda/cuda_diagnostics.cc:310] kernel version seems to match DSO: 460.32.3\n",
      "\u001b[2m\u001b[36m(pid=3230)\u001b[0m 2021-08-05 12:36:51.902960: I tensorflow/core/platform/cpu_feature_guard.cc:142] This TensorFlow binary is optimized with oneAPI Deep Neural Network Library (oneDNN) to use the following CPU instructions in performance-critical operations:  AVX2 FMA\n",
      "\u001b[2m\u001b[36m(pid=3230)\u001b[0m To enable them in other operations, rebuild TensorFlow with the appropriate compiler flags.\n",
      "\u001b[2m\u001b[36m(pid=3230)\u001b[0m 2021-08-05 12:36:52.186884: I tensorflow/compiler/mlir/mlir_graph_optimization_pass.cc:176] None of the MLIR Optimization Passes are enabled (registered 2)\n",
      "\u001b[2m\u001b[36m(pid=3230)\u001b[0m 2021-08-05 12:36:52.187210: I tensorflow/core/platform/profile_utils/cpu_utils.cc:114] CPU Frequency: 2199995000 Hz\n",
      "\u001b[2m\u001b[36m(pid=3230)\u001b[0m \n",
      "\u001b[2m\u001b[36m(pid=3230)\u001b[0m    1/2969 [..............................] - ETA: 40s - loss: 0.6019 - mae: 0.3906 - accuracy: 0.6875\n",
      "\u001b[2m\u001b[36m(pid=3230)\u001b[0m \b\b\b\b\b\b\b\b\b\b\b\b\b\b\b\b\b\b\b\b\b\b\b\b\b\b\b\b\b\b\b\b\b\b\b\b\b\b\b\b\b\b\b\b\b\b\b\b\b\b\b\b\b\b\b\b\b\b\b\b\b\b\b\b\b\b\b\b\b\b\b\b\b\b\b\b\b\b\b\b\b\b\b\b\b\b\b\b\b\b\b\b\b\b\b\b\b\b\b\b\b\n",
      "\u001b[2m\u001b[36m(pid=3230)\u001b[0m   59/2969 [..............................] - ETA: 2s - loss: 0.5886 - mae: 0.4008 - accuracy: 0.6801 \n",
      "\u001b[2m\u001b[36m(pid=3230)\u001b[0m \b\b\b\b\b\b\b\b\b\b\b\b\b\b\b\b\b\b\b\b\b\b\b\b\b\b\b\b\b\b\b\b\b\b\b\b\b\b\b\b\b\b\b\b\b\b\b\b\b\b\b\b\b\b\b\b\b\b\b\b\b\b\b\b\b\b\b\b\b\b\b\b\b\b\b\b\b\b\b\b\b\b\b\b\b\b\b\b\b\b\b\b\b\b\b\b\b\b\b\b\n",
      "\u001b[2m\u001b[36m(pid=3230)\u001b[0m  118/2969 [>.............................] - ETA: 2s - loss: 0.5812 - mae: 0.3972 - accuracy: 0.6864\n",
      "\u001b[2m\u001b[36m(pid=3230)\u001b[0m \b\b\b\b\b\b\b\b\b\b\b\b\b\b\b\b\b\b\b\b\b\b\b\b\b\b\b\b\b\b\b\b\b\b\b\b\b\b\b\b\b\b\b\b\b\b\b\b\b\b\b\b\b\b\b\b\b\b\b\b\b\b\b\b\b\b\b\b\b\b\b\b\b\b\b\b\b\b\b\b\b\b\b\b\b\b\b\b\b\b\b\b\b\b\b\b\b\b\b\b\n",
      "\u001b[2m\u001b[36m(pid=3230)\u001b[0m  182/2969 [>.............................] - ETA: 2s - loss: 0.5754 - mae: 0.3943 - accuracy: 0.6932\n",
      "\u001b[2m\u001b[36m(pid=3230)\u001b[0m \b\b\b\b\b\b\b\b\b\b\b\b\b\b\b\b\b\b\b\b\b\b\b\b\b\b\b\b\b\b\b\b\b\b\b\b\b\b\b\b\b\b\b\b\b\b\b\b\b\b\b\b\b\b\b\b\b\b\b\b\b\b\b\b\b\b\b\b\b\b\b\b\b\b\b\b\b\b\b\b\b\b\b\b\b\b\b\b\b\b\b\b\b\b\b\b\b\b\b\b\n",
      "\u001b[2m\u001b[36m(pid=3230)\u001b[0m  244/2969 [=>............................] - ETA: 2s - loss: 0.5774 - mae: 0.3955 - accuracy: 0.6892\n",
      "\u001b[2m\u001b[36m(pid=3230)\u001b[0m \b\b\b\b\b\b\b\b\b\b\b\b\b\b\b\b\b\b\b\b\b\b\b\b\b\b\b\b\b\b\b\b\b\b\b\b\b\b\b\b\b\b\b\b\b\b\b\b\b\b\b\b\b\b\b\b\b\b\b\b\b\b\b\b\b\b\b\b\b\b\b\b\b\b\b\b\b\b\b\b\b\b\b\b\b\b\b\b\b\b\b\b\b\b\b\b\b\b\b\b\n",
      "\u001b[2m\u001b[36m(pid=3230)\u001b[0m  303/2969 [==>...........................] - ETA: 2s - loss: 0.5803 - mae: 0.3968 - accuracy: 0.6886\n",
      "\u001b[2m\u001b[36m(pid=3230)\u001b[0m \b\b\b\b\b\b\b\b\b\b\b\b\b\b\b\b\b\b\b\b\b\b\b\b\b\b\b\b\b\b\b\b\b\b\b\b\b\b\b\b\b\b\b\b\b\b\b\b\b\b\b\b\b\b\b\b\b\b\b\b\b\b\b\b\b\b\b\b\b\b\b\b\b\b\b\b\b\b\b\b\b\b\b\b\b\b\b\b\b\b\b\b\b\b\b\b\b\b\b\b\n",
      "\u001b[2m\u001b[36m(pid=3230)\u001b[0m  361/2969 [==>...........................] - ETA: 2s - loss: 0.5793 - mae: 0.3964 - accuracy: 0.6882\n",
      "\u001b[2m\u001b[36m(pid=3230)\u001b[0m \b\b\b\b\b\b\b\b\b\b\b\b\b\b\b\b\b\b\b\b\b\b\b\b\b\b\b\b\b\b\b\b\b\b\b\b\b\b\b\b\b\b\b\b\b\b\b\b\b\b\b\b\b\b\b\b\b\b\b\b\b\b\b\b\b\b\b\b\b\b\b\b\b\b\b\b\b\b\b\b\b\b\b\b\b\b\b\b\b\b\b\b\b\b\b\b\b\b\b\b\n",
      "\u001b[2m\u001b[36m(pid=3230)\u001b[0m  422/2969 [===>..........................] - ETA: 2s - loss: 0.5806 - mae: 0.3969 - accuracy: 0.6888\n",
      "\u001b[2m\u001b[36m(pid=3230)\u001b[0m \b\b\b\b\b\b\b\b\b\b\b\b\b\b\b\b\b\b\b\b\b\b\b\b\b\b\b\b\b\b\b\b\b\b\b\b\b\b\b\b\b\b\b\b\b\b\b\b\b\b\b\b\b\b\b\b\b\b\b\b\b\b\b\b\b\b\b\b\b\b\b\b\b\b\b\b\b\b\b\b\b\b\b\b\b\b\b\b\b\b\b\b\b\b\b\b\b\b\b\b\n",
      "\u001b[2m\u001b[36m(pid=3230)\u001b[0m  484/2969 [===>..........................] - ETA: 2s - loss: 0.5813 - mae: 0.3973 - accuracy: 0.6894\n",
      "\u001b[2m\u001b[36m(pid=3230)\u001b[0m \b\b\b\b\b\b\b\b\b\b\b\b\b\b\b\b\b\b\b\b\b\b\b\b\b\b\b\b\b\b\b\b\b\b\b\b\b\b\b\b\b\b\b\b\b\b\b\b\b\b\b\b\b\b\b\b\b\b\b\b\b\b\b\b\b\b\b\b\b\b\b\b\b\b\b\b\b\b\b\b\b\b\b\b\b\b\b\b\b\b\b\b\b\b\b\b\b\b\b\b\n",
      "\u001b[2m\u001b[36m(pid=3230)\u001b[0m  548/2969 [====>.........................] - ETA: 2s - loss: 0.5803 - mae: 0.3968 - accuracy: 0.6895\n",
      "\u001b[2m\u001b[36m(pid=3230)\u001b[0m \b\b\b\b\b\b\b\b\b\b\b\b\b\b\b\b\b\b\b\b\b\b\b\b\b\b\b\b\b\b\b\b\b\b\b\b\b\b\b\b\b\b\b\b\b\b\b\b\b\b\b\b\b\b\b\b\b\b\b\b\b\b\b\b\b\b\b\b\b\b\b\b\b\b\b\b\b\b\b\b\b\b\b\b\b\b\b\b\b\b\b\b\b\b\b\b\b\b\b\b\n",
      "\u001b[2m\u001b[36m(pid=3230)\u001b[0m  603/2969 [=====>........................] - ETA: 1s - loss: 0.5805 - mae: 0.3969 - accuracy: 0.6902\n",
      "\u001b[2m\u001b[36m(pid=3230)\u001b[0m \b\b\b\b\b\b\b\b\b\b\b\b\b\b\b\b\b\b\b\b\b\b\b\b\b\b\b\b\b\b\b\b\b\b\b\b\b\b\b\b\b\b\b\b\b\b\b\b\b\b\b\b\b\b\b\b\b\b\b\b\b\b\b\b\b\b\b\b\b\b\b\b\b\b\b\b\b\b\b\b\b\b\b\b\b\b\b\b\b\b\b\b\b\b\b\b\b\b\b\b\n",
      "\u001b[2m\u001b[36m(pid=3230)\u001b[0m  660/2969 [=====>........................] - ETA: 1s - loss: 0.5799 - mae: 0.3966 - accuracy: 0.6905\n",
      "\u001b[2m\u001b[36m(pid=3230)\u001b[0m \b\b\b\b\b\b\b\b\b\b\b\b\b\b\b\b\b\b\b\b\b\b\b\b\b\b\b\b\b\b\b\b\b\b\b\b\b\b\b\b\b\b\b\b\b\b\b\b\b\b\b\b\b\b\b\b\b\b\b\b\b\b\b\b\b\b\b\b\b\b\b\b\b\b\b\b\b\b\b\b\b\b\b\b\b\b\b\b\b\b\b\b\b\b\b\b\b\b\b\b\n",
      "\u001b[2m\u001b[36m(pid=3230)\u001b[0m  718/2969 [======>.......................] - ETA: 1s - loss: 0.5787 - mae: 0.3961 - accuracy: 0.6913\n",
      "\u001b[2m\u001b[36m(pid=3230)\u001b[0m \b\b\b\b\b\b\b\b\b\b\b\b\b\b\b\b\b\b\b\b\b\b\b\b\b\b\b\b\b\b\b\b\b\b\b\b\b\b\b\b\b\b\b\b\b\b\b\b\b\b\b\b\b\b\b\b\b\b\b\b\b\b\b\b\b\b\b\b\b\b\b\b\b\b\b\b\b\b\b\b\b\b\b\b\b\b\b\b\b\b\b\b\b\b\b\b\b\b\b\b\n",
      "\u001b[2m\u001b[36m(pid=3230)\u001b[0m  776/2969 [======>.......................] - ETA: 1s - loss: 0.5783 - mae: 0.3958 - accuracy: 0.6921\n",
      "\u001b[2m\u001b[36m(pid=3230)\u001b[0m \b\b\b\b\b\b\b\b\b\b\b\b\b\b\b\b\b\b\b\b\b\b\b\b\b\b\b\b\b\b\b\b\b\b\b\b\b\b\b\b\b\b\b\b\b\b\b\b\b\b\b\b\b\b\b\b\b\b\b\b\b\b\b\b\b\b\b\b\b\b\b\b\b\b\b\b\b\b\b\b\b\b\b\b\b\b\b\b\b\b\b\b\b\b\b\b\b\b\b\b\n",
      "\u001b[2m\u001b[36m(pid=3230)\u001b[0m  823/2969 [=======>......................] - ETA: 1s - loss: 0.5778 - mae: 0.3956 - accuracy: 0.6930\n",
      "\u001b[2m\u001b[36m(pid=3230)\u001b[0m \b\b\b\b\b\b\b\b\b\b\b\b\b\b\b\b\b\b\b\b\b\b\b\b\b\b\b\b\b\b\b\b\b\b\b\b\b\b\b\b\b\b\b\b\b\b\b\b\b\b\b\b\b\b\b\b\b\b\b\b\b\b\b\b\b\b\b\b\b\b\b\b\b\b\b\b\b\b\b\b\b\b\b\b\b\b\b\b\b\b\b\b\b\b\b\b\b\b\b\b\n",
      "\u001b[2m\u001b[36m(pid=3230)\u001b[0m  886/2969 [=======>......................] - ETA: 1s - loss: 0.5764 - mae: 0.3949 - accuracy: 0.6943\n",
      "\u001b[2m\u001b[36m(pid=3230)\u001b[0m \b\b\b\b\b\b\b\b\b\b\b\b\b\b\b\b\b\b\b\b\b\b\b\b\b\b\b\b\b\b\b\b\b\b\b\b\b\b\b\b\b\b\b\b\b\b\b\b\b\b\b\b\b\b\b\b\b\b\b\b\b\b\b\b\b\b\b\b\b\b\b\b\b\b\b\b\b\b\b\b\b\b\b\b\b\b\b\b\b\b\b\b\b\b\b\b\b\b\b\b\n",
      "\u001b[2m\u001b[36m(pid=3230)\u001b[0m  949/2969 [========>.....................] - ETA: 1s - loss: 0.5766 - mae: 0.3950 - accuracy: 0.6940\b\b\b\b\b\b\b\b\b\b\b\b\b\b\b\b\b\b\b\b\b\b\b\b\b\b\b\b\b\b\b\b\b\b\b\b\b\b\b\b\b\b\b\b\b\b\b\b\b\b\b\b\b\b\b\b\b\b\b\b\b\b\b\b\b\b\b\b\b\b\b\b\b\b\b\b\b\b\b\b\b\b\b\b\b\b\b\b\b\b\b\b\b\b\b\b\b\b\b\b\n",
      "\u001b[2m\u001b[36m(pid=3230)\u001b[0m 1011/2969 [=========>....................] - ETA: 1s - loss: 0.5768 - mae: 0.3951 - accuracy: 0.6937\n",
      "\u001b[2m\u001b[36m(pid=3230)\u001b[0m \b\b\b\b\b\b\b\b\b\b\b\b\b\b\b\b\b\b\b\b\b\b\b\b\b\b\b\b\b\b\b\b\b\b\b\b\b\b\b\b\b\b\b\b\b\b\b\b\b\b\b\b\b\b\b\b\b\b\b\b\b\b\b\b\b\b\b\b\b\b\b\b\b\b\b\b\b\b\b\b\b\b\b\b\b\b\b\b\b\b\b\b\b\b\b\b\b\b\b\b\n",
      "\u001b[2m\u001b[36m(pid=3230)\u001b[0m 1069/2969 [=========>....................] - ETA: 1s - loss: 0.5775 - mae: 0.3955 - accuracy: 0.6932\n",
      "\u001b[2m\u001b[36m(pid=3230)\u001b[0m \b\b\b\b\b\b\b\b\b\b\b\b\b\b\b\b\b\b\b\b\b\b\b\b\b\b\b\b\b\b\b\b\b\b\b\b\b\b\b\b\b\b\b\b\b\b\b\b\b\b\b\b\b\b\b\b\b\b\b\b\b\b\b\b\b\b\b\b\b\b\b\b\b\b\b\b\b\b\b\b\b\b\b\b\b\b\b\b\b\b\b\b\b\b\b\b\b\b\b\b\n",
      "\u001b[2m\u001b[36m(pid=3230)\u001b[0m 1122/2969 [==========>...................] - ETA: 1s - loss: 0.5778 - mae: 0.3956 - accuracy: 0.6932\n",
      "\u001b[2m\u001b[36m(pid=3230)\u001b[0m \b\b\b\b\b\b\b\b\b\b\b\b\b\b\b\b\b\b\b\b\b\b\b\b\b\b\b\b\b\b\b\b\b\b\b\b\b\b\b\b\b\b\b\b\b\b\b\b\b\b\b\b\b\b\b\b\b\b\b\b\b\b\b\b\b\b\b\b\b\b\b\b\b\b\b\b\b\b\b\b\b\b\b\b\b\b\b\b\b\b\b\b\b\b\b\b\b\b\b\b\n",
      "\u001b[2m\u001b[36m(pid=3230)\u001b[0m 1182/2969 [==========>...................] - ETA: 1s - loss: 0.5779 - mae: 0.3957 - accuracy: 0.6933\n",
      "\u001b[2m\u001b[36m(pid=3230)\u001b[0m \b\b\b\b\b\b\b\b\b\b\b\b\b\b\b\b\b\b\b\b\b\b\b\b\b\b\b\b\b\b\b\b\b\b\b\b\b\b\b\b\b\b\b\b\b\b\b\b\b\b\b\b\b\b\b\b\b\b\b\b\b\b\b\b\b\b\b\b\b\b\b\b\b\b\b\b\b\b\b\b\b\b\b\b\b\b\b\b\b\b\b\b\b\b\b\b\b\b\b\b\n",
      "\u001b[2m\u001b[36m(pid=3230)\u001b[0m 1241/2969 [===========>..................] - ETA: 1s - loss: 0.5784 - mae: 0.3959 - accuracy: 0.6924\n",
      "\u001b[2m\u001b[36m(pid=3230)\u001b[0m \b\b\b\b\b\b\b\b\b\b\b\b\b\b\b\b\b\b\b\b\b\b\b\b\b\b\b\b\b\b\b\b\b\b\b\b\b\b\b\b\b\b\b\b\b\b\b\b\b\b\b\b\b\b\b\b\b\b\b\b\b\b\b\b\b\b\b\b\b\b\b\b\b\b\b\b\b\b\b\b\b\b\b\b\b\b\b\b\b\b\b\b\b\b\b\b\b\b\b\b\n",
      "\u001b[2m\u001b[36m(pid=3230)\u001b[0m 1296/2969 [============>.................] - ETA: 1s - loss: 0.5784 - mae: 0.3960 - accuracy: 0.6926\n",
      "\u001b[2m\u001b[36m(pid=3230)\u001b[0m \b\b\b\b\b\b\b\b\b\b\b\b\b\b\b\b\b\b\b\b\b\b\b\b\b\b\b\b\b\b\b\b\b\b\b\b\b\b\b\b\b\b\b\b\b\b\b\b\b\b\b\b\b\b\b\b\b\b\b\b\b\b\b\b\b\b\b\b\b\b\b\b\b\b\b\b\b\b\b\b\b\b\b\b\b\b\b\b\b\b\b\b\b\b\b\b\b\b\b\b\n",
      "\u001b[2m\u001b[36m(pid=3230)\u001b[0m 1359/2969 [============>.................] - ETA: 1s - loss: 0.5784 - mae: 0.3960 - accuracy: 0.6924\n",
      "\u001b[2m\u001b[36m(pid=3230)\u001b[0m \b\b\b\b\b\b\b\b\b\b\b\b\b\b\b\b\b\b\b\b\b\b\b\b\b\b\b\b\b\b\b\b\b\b\b\b\b\b\b\b\b\b\b\b\b\b\b\b\b\b\b\b\b\b\b\b\b\b\b\b\b\b\b\b\b\b\b\b\b\b\b\b\b\b\b\b\b\b\b\b\b\b\b\b\b\b\b\b\b\b\b\b\b\b\b\b\b\b\b\b\n",
      "\u001b[2m\u001b[36m(pid=3230)\u001b[0m 1420/2969 [=============>................] - ETA: 1s - loss: 0.5774 - mae: 0.3956 - accuracy: 0.6930\n",
      "\u001b[2m\u001b[36m(pid=3230)\u001b[0m \b\b\b\b\b\b\b\b\b\b\b\b\b\b\b\b\b\b\b\b\b\b\b\b\b\b\b\b\b\b\b\b\b\b\b\b\b\b\b\b\b\b\b\b\b\b\b\b\b\b\b\b\b\b\b\b\b\b\b\b\b\b\b\b\b\b\b\b\b\b\b\b\b\b\b\b\b\b\b\b\b\b\b\b\b\b\b\b\b\b\b\b\b\b\b\b\b\b\b\b\n",
      "\u001b[2m\u001b[36m(pid=3230)\u001b[0m 1480/2969 [=============>................] - ETA: 1s - loss: 0.5776 - mae: 0.3957 - accuracy: 0.6930\n",
      "\u001b[2m\u001b[36m(pid=3230)\u001b[0m \b\b\b\b\b\b\b\b\b\b\b\b\b\b\b\b\b\b\b\b\b\b\b\b\b\b\b\b\b\b\b\b\b\b\b\b\b\b\b\b\b\b\b\b\b\b\b\b\b\b\b\b\b\b\b\b\b\b\b\b\b\b\b\b\b\b\b\b\b\b\b\b\b\b\b\b\b\b\b\b\b\b\b\b\b\b\b\b\b\b\b\b\b\b\b\b\b\b\b\b\n",
      "\u001b[2m\u001b[36m(pid=3230)\u001b[0m 1540/2969 [==============>...............] - ETA: 1s - loss: 0.5777 - mae: 0.3957 - accuracy: 0.6930\n",
      "\u001b[2m\u001b[36m(pid=3230)\u001b[0m \b\b\b\b\b\b\b\b\b\b\b\b\b\b\b\b\b\b\b\b\b\b\b\b\b\b\b\b\b\b\b\b\b\b\b\b\b\b\b\b\b\b\b\b\b\b\b\b\b\b\b\b\b\b\b\b\b\b\b\b\b\b\b\b\b\b\b\b\b\b\b\b\b\b\b\b\b\b\b\b\b\b\b\b\b\b\b\b\b\b\b\b\b\b\b\b\b\b\b\b\n",
      "\u001b[2m\u001b[36m(pid=3230)\u001b[0m 1597/2969 [===============>..............] - ETA: 1s - loss: 0.5786 - mae: 0.3962 - accuracy: 0.6924\n",
      "\u001b[2m\u001b[36m(pid=3230)\u001b[0m \b\b\b\b\b\b\b\b\b\b\b\b\b\b\b\b\b\b\b\b\b\b\b\b\b\b\b\b\b\b\b\b\b\b\b\b\b\b\b\b\b\b\b\b\b\b\b\b\b\b\b\b\b\b\b\b\b\b\b\b\b\b\b\b\b\b\b\b\b\b\b\b\b\b\b\b\b\b\b\b\b\b\b\b\b\b\b\b\b\b\b\b\b\b\b\b\b\b\b\b\n",
      "\u001b[2m\u001b[36m(pid=3230)\u001b[0m 1657/2969 [===============>..............] - ETA: 1s - loss: 0.5790 - mae: 0.3963 - accuracy: 0.6924\n",
      "\u001b[2m\u001b[36m(pid=3230)\u001b[0m \b\b\b\b\b\b\b\b\b\b\b\b\b\b\b\b\b\b\b\b\b\b\b\b\b\b\b\b\b\b\b\b\b\b\b\b\b\b\b\b\b\b\b\b\b\b\b\b\b\b\b\b\b\b\b\b\b\b\b\b\b\b\b\b\b\b\b\b\b\b\b\b\b\b\b\b\b\b\b\b\b\b\b\b\b\b\b\b\b\b\b\b\b\b\b\b\b\b\b\b\n",
      "\u001b[2m\u001b[36m(pid=3230)\u001b[0m 1720/2969 [================>.............] - ETA: 1s - loss: 0.5786 - mae: 0.3961 - accuracy: 0.6928\n",
      "\u001b[2m\u001b[36m(pid=3230)\u001b[0m \b\b\b\b\b\b\b\b\b\b\b\b\b\b\b\b\b\b\b\b\b\b\b\b\b\b\b\b\b\b\b\b\b\b\b\b\b\b\b\b\b\b\b\b\b\b\b\b\b\b\b\b\b\b\b\b\b\b\b\b\b\b\b\b\b\b\b\b\b\b\b\b\b\b\b\b\b\b\b\b\b\b\b\b\b\b\b\b\b\b\b\b\b\b\b\b\b\b\b\b\n",
      "\u001b[2m\u001b[36m(pid=3230)\u001b[0m 1783/2969 [=================>............] - ETA: 1s - loss: 0.5790 - mae: 0.3962 - accuracy: 0.6925\n",
      "\u001b[2m\u001b[36m(pid=3230)\u001b[0m \b\b\b\b\b\b\b\b\b\b\b\b\b\b\b\b\b\b\b\b\b\b\b\b\b\b\b\b\b\b\b\b\b\b\b\b\b\b\b\b\b\b\b\b\b\b\b\b\b\b\b\b\b\b\b\b\b\b\b\b\b\b\b\b\b\b\b\b\b\b\b\b\b\b\b\b\b\b\b\b\b\b\b\b\b\b\b\b\b\b\b\b\b\b\b\b\b\b\b\b\n",
      "\u001b[2m\u001b[36m(pid=3230)\u001b[0m 1835/2969 [=================>............] - ETA: 0s - loss: 0.5791 - mae: 0.3962 - accuracy: 0.6925\n",
      "\u001b[2m\u001b[36m(pid=3230)\u001b[0m \b\b\b\b\b\b\b\b\b\b\b\b\b\b\b\b\b\b\b\b\b\b\b\b\b\b\b\b\b\b\b\b\b\b\b\b\b\b\b\b\b\b\b\b\b\b\b\b\b\b\b\b\b\b\b\b\b\b\b\b\b\b\b\b\b\b\b\b\b\b\b\b\b\b\b\b\b\b\b\b\b\b\b\b\b\b\b\b\b\b\b\b\b\b\b\b\b\b\b\b\n",
      "\u001b[2m\u001b[36m(pid=3230)\u001b[0m 1896/2969 [==================>...........] - ETA: 0s - loss: 0.5790 - mae: 0.3961 - accuracy: 0.6929\n",
      "\u001b[2m\u001b[36m(pid=3230)\u001b[0m \b\b\b\b\b\b\b\b\b\b\b\b\b\b\b\b\b\b\b\b\b\b\b\b\b\b\b\b\b\b\b\b\b\b\b\b\b\b\b\b\b\b\b\b\b\b\b\b\b\b\b\b\b\b\b\b\b\b\b\b\b\b\b\b\b\b\b\b\b\b\b\b\b\b\b\b\b\b\b\b\b\b\b\b\b\b\b\b\b\b\b\b\b\b\b\b\b\b\b\b\n",
      "\u001b[2m\u001b[36m(pid=3230)\u001b[0m 1959/2969 [==================>...........] - ETA: 0s - loss: 0.5788 - mae: 0.3960 - accuracy: 0.6931\n",
      "\u001b[2m\u001b[36m(pid=3230)\u001b[0m \b\b\b\b\b\b\b\b\b\b\b\b\b\b\b\b\b\b\b\b\b\b\b\b\b\b\b\b\b\b\b\b\b\b\b\b\b\b\b\b\b\b\b\b\b\b\b\b\b\b\b\b\b\b\b\b\b\b\b\b\b\b\b\b\b\b\b\b\b\b\b\b\b\b\b\b\b\b\b\b\b\b\b\b\b\b\b\b\b\b\b\b\b\b\b\b\b\b\b\b\n",
      "\u001b[2m\u001b[36m(pid=3230)\u001b[0m 2010/2969 [===================>..........] - ETA: 0s - loss: 0.5789 - mae: 0.3960 - accuracy: 0.6931\n",
      "\u001b[2m\u001b[36m(pid=3230)\u001b[0m \b\b\b\b\b\b\b\b\b\b\b\b\b\b\b\b\b\b\b\b\b\b\b\b\b\b\b\b\b\b\b\b\b\b\b\b\b\b\b\b\b\b\b\b\b\b\b\b\b\b\b\b\b\b\b\b\b\b\b\b\b\b\b\b\b\b\b\b\b\b\b\b\b\b\b\b\b\b\b\b\b\b\b\b\b\b\b\b\b\b\b\b\b\b\b\b\b\b\b\b\n",
      "\u001b[2m\u001b[36m(pid=3230)\u001b[0m 2063/2969 [===================>..........] - ETA: 0s - loss: 0.5787 - mae: 0.3959 - accuracy: 0.6937\n",
      "\u001b[2m\u001b[36m(pid=3230)\u001b[0m \b\b\b\b\b\b\b\b\b\b\b\b\b\b\b\b\b\b\b\b\b\b\b\b\b\b\b\b\b\b\b\b\b\b\b\b\b\b\b\b\b\b\b\b\b\b\b\b\b\b\b\b\b\b\b\b\b\b\b\b\b\b\b\b\b\b\b\b\b\b\b\b\b\b\b\b\b\b\b\b\b\b\b\b\b\b\b\b\b\b\b\b\b\b\b\b\b\b\b\b\n",
      "\u001b[2m\u001b[36m(pid=3230)\u001b[0m 2123/2969 [====================>.........] - ETA: 0s - loss: 0.5790 - mae: 0.3961 - accuracy: 0.6937\n",
      "\u001b[2m\u001b[36m(pid=3230)\u001b[0m \b\b\b\b\b\b\b\b\b\b\b\b\b\b\b\b\b\b\b\b\b\b\b\b\b\b\b\b\b\b\b\b\b\b\b\b\b\b\b\b\b\b\b\b\b\b\b\b\b\b\b\b\b\b\b\b\b\b\b\b\b\b\b\b\b\b\b\b\b\b\b\b\b\b\b\b\b\b\b\b\b\b\b\b\b\b\b\b\b\b\b\b\b\b\b\b\b\b\b\b\n",
      "\u001b[2m\u001b[36m(pid=3230)\u001b[0m 2184/2969 [=====================>........] - ETA: 0s - loss: 0.5788 - mae: 0.3960 - accuracy: 0.6941\n",
      "\u001b[2m\u001b[36m(pid=3230)\u001b[0m \b\b\b\b\b\b\b\b\b\b\b\b\b\b\b\b\b\b\b\b\b\b\b\b\b\b\b\b\b\b\b\b\b\b\b\b\b\b\b\b\b\b\b\b\b\b\b\b\b\b\b\b\b\b\b\b\b\b\b\b\b\b\b\b\b\b\b\b\b\b\b\b\b\b\b\b\b\b\b\b\b\b\b\b\b\b\b\b\b\b\b\b\b\b\b\b\b\b\b\b\n",
      "\u001b[2m\u001b[36m(pid=3230)\u001b[0m 2246/2969 [=====================>........] - ETA: 0s - loss: 0.5786 - mae: 0.3959 - accuracy: 0.6942\n",
      "\u001b[2m\u001b[36m(pid=3230)\u001b[0m \b\b\b\b\b\b\b\b\b\b\b\b\b\b\b\b\b\b\b\b\b\b\b\b\b\b\b\b\b\b\b\b\b\b\b\b\b\b\b\b\b\b\b\b\b\b\b\b\b\b\b\b\b\b\b\b\b\b\b\b\b\b\b\b\b\b\b\b\b\b\b\b\b\b\b\b\b\b\b\b\b\b\b\b\b\b\b\b\b\b\b\b\b\b\b\b\b\b\b\b\n",
      "\u001b[2m\u001b[36m(pid=3230)\u001b[0m 2304/2969 [======================>.......] - ETA: 0s - loss: 0.5790 - mae: 0.3960 - accuracy: 0.6937\n",
      "\u001b[2m\u001b[36m(pid=3230)\u001b[0m \b\b\b\b\b\b\b\b\b\b\b\b\b\b\b\b\b\b\b\b\b\b\b\b\b\b\b\b\b\b\b\b\b\b\b\b\b\b\b\b\b\b\b\b\b\b\b\b\b\b\b\b\b\b\b\b\b\b\b\b\b\b\b\b\b\b\b\b\b\b\b\b\b\b\b\b\b\b\b\b\b\b\b\b\b\b\b\b\b\b\b\b\b\b\b\b\b\b\b\b\n",
      "\u001b[2m\u001b[36m(pid=3230)\u001b[0m 2356/2969 [======================>.......] - ETA: 0s - loss: 0.5787 - mae: 0.3959 - accuracy: 0.6940\n",
      "\u001b[2m\u001b[36m(pid=3230)\u001b[0m \b\b\b\b\b\b\b\b\b\b\b\b\b\b\b\b\b\b\b\b\b\b\b\b\b\b\b\b\b\b\b\b\b\b\b\b\b\b\b\b\b\b\b\b\b\b\b\b\b\b\b\b\b\b\b\b\b\b\b\b\b\b\b\b\b\b\b\b\b\b\b\b\b\b\b\b\b\b\b\b\b\b\b\b\b\b\b\b\b\b\b\b\b\b\b\b\b\b\b\b\n",
      "\u001b[2m\u001b[36m(pid=3230)\u001b[0m 2414/2969 [=======================>......] - ETA: 0s - loss: 0.5790 - mae: 0.3960 - accuracy: 0.6937\n",
      "\u001b[2m\u001b[36m(pid=3230)\u001b[0m \b\b\b\b\b\b\b\b\b\b\b\b\b\b\b\b\b\b\b\b\b\b\b\b\b\b\b\b\b\b\b\b\b\b\b\b\b\b\b\b\b\b\b\b\b\b\b\b\b\b\b\b\b\b\b\b\b\b\b\b\b\b\b\b\b\b\b\b\b\b\b\b\b\b\b\b\b\b\b\b\b\b\b\b\b\b\b\b\b\b\b\b\b\b\b\b\b\b\b\b\n",
      "\u001b[2m\u001b[36m(pid=3230)\u001b[0m 2473/2969 [=======================>......] - ETA: 0s - loss: 0.5789 - mae: 0.3960 - accuracy: 0.6940\n",
      "\u001b[2m\u001b[36m(pid=3230)\u001b[0m \b\b\b\b\b\b\b\b\b\b\b\b\b\b\b\b\b\b\b\b\b\b\b\b\b\b\b\b\b\b\b\b\b\b\b\b\b\b\b\b\b\b\b\b\b\b\b\b\b\b\b\b\b\b\b\b\b\b\b\b\b\b\b\b\b\b\b\b\b\b\b\b\b\b\b\b\b\b\b\b\b\b\b\b\b\b\b\b\b\b\b\b\b\b\b\b\b\b\b\b\n",
      "\u001b[2m\u001b[36m(pid=3230)\u001b[0m 2531/2969 [========================>.....] - ETA: 0s - loss: 0.5790 - mae: 0.3960 - accuracy: 0.6939\n",
      "\u001b[2m\u001b[36m(pid=3230)\u001b[0m \b\b\b\b\b\b\b\b\b\b\b\b\b\b\b\b\b\b\b\b\b\b\b\b\b\b\b\b\b\b\b\b\b\b\b\b\b\b\b\b\b\b\b\b\b\b\b\b\b\b\b\b\b\b\b\b\b\b\b\b\b\b\b\b\b\b\b\b\b\b\b\b\b\b\b\b\b\b\b\b\b\b\b\b\b\b\b\b\b\b\b\b\b\b\b\b\b\b\b\b\n",
      "\u001b[2m\u001b[36m(pid=3230)\u001b[0m 2580/2969 [=========================>....] - ETA: 0s - loss: 0.5790 - mae: 0.3960 - accuracy: 0.6940\n",
      "\u001b[2m\u001b[36m(pid=3230)\u001b[0m \b\b\b\b\b\b\b\b\b\b\b\b\b\b\b\b\b\b\b\b\b\b\b\b\b\b\b\b\b\b\b\b\b\b\b\b\b\b\b\b\b\b\b\b\b\b\b\b\b\b\b\b\b\b\b\b\b\b\b\b\b\b\b\b\b\b\b\b\b\b\b\b\b\b\b\b\b\b\b\b\b\b\b\b\b\b\b\b\b\b\b\b\b\b\b\b\b\b\b\b\n",
      "\u001b[2m\u001b[36m(pid=3230)\u001b[0m 2636/2969 [=========================>....] - ETA: 0s - loss: 0.5792 - mae: 0.3961 - accuracy: 0.6939\n",
      "\u001b[2m\u001b[36m(pid=3230)\u001b[0m \b\b\b\b\b\b\b\b\b\b\b\b\b\b\b\b\b\b\b\b\b\b\b\b\b\b\b\b\b\b\b\b\b\b\b\b\b\b\b\b\b\b\b\b\b\b\b\b\b\b\b\b\b\b\b\b\b\b\b\b\b\b\b\b\b\b\b\b\b\b\b\b\b\b\b\b\b\b\b\b\b\b\b\b\b\b\b\b\b\b\b\b\b\b\b\b\b\b\b\b\n",
      "\u001b[2m\u001b[36m(pid=3230)\u001b[0m 2690/2969 [==========================>...] - ETA: 0s - loss: 0.5793 - mae: 0.3962 - accuracy: 0.6938\n",
      "\u001b[2m\u001b[36m(pid=3230)\u001b[0m \b\b\b\b\b\b\b\b\b\b\b\b\b\b\b\b\b\b\b\b\b\b\b\b\b\b\b\b\b\b\b\b\b\b\b\b\b\b\b\b\b\b\b\b\b\b\b\b\b\b\b\b\b\b\b\b\b\b\b\b\b\b\b\b\b\b\b\b\b\b\b\b\b\b\b\b\b\b\b\b\b\b\b\b\b\b\b\b\b\b\b\b\b\b\b\b\b\b\b\b\n",
      "\u001b[2m\u001b[36m(pid=3230)\u001b[0m 2747/2969 [==========================>...] - ETA: 0s - loss: 0.5796 - mae: 0.3963 - accuracy: 0.6934\n",
      "\u001b[2m\u001b[36m(pid=3230)\u001b[0m \b\b\b\b\b\b\b\b\b\b\b\b\b\b\b\b\b\b\b\b\b\b\b\b\b\b\b\b\b\b\b\b\b\b\b\b\b\b\b\b\b\b\b\b\b\b\b\b\b\b\b\b\b\b\b\b\b\b\b\b\b\b\b\b\b\b\b\b\b\b\b\b\b\b\b\b\b\b\b\b\b\b\b\b\b\b\b\b\b\b\b\b\b\b\b\b\b\b\b\b\n",
      "\u001b[2m\u001b[36m(pid=3230)\u001b[0m 2796/2969 [===========================>..] - ETA: 0s - loss: 0.5795 - mae: 0.3963 - accuracy: 0.6934\n",
      "\u001b[2m\u001b[36m(pid=3230)\u001b[0m \b\b\b\b\b\b\b\b\b\b\b\b\b\b\b\b\b\b\b\b\b\b\b\b\b\b\b\b\b\b\b\b\b\b\b\b\b\b\b\b\b\b\b\b\b\b\b\b\b\b\b\b\b\b\b\b\b\b\b\b\b\b\b\b\b\b\b\b\b\b\b\b\b\b\b\b\b\b\b\b\b\b\b\b\b\b\b\b\b\b\b\b\b\b\b\b\b\b\b\b\n",
      "\u001b[2m\u001b[36m(pid=3230)\u001b[0m 2847/2969 [===========================>..] - ETA: 0s - loss: 0.5796 - mae: 0.3963 - accuracy: 0.6933\n",
      "\u001b[2m\u001b[36m(pid=3230)\u001b[0m \b\b\b\b\b\b\b\b\b\b\b\b\b\b\b\b\b\b\b\b\b\b\b\b\b\b\b\b\b\b\b\b\b\b\b\b\b\b\b\b\b\b\b\b\b\b\b\b\b\b\b\b\b\b\b\b\b\b\b\b\b\b\b\b\b\b\b\b\b\b\b\b\b\b\b\b\b\b\b\b\b\b\b\b\b\b\b\b\b\b\b\b\b\b\b\b\b\b\b\b\n",
      "\u001b[2m\u001b[36m(pid=3230)\u001b[0m 2898/2969 [============================>.] - ETA: 0s - loss: 0.5798 - mae: 0.3964 - accuracy: 0.6931\n",
      "Result for train_model_4_disc_params.group_lasso.l1=0.8419,guess_params.group_lasso.l1=9.5492,slip_params.group_lasso.l1=4.4229:\n",
      "  checkpoint: weights_tune_[(1, 'disc_params.group_lasso.l1'), (6, 'guess_params.group_lasso.l1'),\n",
      "    (5, 'slip_params.group_lasso.l1')].h5\n",
      "  date: 2021-08-05_12-42-24\n",
      "  done: true\n",
      "  experiment_id: 8877a1b470414e1680751ff7d7118d16\n",
      "  hostname: d005995f49c5\n",
      "  iterations_since_restore: 1\n",
      "  mean_accuracy: 0.6931789517402649\n",
      "  mean_error: 0.5796586275100708\n",
      "  node_ip: 172.28.0.2\n",
      "  pid: 3230\n",
      "  time_since_restore: 333.13375973701477\n",
      "  time_this_iter_s: 333.13375973701477\n",
      "  time_total_s: 333.13375973701477\n",
      "  timestamp: 1628167344\n",
      "  timesteps_since_restore: 0\n",
      "  training_iteration: 1\n",
      "  \n",
      "\u001b[2m\u001b[36m(pid=3230)\u001b[0m \b\b\b\b\b\b\b\b\b\b\b\b\b\b\b\b\b\b\b\b\b\b\b\b\b\b\b\b\b\b\b\b\b\b\b\b\b\b\b\b\b\b\b\b\b\b\b\b\b\b\b\b\b\b\b\b\b\b\b\b\b\b\b\b\b\b\b\b\b\b\b\b\b\b\b\b\b\b\b\b\b\b\b\b\b\b\b\b\b\b\b\b\b\b\b\b\b\b\b\b\n",
      "\u001b[2m\u001b[36m(pid=3230)\u001b[0m 2951/2969 [============================>.] - ETA: 0s - loss: 0.5796 - mae: 0.3963 - accuracy: 0.6932\b\b\b\b\b\b\b\b\b\b\b\b\b\b\b\b\b\b\b\b\b\b\b\b\b\b\b\b\b\b\b\b\b\b\b\b\b\b\b\b\b\b\b\b\b\b\b\b\b\b\b\b\b\b\b\b\b\b\b\b\b\b\b\b\b\b\b\b\b\b\b\b\b\b\b\b\b\b\b\b\b\b\b\b\b\b\b\b\b\b\b\b\b\b\b\b\b\b\b\b\n",
      "\u001b[2m\u001b[36m(pid=3230)\u001b[0m 2969/2969 [==============================] - 3s 873us/step - loss: 0.5797 - mae: 0.3963 - accuracy: 0.6932\n",
      "== Status ==\n",
      "Using AsyncHyperBand: num_stopped=0\n",
      "Bracket: Iter 90.000: None | Iter 30.000: None | Iter 10.000: None\n",
      "Bracket: Iter 90.000: None | Iter 30.000: None\n",
      "Bracket: Iter 90.000: None\n",
      "Resources requested: 0/4 CPUs, 0/1 GPUs\n",
      "Memory usage on this node: 1.7/13.6 GB\n",
      "Result logdir: /root/ray_results/hyperOpt_optimization\n",
      "Number of trials: 4 ({'TERMINATED': 4})\n",
      "TERMINATED trials:\n",
      " - train_model_1_disc_params.group_lasso.l1=2.7829,guess_params.group_lasso.l1=3.9435,slip_params.group_lasso.l1=5.9648:\tTERMINATED, [4 CPUs, 0 GPUs], [pid=312], 327 s, 1 iter, 0.693 acc\n",
      " - train_model_2_disc_params.group_lasso.l1=6.5627,guess_params.group_lasso.l1=2.9186,slip_params.group_lasso.l1=1.3818:\tTERMINATED, [4 CPUs, 0 GPUs], [pid=313], 327 s, 1 iter, 0.693 acc\n",
      " - train_model_3_disc_params.group_lasso.l1=6.6343,guess_params.group_lasso.l1=7.145,slip_params.group_lasso.l1=5.1955:\tTERMINATED, [4 CPUs, 0 GPUs], [pid=3225], 337 s, 1 iter, 0.693 acc\n",
      " - train_model_4_disc_params.group_lasso.l1=0.8419,guess_params.group_lasso.l1=9.5492,slip_params.group_lasso.l1=4.4229:\tTERMINATED, [4 CPUs, 0 GPUs], [pid=3230], 333 s, 1 iter, 0.693 acc\n",
      "\n",
      "== Status ==\n",
      "Using AsyncHyperBand: num_stopped=0\n",
      "Bracket: Iter 90.000: None | Iter 30.000: None | Iter 10.000: None\n",
      "Bracket: Iter 90.000: None | Iter 30.000: None\n",
      "Bracket: Iter 90.000: None\n",
      "Resources requested: 0/4 CPUs, 0/1 GPUs\n",
      "Memory usage on this node: 1.7/13.6 GB\n",
      "Result logdir: /root/ray_results/hyperOpt_optimization\n",
      "Number of trials: 4 ({'TERMINATED': 4})\n",
      "TERMINATED trials:\n",
      " - train_model_1_disc_params.group_lasso.l1=2.7829,guess_params.group_lasso.l1=3.9435,slip_params.group_lasso.l1=5.9648:\tTERMINATED, [4 CPUs, 0 GPUs], [pid=312], 327 s, 1 iter, 0.693 acc\n",
      " - train_model_2_disc_params.group_lasso.l1=6.5627,guess_params.group_lasso.l1=2.9186,slip_params.group_lasso.l1=1.3818:\tTERMINATED, [4 CPUs, 0 GPUs], [pid=313], 327 s, 1 iter, 0.693 acc\n",
      " - train_model_3_disc_params.group_lasso.l1=6.6343,guess_params.group_lasso.l1=7.145,slip_params.group_lasso.l1=5.1955:\tTERMINATED, [4 CPUs, 0 GPUs], [pid=3225], 337 s, 1 iter, 0.693 acc\n",
      " - train_model_4_disc_params.group_lasso.l1=0.8419,guess_params.group_lasso.l1=9.5492,slip_params.group_lasso.l1=4.4229:\tTERMINATED, [4 CPUs, 0 GPUs], [pid=3230], 333 s, 1 iter, 0.693 acc\n",
      "\n",
      "Creating model...\n",
      "\n",
      "config val 1:\n",
      " key_list: ['disc_params', 'group_lasso'];\n",
      " values: {'l1': 0.8418982931597918, 'l2': 0}\n",
      "\n",
      "\n",
      "\n",
      "config val 2:\n",
      " key_list: ['guess_params', 'group_lasso'];\n",
      " values: {'l1': 9.54924129569551, 'l2': 0}\n",
      "\n",
      "\n",
      "\n",
      "config val 3:\n",
      " key_list: ['slip_params', 'group_lasso'];\n",
      " values: {'l1': 4.4228552146004905, 'l2': 0}\n",
      "\n",
      "\n",
      "Loading from /root/ray_results/hyperOpt_optimization/train_model_4_disc_params.group_lasso.l1=0.8419,guess_params.group_lasso.l1=9.5492,slip_params.group_lasso.l1=4.4229_2021-08-05_12-36-48_oe4qj2r/weights_tune_[(1, 'disc_params.group_lasso.l1'), (6, 'guess_params.group_lasso.l1'), (5, 'slip_params.group_lasso.l1')].h5\n",
      "2969/2969 [==============================] - 16s 976us/step - loss: 0.5790 - mae: 0.3961 - accuracy: 0.6922\n",
      "\n",
      "Training on : 95000 samples for : 450 epochs has completed in : 1340.374 seconds.\n",
      "\n",
      "AIC value: 1005.091 and AICc value: 1010.435\n",
      "\n",
      "Use `object.plot()` to view train/validation loss curves;\n",
      "Use `object.history` to obtain train/validation loss across all the epochs.\n",
      "Use `object.coefficients()` to obtain model parameters--Question difficulty, discrimination, guessing & slip\n",
      "Use `object.AIC` & `object.AIC` to obtain Akaike Information Criterion(AIC & AICc) values.\n"
     ]
    },
    {
     "data": {
      "text/plain": [
       "<mlsquare.adapters.sklearn.IrtKerasRegressor at 0x7fc100c44c10>"
      ]
     },
     "execution_count": 4,
     "metadata": {
      "tags": []
     },
     "output_type": "execute_result"
    }
   ],
   "source": [
    "from mlsquare import dope\n",
    "\n",
    "model_4t1 = dope(primal)\n",
    "model_4t1.fit(x_user= x_train_user, x_questions= x_train_questions, y_vals= y_train, batch_size= 128, epochs=450,\n",
    "        params=params_, nas_params=nas_params)\n"
   ]
  },
  {
   "cell_type": "markdown",
   "metadata": {
    "id": "FPAAezzjAArf"
   },
   "source": [
    "**Following lists the layer names in order from model archiecture of doped model.**\n",
    "\n",
    "Note:\n",
    "* trained weights of layer 8 named `slip_param` corresponds to  slip parameter values.\n",
    "* trained weights of layer 9 named `guessing_param` corresponds to guess parameter values.\n",
    "* trained weights of layer 1 named `disc_param` corresponds to discrimination parameter values.\n",
    "* trained weights of layer 4 named `latent_trait/ability` corresponds to user ability values."
   ]
  },
  {
   "cell_type": "code",
   "execution_count": 5,
   "metadata": {
    "colab": {
     "base_uri": "https://localhost:8080/"
    },
    "id": "InhJhIsvA98d",
    "outputId": "deca0bd4-cc9b-4fc9-c880-fce58ce88659"
   },
   "outputs": [
    {
     "name": "stdout",
     "output_type": "stream",
     "text": [
      "0 and layer name: questions/items\n",
      "1 and layer name: disc_param\n",
      "2 and layer name: user_id\n",
      "3 and layer name: disc_activation\n",
      "4 and layer name: latent_trait/ability\n",
      "5 and layer name: difficulty_level\n",
      "6 and layer name: lambda_latent_inter.\n",
      "7 and layer name: alpha_param.\n",
      "8 and layer name: slip_param\n",
      "9 and layer name: guessing_param\n",
      "10 and layer name: alpha_lambda_add\n",
      "11 and layer name: slip_param_inter.\n",
      "12 and layer name: Sigmoid_func\n",
      "13 and layer name: slip/guess_interaction\n",
      "14 and layer name: disc/guess_param_inter.\n",
      "15 and layer name: guess_param_inter/add\n",
      "16 and layer name: prediction_layer\n"
     ]
    }
   ],
   "source": [
    "for idx, lay in enumerate(model_4t1.model.layers):\n",
    "    print('{} and layer name: {}'.format(idx, lay.name))"
   ]
  },
  {
   "cell_type": "markdown",
   "metadata": {
    "id": "eWwUcNPyWdp6"
   },
   "source": [
    "### Obtain User & Item parameters from trained 4PL IRT model\n",
    "**User parameters (per user):** Ability values.\n",
    "\n",
    "**Item parameters (per item):** Item difficulty, Item Discrimination, Item guessability, Item Slip\n",
    "\n"
   ]
  },
  {
   "cell_type": "code",
   "execution_count": 6,
   "metadata": {
    "id": "P5-4mNg1lrTV"
   },
   "outputs": [],
   "source": [
    "import matplotlib.pyplot as plt\n",
    "def get_keras_parameters(model, xtrain):# model is a dope object\n",
    "    ability = model.coefficients()['latent_trait/ability']\n",
    "    ability = [x[0] for x in ability]\n",
    "\n",
    "    diff= model.coefficients()['difficulty_level']\n",
    "    diff = [x[0] for x in diff]\n",
    "    \n",
    "    disc= model.coefficients()['disc_param']\n",
    "    disc = [x[0] for x in disc]\n",
    "    \n",
    "    guess= model.coefficients()['guessing_param']\n",
    "    guess = [x[0] for x in guess]\n",
    "    \n",
    "    slip= model.coefficients()['slip_param']\n",
    "    slip = [x[0] for x in slip]\n",
    "\n",
    "    question_code = pd.get_dummies(xtrain['question_code']).columns\n",
    "    df_quest_related_params = pd.DataFrame({'slip_keras':slip, 'guessing_keras':guess, 'discrimination_keras': disc,'difficulty_keras': diff, 'question_code':question_code})\n",
    "\n",
    "    user_id = pd.get_dummies(xtrain['user_id']).columns\n",
    "    df_ability = pd.DataFrame({'user_id':user_id, 'ability_keras':ability})\n",
    "    return df_quest_related_params, df_ability\n",
    "\n",
    "def scatter_plot(x, y, x_label, y_label):\n",
    "    fig = plt.figure()\n",
    "    ax = fig.add_subplot(1, 1, 1)\n",
    "    min_x = min(list(x)+list(y)) - 0.5\n",
    "    max_x = max(list(x)+list(y)) + 0.5\n",
    "    ax.plot([min_x, max_x], [min_x, max_x])\n",
    "    \n",
    "    ax.set_xlim([min_x, max_x])\n",
    "    ax.set_ylim([min_x, max_x])\n",
    "    \n",
    "    ax.set_title('{} vs. {} correlation scatterplot'.format(x_label, y_label))\n",
    "    ax.scatter(x, y, c=\"red\")\n",
    "    plt.ylabel(y_label)\n",
    "    plt.xlabel(x_label)\n",
    "    plt.show()\n",
    "    \n",
    "def hexbin_plot(x, y, x_label, y_label):\n",
    "    fig = plt.figure()\n",
    "    ax = fig.add_subplot(1, 1, 1)\n",
    "    min_x = min(list(x)+list(y)) - 0.1\n",
    "    max_x = max(list(x)+list(y)) + 0.1\n",
    "    ax.plot([min_x, max_x], [min_x, max_x])\n",
    "    \n",
    "    ax.set_xlim([min_x, max_x])\n",
    "    ax.set_ylim([min_x, max_x])\n",
    "    \n",
    "    ax.set_title('{} vs. {} correlation scatterplot'.format(x_label, y_label))\n",
    "    hbin= ax.hexbin(x, y, gridsize=25, mincnt=2)\n",
    "    cb = fig.colorbar(hbin, ax=ax)\n",
    "    cb.set_label('occurence_density')\n",
    "    plt.ylabel(y_label)\n",
    "    plt.xlabel(x_label)\n",
    "    plt.show()"
   ]
  },
  {
   "cell_type": "code",
   "execution_count": 7,
   "metadata": {
    "colab": {
     "base_uri": "https://localhost:8080/",
     "height": 162
    },
    "id": "A6Ki8gvRnTlm",
    "outputId": "89ef0cfd-2965-4de2-c837-8e08261023d6"
   },
   "outputs": [
    {
     "data": {
      "text/html": [
       "<div>\n",
       "<style scoped>\n",
       "    .dataframe tbody tr th:only-of-type {\n",
       "        vertical-align: middle;\n",
       "    }\n",
       "\n",
       "    .dataframe tbody tr th {\n",
       "        vertical-align: top;\n",
       "    }\n",
       "\n",
       "    .dataframe thead th {\n",
       "        text-align: right;\n",
       "    }\n",
       "</style>\n",
       "<table border=\"1\" class=\"dataframe\">\n",
       "  <thead>\n",
       "    <tr style=\"text-align: right;\">\n",
       "      <th></th>\n",
       "      <th>slip_keras</th>\n",
       "      <th>guessing_keras</th>\n",
       "      <th>discrimination_keras</th>\n",
       "      <th>difficulty_keras</th>\n",
       "      <th>question_code</th>\n",
       "      <th>difficulty_true</th>\n",
       "      <th>discrimination_true</th>\n",
       "      <th>guessing_true</th>\n",
       "      <th>slip_true</th>\n",
       "    </tr>\n",
       "  </thead>\n",
       "  <tbody>\n",
       "    <tr>\n",
       "      <th>0</th>\n",
       "      <td>0.000089</td>\n",
       "      <td>0.000052</td>\n",
       "      <td>0.999977</td>\n",
       "      <td>-1.041043</td>\n",
       "      <td>que_0</td>\n",
       "      <td>-1.000000</td>\n",
       "      <td>1</td>\n",
       "      <td>0</td>\n",
       "      <td>0</td>\n",
       "    </tr>\n",
       "    <tr>\n",
       "      <th>1</th>\n",
       "      <td>0.000088</td>\n",
       "      <td>0.000049</td>\n",
       "      <td>0.999977</td>\n",
       "      <td>-1.027209</td>\n",
       "      <td>que_1</td>\n",
       "      <td>-0.979798</td>\n",
       "      <td>1</td>\n",
       "      <td>0</td>\n",
       "      <td>0</td>\n",
       "    </tr>\n",
       "    <tr>\n",
       "      <th>2</th>\n",
       "      <td>0.000079</td>\n",
       "      <td>0.000043</td>\n",
       "      <td>1.000103</td>\n",
       "      <td>-0.749467</td>\n",
       "      <td>que_10</td>\n",
       "      <td>-0.797980</td>\n",
       "      <td>1</td>\n",
       "      <td>0</td>\n",
       "      <td>0</td>\n",
       "    </tr>\n",
       "  </tbody>\n",
       "</table>\n",
       "</div>"
      ],
      "text/plain": [
       "   slip_keras  guessing_keras  ...  guessing_true  slip_true\n",
       "0    0.000089        0.000052  ...              0          0\n",
       "1    0.000088        0.000049  ...              0          0\n",
       "2    0.000079        0.000043  ...              0          0\n",
       "\n",
       "[3 rows x 9 columns]"
      ]
     },
     "execution_count": 7,
     "metadata": {
      "tags": []
     },
     "output_type": "execute_result"
    }
   ],
   "source": [
    "question_code = pd.get_dummies(xtrain['question_code']).columns\n",
    "user_id = pd.get_dummies(xtrain['user_id']).columns\n",
    "\n",
    "quest_related_params_df, ability_df = get_keras_parameters(model_4t1, xtrain)\n",
    "\n",
    "true_difficulty = {_.question_code: _.difficulty for _ in train_data.itertuples()}\n",
    "quest_related_params_df['difficulty_true'] = quest_related_params_df['question_code'].apply(lambda x: true_difficulty.get(x))\n",
    "\n",
    "quest_related_params_df['discrimination_true']= 1#Disc 1; Since Input data was for 1 PL model\n",
    "\n",
    "quest_related_params_df['guessing_true'] = 0 #Guess 0; Since Input data was for 1 PL model\n",
    "\n",
    "quest_related_params_df['slip_true']=0 #Slip 0; Since Input data was for 1 PL model\n",
    "\n",
    "quest_related_params_df.head(3)"
   ]
  },
  {
   "cell_type": "code",
   "execution_count": 8,
   "metadata": {
    "colab": {
     "base_uri": "https://localhost:8080/",
     "height": 142
    },
    "id": "S7lJoU_fAArh",
    "outputId": "33926cf4-80a4-4339-cdca-30d34c90d029"
   },
   "outputs": [
    {
     "data": {
      "text/html": [
       "<div>\n",
       "<style scoped>\n",
       "    .dataframe tbody tr th:only-of-type {\n",
       "        vertical-align: middle;\n",
       "    }\n",
       "\n",
       "    .dataframe tbody tr th {\n",
       "        vertical-align: top;\n",
       "    }\n",
       "\n",
       "    .dataframe thead th {\n",
       "        text-align: right;\n",
       "    }\n",
       "</style>\n",
       "<table border=\"1\" class=\"dataframe\">\n",
       "  <thead>\n",
       "    <tr style=\"text-align: right;\">\n",
       "      <th></th>\n",
       "      <th>user_id</th>\n",
       "      <th>ability_keras</th>\n",
       "      <th>ability_true</th>\n",
       "    </tr>\n",
       "  </thead>\n",
       "  <tbody>\n",
       "    <tr>\n",
       "      <th>0</th>\n",
       "      <td>user_0</td>\n",
       "      <td>-0.484500</td>\n",
       "      <td>-0.501354</td>\n",
       "    </tr>\n",
       "    <tr>\n",
       "      <th>1</th>\n",
       "      <td>user_1</td>\n",
       "      <td>0.336772</td>\n",
       "      <td>0.330120</td>\n",
       "    </tr>\n",
       "    <tr>\n",
       "      <th>2</th>\n",
       "      <td>user_10</td>\n",
       "      <td>2.554405</td>\n",
       "      <td>2.763429</td>\n",
       "    </tr>\n",
       "  </tbody>\n",
       "</table>\n",
       "</div>"
      ],
      "text/plain": [
       "   user_id  ability_keras  ability_true\n",
       "0   user_0      -0.484500     -0.501354\n",
       "1   user_1       0.336772      0.330120\n",
       "2  user_10       2.554405      2.763429"
      ]
     },
     "execution_count": 8,
     "metadata": {
      "tags": []
     },
     "output_type": "execute_result"
    }
   ],
   "source": [
    "true_ability = {_.user_id: _.ability for _ in train_data.itertuples()}\n",
    "ability_df['ability_true'] = ability_df['user_id'].apply(lambda x: true_ability.get(x))\n",
    "ability_df.head(3)"
   ]
  },
  {
   "cell_type": "markdown",
   "metadata": {
    "id": "me6Q39jXXvby"
   },
   "source": [
    "_________________________________________\n",
    "### Plots: Observed parameters vs. True parameters correlation\n",
    "\n",
    "#### 1. Observed Slip vs. True Slip"
   ]
  },
  {
   "cell_type": "code",
   "execution_count": 17,
   "metadata": {
    "colab": {
     "base_uri": "https://localhost:8080/",
     "height": 295
    },
    "id": "YwaDE8BzbQoi",
    "outputId": "8e8c7dc6-0fa2-4429-f6de-7cf100fcaeea"
   },
   "outputs": [
    {
     "data": {
      "image/png": "[encoded data removed]",
      "text/plain": [
       "<Figure size 432x288 with 1 Axes>"
      ]
     },
     "metadata": {
      "needs_background": "light",
      "tags": []
     },
     "output_type": "display_data"
    }
   ],
   "source": [
    "scatter_plot(quest_related_params_df['slip_true'], quest_related_params_df['slip_keras'], \"True slip\", \"Observed slip\")"
   ]
  },
  {
   "cell_type": "markdown",
   "metadata": {
    "id": "HsGN8Y-tYGeV"
   },
   "source": [
    "#### 2. Observed Guess vs. True Guess"
   ]
  },
  {
   "cell_type": "code",
   "execution_count": 18,
   "metadata": {
    "colab": {
     "base_uri": "https://localhost:8080/",
     "height": 295
    },
    "id": "W4GUoXv1brmR",
    "outputId": "283e5b65-f01a-4486-8566-af7f4f79ebe2"
   },
   "outputs": [
    {
     "data": {
      "image/png": "[encoded data removed]",
      "text/plain": [
       "<Figure size 432x288 with 1 Axes>"
      ]
     },
     "metadata": {
      "needs_background": "light",
      "tags": []
     },
     "output_type": "display_data"
    }
   ],
   "source": [
    "scatter_plot(quest_related_params_df['guessing_true'], quest_related_params_df['guessing_keras'], \"True guessing\", \"Observed guessing\")"
   ]
  },
  {
   "cell_type": "markdown",
   "metadata": {
    "id": "chnHU2Y6YmzO"
   },
   "source": [
    "#### 3. Observed Discrimination vs. True Discrimination"
   ]
  },
  {
   "cell_type": "code",
   "execution_count": 19,
   "metadata": {
    "colab": {
     "base_uri": "https://localhost:8080/",
     "height": 295
    },
    "id": "igG6LF1Wbwkj",
    "outputId": "eee0a526-fdbf-433c-814b-094843854d0c"
   },
   "outputs": [
    {
     "data": {
      "image/png": "[encoded data removed]",
      "text/plain": [
       "<Figure size 432x288 with 1 Axes>"
      ]
     },
     "metadata": {
      "needs_background": "light",
      "tags": []
     },
     "output_type": "display_data"
    }
   ],
   "source": [
    "scatter_plot(quest_related_params_df['discrimination_true'], quest_related_params_df[\"discrimination_keras\"], \"True discrimination\", \"Observed discrimination\")\n"
   ]
  },
  {
   "cell_type": "markdown",
   "metadata": {
    "id": "9qRbcdTYY9nZ"
   },
   "source": [
    "#### 4. Observed Difficulty vs. True Difficulty"
   ]
  },
  {
   "cell_type": "code",
   "execution_count": 20,
   "metadata": {
    "colab": {
     "base_uri": "https://localhost:8080/",
     "height": 295
    },
    "id": "fKOTem8WcysD",
    "outputId": "1d13b767-8127-4c89-9266-ebc2cd1b1e6a"
   },
   "outputs": [
    {
     "data": {
      "image/png": "[encoded data removed]",
      "text/plain": [
       "<Figure size 432x288 with 1 Axes>"
      ]
     },
     "metadata": {
      "needs_background": "light",
      "tags": []
     },
     "output_type": "display_data"
    }
   ],
   "source": [
    "scatter_plot(quest_related_params_df['difficulty_true'], quest_related_params_df['difficulty_keras'], \"True Difficulty\", \"Observed difficulty\")\n"
   ]
  },
  {
   "cell_type": "markdown",
   "metadata": {
    "id": "keoqGOFUZPdU"
   },
   "source": [
    "#### 5. Observed Abilities vs. True Abilities"
   ]
  },
  {
   "cell_type": "code",
   "execution_count": 21,
   "metadata": {
    "colab": {
     "base_uri": "https://localhost:8080/",
     "height": 295
    },
    "id": "X7I_i0xDc3hf",
    "outputId": "cdc32bc4-e313-4452-911a-0b900cd55b46"
   },
   "outputs": [
    {
     "data": {
      "image/png": "[encoded data removed]",
      "text/plain": [
       "<Figure size 432x288 with 1 Axes>"
      ]
     },
     "metadata": {
      "needs_background": "light",
      "tags": []
     },
     "output_type": "display_data"
    }
   ],
   "source": [
    "scatter_plot(ability_df['ability_true'], ability_df['ability_keras'], \"True Ability\", \"Observed Ability\")\n"
   ]
  },
  {
   "cell_type": "markdown",
   "metadata": {
    "id": "Hf0kqR3_ZkAc"
   },
   "source": [
    "#### 6. Observed Response vs. True Response"
   ]
  },
  {
   "cell_type": "code",
   "execution_count": 14,
   "metadata": {
    "colab": {
     "base_uri": "https://localhost:8080/",
     "height": 224
    },
    "id": "B3w-dAjHdWep",
    "outputId": "f9696229-3e94-4b56-fd19-c98d37df1a0e"
   },
   "outputs": [
    {
     "data": {
      "text/html": [
       "<div>\n",
       "<style scoped>\n",
       "    .dataframe tbody tr th:only-of-type {\n",
       "        vertical-align: middle;\n",
       "    }\n",
       "\n",
       "    .dataframe tbody tr th {\n",
       "        vertical-align: top;\n",
       "    }\n",
       "\n",
       "    .dataframe thead th {\n",
       "        text-align: right;\n",
       "    }\n",
       "</style>\n",
       "<table border=\"1\" class=\"dataframe\">\n",
       "  <thead>\n",
       "    <tr style=\"text-align: right;\">\n",
       "      <th></th>\n",
       "      <th>question_code</th>\n",
       "      <th>user_id</th>\n",
       "      <th>difficulty</th>\n",
       "      <th>ability</th>\n",
       "      <th>response</th>\n",
       "      <th>correctness</th>\n",
       "      <th>difficulty_keras</th>\n",
       "      <th>ability_keras</th>\n",
       "      <th>guessing_keras</th>\n",
       "      <th>slip_keras</th>\n",
       "      <th>discrimination_keras</th>\n",
       "      <th>response_keras</th>\n",
       "    </tr>\n",
       "  </thead>\n",
       "  <tbody>\n",
       "    <tr>\n",
       "      <th>0</th>\n",
       "      <td>que_99</td>\n",
       "      <td>user_99</td>\n",
       "      <td>1.0</td>\n",
       "      <td>0.559055</td>\n",
       "      <td>0.391516</td>\n",
       "      <td>0</td>\n",
       "      <td>1.011985</td>\n",
       "      <td>0.401654</td>\n",
       "      <td>0.000047</td>\n",
       "      <td>0.000125</td>\n",
       "      <td>1.000112</td>\n",
       "      <td>0.351987</td>\n",
       "    </tr>\n",
       "    <tr>\n",
       "      <th>10</th>\n",
       "      <td>que_99</td>\n",
       "      <td>user_98</td>\n",
       "      <td>1.0</td>\n",
       "      <td>0.164593</td>\n",
       "      <td>0.302503</td>\n",
       "      <td>0</td>\n",
       "      <td>1.011985</td>\n",
       "      <td>0.181314</td>\n",
       "      <td>0.000047</td>\n",
       "      <td>0.000125</td>\n",
       "      <td>1.000112</td>\n",
       "      <td>0.303506</td>\n",
       "    </tr>\n",
       "    <tr>\n",
       "      <th>20</th>\n",
       "      <td>que_99</td>\n",
       "      <td>user_97</td>\n",
       "      <td>1.0</td>\n",
       "      <td>0.566402</td>\n",
       "      <td>0.393268</td>\n",
       "      <td>1</td>\n",
       "      <td>1.011985</td>\n",
       "      <td>0.517328</td>\n",
       "      <td>0.000047</td>\n",
       "      <td>0.000125</td>\n",
       "      <td>1.000112</td>\n",
       "      <td>0.378801</td>\n",
       "    </tr>\n",
       "    <tr>\n",
       "      <th>30</th>\n",
       "      <td>que_99</td>\n",
       "      <td>user_96</td>\n",
       "      <td>1.0</td>\n",
       "      <td>1.186521</td>\n",
       "      <td>0.546496</td>\n",
       "      <td>0</td>\n",
       "      <td>1.011985</td>\n",
       "      <td>1.059723</td>\n",
       "      <td>0.000047</td>\n",
       "      <td>0.000125</td>\n",
       "      <td>1.000112</td>\n",
       "      <td>0.511940</td>\n",
       "    </tr>\n",
       "    <tr>\n",
       "      <th>40</th>\n",
       "      <td>que_99</td>\n",
       "      <td>user_95</td>\n",
       "      <td>1.0</td>\n",
       "      <td>-0.039525</td>\n",
       "      <td>0.261242</td>\n",
       "      <td>0</td>\n",
       "      <td>1.011985</td>\n",
       "      <td>-0.229570</td>\n",
       "      <td>0.000047</td>\n",
       "      <td>0.000125</td>\n",
       "      <td>1.000112</td>\n",
       "      <td>0.224170</td>\n",
       "    </tr>\n",
       "  </tbody>\n",
       "</table>\n",
       "</div>"
      ],
      "text/plain": [
       "   question_code  user_id  ...  discrimination_keras  response_keras\n",
       "0         que_99  user_99  ...              1.000112        0.351987\n",
       "10        que_99  user_98  ...              1.000112        0.303506\n",
       "20        que_99  user_97  ...              1.000112        0.378801\n",
       "30        que_99  user_96  ...              1.000112        0.511940\n",
       "40        que_99  user_95  ...              1.000112        0.224170\n",
       "\n",
       "[5 rows x 12 columns]"
      ]
     },
     "execution_count": 14,
     "metadata": {
      "tags": []
     },
     "output_type": "execute_result"
    }
   ],
   "source": [
    "import math\n",
    "def fourPL_func(ability, diff, disc, guess, slip):\n",
    "    res= guess + ((1-slip) + guess)*(1 / (1 + math.exp(-disc*(ability-diff))))\n",
    "    return res\n",
    "def get_true_values(quest_related_params_df, ability_df, train_data):\n",
    "    difficulty_keras_map = {_.question_code: _.difficulty_keras for _ in quest_related_params_df.itertuples()}\n",
    "    ability_keras_map = {_.user_id: _.ability_keras for _ in ability_df.itertuples()}\n",
    "    guessing_keras_map = {_.question_code: _.guessing_keras for _ in quest_related_params_df.itertuples()}\n",
    "    slip_keras_map = {_.question_code: _.slip_keras for _ in quest_related_params_df.itertuples()}\n",
    "    discrimination_keras_map = {_.question_code: _.discrimination_keras for _ in quest_related_params_df.itertuples()}\n",
    "\n",
    "    train_data = train_data.drop_duplicates(['question_code', 'user_id'])\n",
    "    train_data['difficulty_keras'] = train_data['question_code'].apply(lambda x: difficulty_keras_map.get(x))\n",
    "    train_data['ability_keras'] = train_data['user_id'].apply(lambda x: ability_keras_map.get(x))\n",
    "    train_data['guessing_keras'] = train_data['question_code'].apply(lambda x: guessing_keras_map.get(x))\n",
    "    train_data['slip_keras']= train_data['question_code'].apply(lambda x: slip_keras_map.get(x))\n",
    "    train_data['discrimination_keras'] = train_data['question_code'].apply(lambda x: discrimination_keras_map.get(x))\n",
    "    train_data['response_keras'] = train_data.apply(lambda x: fourPL_func(x['ability_keras'], x['difficulty_keras'], x['discrimination_keras'], x['guessing_keras'], x['slip_keras']), axis=1)\n",
    "    return train_data\n",
    "\n",
    "\n",
    "train_data = get_true_values(quest_related_params_df, ability_df, train_data)\n",
    "train_data.head(5)\n"
   ]
  },
  {
   "cell_type": "code",
   "execution_count": 22,
   "metadata": {
    "colab": {
     "base_uri": "https://localhost:8080/",
     "height": 295
    },
    "id": "VyN19vbQdFOv",
    "outputId": "1879d074-1e7a-4636-fadd-d9b3f8839913"
   },
   "outputs": [
    {
     "data": {
      "image/png": "[encoded data removed]",
      "text/plain": [
       "<Figure size 432x288 with 2 Axes>"
      ]
     },
     "metadata": {
      "needs_background": "light",
      "tags": []
     },
     "output_type": "display_data"
    }
   ],
   "source": [
    "\n",
    "hexbin_plot(train_data['response'], train_data['response_keras'], \"True Response\", \"Observed Response\")\n"
   ]
  },
  {
   "cell_type": "markdown",
   "metadata": {
    "id": "qAS78LywaLPS"
   },
   "source": [
    "__________________________________"
   ]
  }
 ],
 "metadata": {
  "accelerator": "GPU",
  "author": "definition",
  "colab": {
   "collapsed_sections": [],
   "name": "Copy of mlsquare_4PL_as_1PL_use_of_nas.ipynb",
   "provenance": []
  },
  "kernelspec": {
   "display_name": "Python 3",
   "language": "python",
   "name": "python3"
  },
  "language_info": {
   "codemirror_mode": {
    "name": "ipython",
    "version": 3
   },
   "file_extension": ".py",
   "mimetype": "text/x-python",
   "name": "python",
   "nbconvert_exporter": "python",
   "pygments_lexer": "ipython3",
   "version": "3.8.10"
  },
  "latex_envs": {
   "LaTeX_envs_menu_present": true,
   "autoclose": false,
   "autocomplete": true,
   "bibliofile": "biblio.bib",
   "cite_by": "apalike",
   "current_citInitial": 1,
   "eqLabelWithNumbers": true,
   "eqNumInitial": 1,
   "hotkeys": {
    "equation": "Ctrl-E",
    "itemize": "Ctrl-I"
   },
   "labels_anchors": false,
   "latex_user_defs": false,
   "report_style_numbering": false,
   "user_envs_cfg": false
  },
  "toc": {
   "base_numbering": 1,
   "nav_menu": {},
   "number_sections": true,
   "sideBar": true,
   "skip_h1_title": false,
   "title_cell": "Table of Contents",
   "title_sidebar": "Contents",
   "toc_cell": false,
   "toc_position": {
    "height": "calc(100% - 180px)",
    "left": "10px",
    "top": "150px",
    "width": "335px"
   },
   "toc_section_display": true,
   "toc_window_display": false
  }
 },
 "nbformat": 4,
 "nbformat_minor": 1
}
